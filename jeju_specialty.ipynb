{
 "cells": [
  {
   "cell_type": "code",
   "execution_count": 1,
   "metadata": {},
   "outputs": [],
   "source": [
    "import pandas as pd\n",
    "import numpy as np\n",
    "import datetime\n",
    "import random\n",
    "import os\n",
    "import sys\n",
    "import holidays\n",
    "\n",
    "\n",
    "import sklearn\n",
    "from sklearn.ensemble import VotingRegressor\n",
    "from sklearn.preprocessing import LabelEncoder\n",
    "from sklearn.metrics import mean_squared_error\n",
    "\n",
    "\n",
    "import xgboost\n",
    "from xgboost import XGBRegressor\n",
    "import catboost\n",
    "from catboost import CatBoostRegressor"
   ]
  },
  {
   "cell_type": "code",
   "execution_count": 2,
   "metadata": {},
   "outputs": [
    {
     "name": "stdout",
     "output_type": "stream",
     "text": [
      "파이썬 버전 : 3.10.13 (main, Mar 21 2024, 13:39:43) [GCC 11.4.0]\n",
      "pandas 버전 : 2.2.1\n",
      "numpy 버전 : 1.26.4\n",
      "sklearn 버전 : 1.4.1.post1\n",
      "xgboost 버전 확인 : 2.0.3\n",
      "catboost 버전 : 1.2.3\n"
     ]
    }
   ],
   "source": [
    "print(f\"파이썬 버전 : {sys.version}\")\n",
    "print(f\"pandas 버전 : {pd.__version__}\")\n",
    "print(f\"numpy 버전 : {np.__version__}\")\n",
    "print(f\"sklearn 버전 : {sklearn.__version__}\")\n",
    "print(f\"xgboost 버전 확인 : {xgboost.__version__}\")\n",
    "print(f\"catboost 버전 : {catboost.__version__}\")"
   ]
  },
  {
   "cell_type": "code",
   "execution_count": 21,
   "metadata": {},
   "outputs": [],
   "source": [
    "def seed_everything(seed):\n",
    "    random.seed(seed)\n",
    "    os.environ['PYTHONHASHSEED'] = str(seed)\n",
    "    np.random.seed(seed)\n",
    "\n",
    "seed_everything(2024) # Seed 고정"
   ]
  },
  {
   "cell_type": "code",
   "execution_count": 7,
   "metadata": {},
   "outputs": [],
   "source": [
    "train = pd.read_csv('/mnt/c/Users/wschu/OneDrive/Documents/data/jeju_specialty/open/train.csv')\n",
    "test = pd.read_csv('/mnt/c/Users/wschu/OneDrive/Documents/data/jeju_specialty/open/test.csv')"
   ]
  },
  {
   "cell_type": "code",
   "execution_count": 5,
   "metadata": {},
   "outputs": [],
   "source": [
    "def pre_all(train, test):\n",
    "    print(f\"전처리 전 train 크기 : {train.shape}\")\n",
    "    print(f\"전처리 전 test 크기 : {test.shape}\")\n",
    "    print(\"=================전처리 중=================\")\n",
    "\n",
    "    # 합쳐서 전처리하기\n",
    "    train[\"timestamp\"] = pd.to_datetime(train[\"timestamp\"])\n",
    "    test[\"timestamp\"] = pd.to_datetime(test[\"timestamp\"])\n",
    "    df = pd.concat([train,test]).reset_index(drop = True)\n",
    "\n",
    "    df.rename(columns={'supply(kg)':'supply', 'price(원/kg)':'price'},inplace=True)\n",
    "\n",
    "    #년/월/일 추가\n",
    "    df['year']=df['timestamp'].dt.year\n",
    "    df['month']=df['timestamp'].dt.month\n",
    "    df['day']=df['timestamp'].dt.day\n",
    "\n",
    "    #요일 추가\n",
    "    df['week_day']=df['timestamp'].dt.weekday\n",
    "\n",
    "    # 년-월 변수 추가 : year-month의 형태, 개월단위 누적값\n",
    "    le = LabelEncoder()\n",
    "    df[\"year_month\"] = df[\"timestamp\"].map(lambda x :str(x.year) + \"-\"+str(x.month))\n",
    "\n",
    "    # 라벨 인코딩\n",
    "    df[\"year_month\"] = le.fit_transform(df[\"year_month\"])\n",
    "\n",
    "\n",
    "    # 주차 변수 추가\n",
    "    df[\"week\"] = df[\"timestamp\"].map(lambda x: datetime.datetime(x.year, x.month, x.day).isocalendar()[1])\n",
    "\n",
    "    # 주차 누적값\n",
    "    week_list=[]\n",
    "    for i in range(len(df['year'])) :\n",
    "        if df['year'][i] == 2019 :\n",
    "            week_list.append(int(df['week'][i]))\n",
    "        elif df['year'][i] == 2020 :\n",
    "            week_list.append(int(df['week'][i])+52)\n",
    "        elif df['year'][i] == 2021 :\n",
    "            week_list.append(int(df['week'][i])+52+53)\n",
    "        elif df['year'][i] == 2022 :\n",
    "            week_list.append(int(df['week'][i])+52+53+53)\n",
    "        elif df['year'][i] == 2023 :\n",
    "            week_list.append(int(df['week'][i])+52+53+53+52)\n",
    "    df['week_num']= week_list\n",
    "\n",
    "    # datetime 패키지에서 19년 12월 마지막주가 첫째주로 들어가는거 발견하여 수정\n",
    "    df.loc[df['timestamp']=='2019-12-30','week_num']=52\n",
    "    df.loc[df['timestamp']=='2019-12-31','week_num']=52\n",
    "\n",
    "\n",
    "    # 공휴일 변수 추가\n",
    "    def make_holi(x):\n",
    "        kr_holi = holidays.KR()\n",
    "\n",
    "        if x in kr_holi:\n",
    "            return 1\n",
    "        else:\n",
    "            return 0\n",
    "        \n",
    "    df[\"holiday\"] = df[\"timestamp\"].map(lambda x : make_holi(x))\n",
    "    \n",
    "\n",
    "    # train, test 분리하기\n",
    "    train = df[~df[\"price\"].isnull()].sort_values(\"timestamp\").reset_index(drop = True)\n",
    "    test = df[df[\"price\"].isnull()].sort_values(\"timestamp\").reset_index(drop=True)\n",
    "\n",
    "\n",
    "    print(f\"전처리 후 train 크기 : {train.shape}\")\n",
    "    print(f\"전처리 후 test 크기 : {test.shape}\")\n",
    "\n",
    "    return train, test"
   ]
  },
  {
   "cell_type": "code",
   "execution_count": 8,
   "metadata": {},
   "outputs": [
    {
     "name": "stdout",
     "output_type": "stream",
     "text": [
      "전처리 전 train 크기 : (59397, 7)\n",
      "전처리 전 test 크기 : (1092, 5)\n",
      "=================전처리 중=================\n",
      "전처리 후 train 크기 : (59397, 15)\n",
      "전처리 후 test 크기 : (1092, 15)\n"
     ]
    }
   ],
   "source": [
    "train_pre, test_pre = pre_all(train, test)"
   ]
  },
  {
   "cell_type": "code",
   "execution_count": 9,
   "metadata": {},
   "outputs": [
    {
     "data": {
      "text/html": [
       "<div>\n",
       "<style scoped>\n",
       "    .dataframe tbody tr th:only-of-type {\n",
       "        vertical-align: middle;\n",
       "    }\n",
       "\n",
       "    .dataframe tbody tr th {\n",
       "        vertical-align: top;\n",
       "    }\n",
       "\n",
       "    .dataframe thead th {\n",
       "        text-align: right;\n",
       "    }\n",
       "</style>\n",
       "<table border=\"1\" class=\"dataframe\">\n",
       "  <thead>\n",
       "    <tr style=\"text-align: right;\">\n",
       "      <th></th>\n",
       "      <th>ID</th>\n",
       "      <th>timestamp</th>\n",
       "      <th>item</th>\n",
       "      <th>corporation</th>\n",
       "      <th>location</th>\n",
       "      <th>supply</th>\n",
       "      <th>price</th>\n",
       "      <th>year</th>\n",
       "      <th>month</th>\n",
       "      <th>day</th>\n",
       "      <th>week_day</th>\n",
       "      <th>year_month</th>\n",
       "      <th>week</th>\n",
       "      <th>week_num</th>\n",
       "      <th>holiday</th>\n",
       "    </tr>\n",
       "  </thead>\n",
       "  <tbody>\n",
       "    <tr>\n",
       "      <th>0</th>\n",
       "      <td>TG_A_J_20190101</td>\n",
       "      <td>2019-01-01</td>\n",
       "      <td>TG</td>\n",
       "      <td>A</td>\n",
       "      <td>J</td>\n",
       "      <td>0.0</td>\n",
       "      <td>0.0</td>\n",
       "      <td>2019</td>\n",
       "      <td>1</td>\n",
       "      <td>1</td>\n",
       "      <td>1</td>\n",
       "      <td>0</td>\n",
       "      <td>1</td>\n",
       "      <td>1</td>\n",
       "      <td>1</td>\n",
       "    </tr>\n",
       "    <tr>\n",
       "      <th>1</th>\n",
       "      <td>CB_A_S_20190101</td>\n",
       "      <td>2019-01-01</td>\n",
       "      <td>CB</td>\n",
       "      <td>A</td>\n",
       "      <td>S</td>\n",
       "      <td>0.0</td>\n",
       "      <td>0.0</td>\n",
       "      <td>2019</td>\n",
       "      <td>1</td>\n",
       "      <td>1</td>\n",
       "      <td>1</td>\n",
       "      <td>0</td>\n",
       "      <td>1</td>\n",
       "      <td>1</td>\n",
       "      <td>1</td>\n",
       "    </tr>\n",
       "    <tr>\n",
       "      <th>2</th>\n",
       "      <td>RD_D_J_20190101</td>\n",
       "      <td>2019-01-01</td>\n",
       "      <td>RD</td>\n",
       "      <td>D</td>\n",
       "      <td>J</td>\n",
       "      <td>0.0</td>\n",
       "      <td>0.0</td>\n",
       "      <td>2019</td>\n",
       "      <td>1</td>\n",
       "      <td>1</td>\n",
       "      <td>1</td>\n",
       "      <td>0</td>\n",
       "      <td>1</td>\n",
       "      <td>1</td>\n",
       "      <td>1</td>\n",
       "    </tr>\n",
       "    <tr>\n",
       "      <th>3</th>\n",
       "      <td>BC_D_J_20190101</td>\n",
       "      <td>2019-01-01</td>\n",
       "      <td>BC</td>\n",
       "      <td>D</td>\n",
       "      <td>J</td>\n",
       "      <td>0.0</td>\n",
       "      <td>0.0</td>\n",
       "      <td>2019</td>\n",
       "      <td>1</td>\n",
       "      <td>1</td>\n",
       "      <td>1</td>\n",
       "      <td>0</td>\n",
       "      <td>1</td>\n",
       "      <td>1</td>\n",
       "      <td>1</td>\n",
       "    </tr>\n",
       "    <tr>\n",
       "      <th>4</th>\n",
       "      <td>CB_F_J_20190101</td>\n",
       "      <td>2019-01-01</td>\n",
       "      <td>CB</td>\n",
       "      <td>F</td>\n",
       "      <td>J</td>\n",
       "      <td>0.0</td>\n",
       "      <td>0.0</td>\n",
       "      <td>2019</td>\n",
       "      <td>1</td>\n",
       "      <td>1</td>\n",
       "      <td>1</td>\n",
       "      <td>0</td>\n",
       "      <td>1</td>\n",
       "      <td>1</td>\n",
       "      <td>1</td>\n",
       "    </tr>\n",
       "    <tr>\n",
       "      <th>...</th>\n",
       "      <td>...</td>\n",
       "      <td>...</td>\n",
       "      <td>...</td>\n",
       "      <td>...</td>\n",
       "      <td>...</td>\n",
       "      <td>...</td>\n",
       "      <td>...</td>\n",
       "      <td>...</td>\n",
       "      <td>...</td>\n",
       "      <td>...</td>\n",
       "      <td>...</td>\n",
       "      <td>...</td>\n",
       "      <td>...</td>\n",
       "      <td>...</td>\n",
       "      <td>...</td>\n",
       "    </tr>\n",
       "    <tr>\n",
       "      <th>59392</th>\n",
       "      <td>CR_E_S_20230303</td>\n",
       "      <td>2023-03-03</td>\n",
       "      <td>CR</td>\n",
       "      <td>E</td>\n",
       "      <td>S</td>\n",
       "      <td>0.0</td>\n",
       "      <td>0.0</td>\n",
       "      <td>2023</td>\n",
       "      <td>3</td>\n",
       "      <td>3</td>\n",
       "      <td>4</td>\n",
       "      <td>50</td>\n",
       "      <td>9</td>\n",
       "      <td>219</td>\n",
       "      <td>0</td>\n",
       "    </tr>\n",
       "    <tr>\n",
       "      <th>59393</th>\n",
       "      <td>BC_A_S_20230303</td>\n",
       "      <td>2023-03-03</td>\n",
       "      <td>BC</td>\n",
       "      <td>A</td>\n",
       "      <td>S</td>\n",
       "      <td>3776.0</td>\n",
       "      <td>2875.0</td>\n",
       "      <td>2023</td>\n",
       "      <td>3</td>\n",
       "      <td>3</td>\n",
       "      <td>4</td>\n",
       "      <td>50</td>\n",
       "      <td>9</td>\n",
       "      <td>219</td>\n",
       "      <td>0</td>\n",
       "    </tr>\n",
       "    <tr>\n",
       "      <th>59394</th>\n",
       "      <td>CB_E_J_20230303</td>\n",
       "      <td>2023-03-03</td>\n",
       "      <td>CB</td>\n",
       "      <td>E</td>\n",
       "      <td>J</td>\n",
       "      <td>0.0</td>\n",
       "      <td>0.0</td>\n",
       "      <td>2023</td>\n",
       "      <td>3</td>\n",
       "      <td>3</td>\n",
       "      <td>4</td>\n",
       "      <td>50</td>\n",
       "      <td>9</td>\n",
       "      <td>219</td>\n",
       "      <td>0</td>\n",
       "    </tr>\n",
       "    <tr>\n",
       "      <th>59395</th>\n",
       "      <td>BC_D_J_20230303</td>\n",
       "      <td>2023-03-03</td>\n",
       "      <td>BC</td>\n",
       "      <td>D</td>\n",
       "      <td>J</td>\n",
       "      <td>1776.0</td>\n",
       "      <td>3059.0</td>\n",
       "      <td>2023</td>\n",
       "      <td>3</td>\n",
       "      <td>3</td>\n",
       "      <td>4</td>\n",
       "      <td>50</td>\n",
       "      <td>9</td>\n",
       "      <td>219</td>\n",
       "      <td>0</td>\n",
       "    </tr>\n",
       "    <tr>\n",
       "      <th>59396</th>\n",
       "      <td>RD_F_J_20230303</td>\n",
       "      <td>2023-03-03</td>\n",
       "      <td>RD</td>\n",
       "      <td>F</td>\n",
       "      <td>J</td>\n",
       "      <td>427520.0</td>\n",
       "      <td>529.0</td>\n",
       "      <td>2023</td>\n",
       "      <td>3</td>\n",
       "      <td>3</td>\n",
       "      <td>4</td>\n",
       "      <td>50</td>\n",
       "      <td>9</td>\n",
       "      <td>219</td>\n",
       "      <td>0</td>\n",
       "    </tr>\n",
       "  </tbody>\n",
       "</table>\n",
       "<p>59397 rows × 15 columns</p>\n",
       "</div>"
      ],
      "text/plain": [
       "                    ID  timestamp item corporation location    supply   price  \\\n",
       "0      TG_A_J_20190101 2019-01-01   TG           A        J       0.0     0.0   \n",
       "1      CB_A_S_20190101 2019-01-01   CB           A        S       0.0     0.0   \n",
       "2      RD_D_J_20190101 2019-01-01   RD           D        J       0.0     0.0   \n",
       "3      BC_D_J_20190101 2019-01-01   BC           D        J       0.0     0.0   \n",
       "4      CB_F_J_20190101 2019-01-01   CB           F        J       0.0     0.0   \n",
       "...                ...        ...  ...         ...      ...       ...     ...   \n",
       "59392  CR_E_S_20230303 2023-03-03   CR           E        S       0.0     0.0   \n",
       "59393  BC_A_S_20230303 2023-03-03   BC           A        S    3776.0  2875.0   \n",
       "59394  CB_E_J_20230303 2023-03-03   CB           E        J       0.0     0.0   \n",
       "59395  BC_D_J_20230303 2023-03-03   BC           D        J    1776.0  3059.0   \n",
       "59396  RD_F_J_20230303 2023-03-03   RD           F        J  427520.0   529.0   \n",
       "\n",
       "       year  month  day  week_day  year_month  week  week_num  holiday  \n",
       "0      2019      1    1         1           0     1         1        1  \n",
       "1      2019      1    1         1           0     1         1        1  \n",
       "2      2019      1    1         1           0     1         1        1  \n",
       "3      2019      1    1         1           0     1         1        1  \n",
       "4      2019      1    1         1           0     1         1        1  \n",
       "...     ...    ...  ...       ...         ...   ...       ...      ...  \n",
       "59392  2023      3    3         4          50     9       219        0  \n",
       "59393  2023      3    3         4          50     9       219        0  \n",
       "59394  2023      3    3         4          50     9       219        0  \n",
       "59395  2023      3    3         4          50     9       219        0  \n",
       "59396  2023      3    3         4          50     9       219        0  \n",
       "\n",
       "[59397 rows x 15 columns]"
      ]
     },
     "execution_count": 9,
     "metadata": {},
     "output_type": "execute_result"
    }
   ],
   "source": [
    "train_pre"
   ]
  },
  {
   "cell_type": "code",
   "execution_count": 18,
   "metadata": {},
   "outputs": [
    {
     "data": {
      "text/html": [
       "<div>\n",
       "<style scoped>\n",
       "    .dataframe tbody tr th:only-of-type {\n",
       "        vertical-align: middle;\n",
       "    }\n",
       "\n",
       "    .dataframe tbody tr th {\n",
       "        vertical-align: top;\n",
       "    }\n",
       "\n",
       "    .dataframe thead th {\n",
       "        text-align: right;\n",
       "    }\n",
       "</style>\n",
       "<table border=\"1\" class=\"dataframe\">\n",
       "  <thead>\n",
       "    <tr style=\"text-align: right;\">\n",
       "      <th></th>\n",
       "      <th>ID</th>\n",
       "      <th>timestamp</th>\n",
       "      <th>item</th>\n",
       "      <th>corporation</th>\n",
       "      <th>location</th>\n",
       "      <th>supply</th>\n",
       "      <th>price</th>\n",
       "      <th>year</th>\n",
       "      <th>month</th>\n",
       "      <th>day</th>\n",
       "      <th>week_day</th>\n",
       "      <th>year_month</th>\n",
       "      <th>week</th>\n",
       "      <th>week_num</th>\n",
       "      <th>holiday</th>\n",
       "    </tr>\n",
       "  </thead>\n",
       "  <tbody>\n",
       "    <tr>\n",
       "      <th>0</th>\n",
       "      <td>TG_A_J_20230304</td>\n",
       "      <td>2023-03-04</td>\n",
       "      <td>TG</td>\n",
       "      <td>A</td>\n",
       "      <td>J</td>\n",
       "      <td>NaN</td>\n",
       "      <td>NaN</td>\n",
       "      <td>2023</td>\n",
       "      <td>3</td>\n",
       "      <td>4</td>\n",
       "      <td>5</td>\n",
       "      <td>50</td>\n",
       "      <td>9</td>\n",
       "      <td>219</td>\n",
       "      <td>0</td>\n",
       "    </tr>\n",
       "    <tr>\n",
       "      <th>1</th>\n",
       "      <td>TG_E_S_20230304</td>\n",
       "      <td>2023-03-04</td>\n",
       "      <td>TG</td>\n",
       "      <td>E</td>\n",
       "      <td>S</td>\n",
       "      <td>NaN</td>\n",
       "      <td>NaN</td>\n",
       "      <td>2023</td>\n",
       "      <td>3</td>\n",
       "      <td>4</td>\n",
       "      <td>5</td>\n",
       "      <td>50</td>\n",
       "      <td>9</td>\n",
       "      <td>219</td>\n",
       "      <td>0</td>\n",
       "    </tr>\n",
       "    <tr>\n",
       "      <th>2</th>\n",
       "      <td>BC_B_J_20230304</td>\n",
       "      <td>2023-03-04</td>\n",
       "      <td>BC</td>\n",
       "      <td>B</td>\n",
       "      <td>J</td>\n",
       "      <td>NaN</td>\n",
       "      <td>NaN</td>\n",
       "      <td>2023</td>\n",
       "      <td>3</td>\n",
       "      <td>4</td>\n",
       "      <td>5</td>\n",
       "      <td>50</td>\n",
       "      <td>9</td>\n",
       "      <td>219</td>\n",
       "      <td>0</td>\n",
       "    </tr>\n",
       "    <tr>\n",
       "      <th>3</th>\n",
       "      <td>TG_E_J_20230304</td>\n",
       "      <td>2023-03-04</td>\n",
       "      <td>TG</td>\n",
       "      <td>E</td>\n",
       "      <td>J</td>\n",
       "      <td>NaN</td>\n",
       "      <td>NaN</td>\n",
       "      <td>2023</td>\n",
       "      <td>3</td>\n",
       "      <td>4</td>\n",
       "      <td>5</td>\n",
       "      <td>50</td>\n",
       "      <td>9</td>\n",
       "      <td>219</td>\n",
       "      <td>0</td>\n",
       "    </tr>\n",
       "    <tr>\n",
       "      <th>4</th>\n",
       "      <td>BC_B_S_20230304</td>\n",
       "      <td>2023-03-04</td>\n",
       "      <td>BC</td>\n",
       "      <td>B</td>\n",
       "      <td>S</td>\n",
       "      <td>NaN</td>\n",
       "      <td>NaN</td>\n",
       "      <td>2023</td>\n",
       "      <td>3</td>\n",
       "      <td>4</td>\n",
       "      <td>5</td>\n",
       "      <td>50</td>\n",
       "      <td>9</td>\n",
       "      <td>219</td>\n",
       "      <td>0</td>\n",
       "    </tr>\n",
       "    <tr>\n",
       "      <th>...</th>\n",
       "      <td>...</td>\n",
       "      <td>...</td>\n",
       "      <td>...</td>\n",
       "      <td>...</td>\n",
       "      <td>...</td>\n",
       "      <td>...</td>\n",
       "      <td>...</td>\n",
       "      <td>...</td>\n",
       "      <td>...</td>\n",
       "      <td>...</td>\n",
       "      <td>...</td>\n",
       "      <td>...</td>\n",
       "      <td>...</td>\n",
       "      <td>...</td>\n",
       "      <td>...</td>\n",
       "    </tr>\n",
       "    <tr>\n",
       "      <th>1087</th>\n",
       "      <td>TG_A_J_20230331</td>\n",
       "      <td>2023-03-31</td>\n",
       "      <td>TG</td>\n",
       "      <td>A</td>\n",
       "      <td>J</td>\n",
       "      <td>NaN</td>\n",
       "      <td>NaN</td>\n",
       "      <td>2023</td>\n",
       "      <td>3</td>\n",
       "      <td>31</td>\n",
       "      <td>4</td>\n",
       "      <td>50</td>\n",
       "      <td>13</td>\n",
       "      <td>223</td>\n",
       "      <td>0</td>\n",
       "    </tr>\n",
       "    <tr>\n",
       "      <th>1088</th>\n",
       "      <td>RD_D_J_20230331</td>\n",
       "      <td>2023-03-31</td>\n",
       "      <td>RD</td>\n",
       "      <td>D</td>\n",
       "      <td>J</td>\n",
       "      <td>NaN</td>\n",
       "      <td>NaN</td>\n",
       "      <td>2023</td>\n",
       "      <td>3</td>\n",
       "      <td>31</td>\n",
       "      <td>4</td>\n",
       "      <td>50</td>\n",
       "      <td>13</td>\n",
       "      <td>223</td>\n",
       "      <td>0</td>\n",
       "    </tr>\n",
       "    <tr>\n",
       "      <th>1089</th>\n",
       "      <td>CR_D_J_20230331</td>\n",
       "      <td>2023-03-31</td>\n",
       "      <td>CR</td>\n",
       "      <td>D</td>\n",
       "      <td>J</td>\n",
       "      <td>NaN</td>\n",
       "      <td>NaN</td>\n",
       "      <td>2023</td>\n",
       "      <td>3</td>\n",
       "      <td>31</td>\n",
       "      <td>4</td>\n",
       "      <td>50</td>\n",
       "      <td>13</td>\n",
       "      <td>223</td>\n",
       "      <td>0</td>\n",
       "    </tr>\n",
       "    <tr>\n",
       "      <th>1090</th>\n",
       "      <td>TG_E_J_20230331</td>\n",
       "      <td>2023-03-31</td>\n",
       "      <td>TG</td>\n",
       "      <td>E</td>\n",
       "      <td>J</td>\n",
       "      <td>NaN</td>\n",
       "      <td>NaN</td>\n",
       "      <td>2023</td>\n",
       "      <td>3</td>\n",
       "      <td>31</td>\n",
       "      <td>4</td>\n",
       "      <td>50</td>\n",
       "      <td>13</td>\n",
       "      <td>223</td>\n",
       "      <td>0</td>\n",
       "    </tr>\n",
       "    <tr>\n",
       "      <th>1091</th>\n",
       "      <td>RD_F_J_20230331</td>\n",
       "      <td>2023-03-31</td>\n",
       "      <td>RD</td>\n",
       "      <td>F</td>\n",
       "      <td>J</td>\n",
       "      <td>NaN</td>\n",
       "      <td>NaN</td>\n",
       "      <td>2023</td>\n",
       "      <td>3</td>\n",
       "      <td>31</td>\n",
       "      <td>4</td>\n",
       "      <td>50</td>\n",
       "      <td>13</td>\n",
       "      <td>223</td>\n",
       "      <td>0</td>\n",
       "    </tr>\n",
       "  </tbody>\n",
       "</table>\n",
       "<p>1092 rows × 15 columns</p>\n",
       "</div>"
      ],
      "text/plain": [
       "                   ID  timestamp item corporation location  supply  price  \\\n",
       "0     TG_A_J_20230304 2023-03-04   TG           A        J     NaN    NaN   \n",
       "1     TG_E_S_20230304 2023-03-04   TG           E        S     NaN    NaN   \n",
       "2     BC_B_J_20230304 2023-03-04   BC           B        J     NaN    NaN   \n",
       "3     TG_E_J_20230304 2023-03-04   TG           E        J     NaN    NaN   \n",
       "4     BC_B_S_20230304 2023-03-04   BC           B        S     NaN    NaN   \n",
       "...               ...        ...  ...         ...      ...     ...    ...   \n",
       "1087  TG_A_J_20230331 2023-03-31   TG           A        J     NaN    NaN   \n",
       "1088  RD_D_J_20230331 2023-03-31   RD           D        J     NaN    NaN   \n",
       "1089  CR_D_J_20230331 2023-03-31   CR           D        J     NaN    NaN   \n",
       "1090  TG_E_J_20230331 2023-03-31   TG           E        J     NaN    NaN   \n",
       "1091  RD_F_J_20230331 2023-03-31   RD           F        J     NaN    NaN   \n",
       "\n",
       "      year  month  day  week_day  year_month  week  week_num  holiday  \n",
       "0     2023      3    4         5          50     9       219        0  \n",
       "1     2023      3    4         5          50     9       219        0  \n",
       "2     2023      3    4         5          50     9       219        0  \n",
       "3     2023      3    4         5          50     9       219        0  \n",
       "4     2023      3    4         5          50     9       219        0  \n",
       "...    ...    ...  ...       ...         ...   ...       ...      ...  \n",
       "1087  2023      3   31         4          50    13       223        0  \n",
       "1088  2023      3   31         4          50    13       223        0  \n",
       "1089  2023      3   31         4          50    13       223        0  \n",
       "1090  2023      3   31         4          50    13       223        0  \n",
       "1091  2023      3   31         4          50    13       223        0  \n",
       "\n",
       "[1092 rows x 15 columns]"
      ]
     },
     "execution_count": 18,
     "metadata": {},
     "output_type": "execute_result"
    }
   ],
   "source": [
    "test_pre"
   ]
  },
  {
   "cell_type": "code",
   "execution_count": 19,
   "metadata": {},
   "outputs": [
    {
     "name": "stdout",
     "output_type": "stream",
     "text": [
      "train의 컬럼 : Index(['ID', 'timestamp', 'item', 'corporation', 'location', 'supply', 'price',\n",
      "       'year', 'month', 'day', 'week_day', 'year_month', 'week', 'week_num',\n",
      "       'holiday'],\n",
      "      dtype='object')\n",
      "test의 컬럼 : Index(['ID', 'timestamp', 'item', 'corporation', 'location', 'supply', 'price',\n",
      "       'year', 'month', 'day', 'week_day', 'year_month', 'week', 'week_num',\n",
      "       'holiday'],\n",
      "      dtype='object')\n"
     ]
    }
   ],
   "source": [
    "## 전처리\n",
    "\n",
    "# 극 이상치 제거\n",
    "# tg_idx = train_pre[(train_pre[\"item\"]==\"TG\") & (train_pre[\"price\"]>20000)].index\n",
    "tg_idx = train_pre[(train_pre[\"item\"]==\"CR\") & (train_pre[\"price\"]>20000)].index\n",
    "rd_idx = train_pre[(train_pre[\"item\"]==\"RD\") & (train_pre[\"price\"]>5000)].index\n",
    "bc_idx = train_pre[(train_pre[\"item\"]==\"BC\") & (train_pre[\"price\"]>8000)].index\n",
    "cb_idx = train_pre[(train_pre[\"item\"]==\"CB\") & (train_pre[\"price\"]>2300)].index\n",
    "\n",
    "# train_pre.loc[tg_idx,\"price\"] = train_pre[(train_pre[\"item\"]==\"TG\") & (train_pre[\"price\"]!=0)][\"price\"].mean()\n",
    "train_pre.loc[tg_idx,\"price\"] = train_pre[(train_pre[\"item\"]==\"CR\") & (train_pre[\"price\"]!=0)][\"price\"].mean()\n",
    "train_pre.loc[rd_idx,\"price\"] = train_pre[(train_pre[\"item\"]==\"RD\") & (train_pre[\"price\"]!=0)][\"price\"].mean()\n",
    "train_pre.loc[bc_idx,\"price\"] = train_pre[(train_pre[\"item\"]==\"BC\") & (train_pre[\"price\"]!=0)][\"price\"].mean()\n",
    "train_pre.loc[cb_idx,\"price\"] = train_pre[(train_pre[\"item\"]==\"CB\") & (train_pre[\"price\"]!=0)][\"price\"].mean()\n",
    "\n",
    "\n",
    "# 감귤이 아닌것\n",
    "print(f\"train의 컬럼 : {train_pre.columns}\")\n",
    "print(f\"test의 컬럼 : {test_pre.columns}\")\n",
    "\n",
    "train_notg = train_pre[train_pre[\"item\"] !=\"TG\"]\n",
    "test_notg = test_pre[test_pre[\"item\"] != \"TG\"]"
   ]
  },
  {
   "cell_type": "code",
   "execution_count": 20,
   "metadata": {},
   "outputs": [
    {
     "name": "stdout",
     "output_type": "stream",
     "text": [
      "Index(['ID', 'timestamp', 'price', 'year', 'month', 'day', 'week_day',\n",
      "       'year_month', 'week', 'week_num', 'holiday', 'item_BC', 'item_CB',\n",
      "       'item_CR', 'item_RD', 'corporation_A', 'corporation_B', 'corporation_C',\n",
      "       'corporation_D', 'corporation_E', 'corporation_F', 'location_J',\n",
      "       'location_S'],\n",
      "      dtype='object')\n"
     ]
    }
   ],
   "source": [
    "#인코딩\n",
    "Xy = pd.get_dummies(train_notg.sort_values(by = [\"timestamp\"]).reset_index(drop=True).drop(columns = [\"supply\"]), columns = [\"item\",\"corporation\",\"location\"])\n",
    "answer_notg = pd.get_dummies(test_notg.drop(columns = [\"timestamp\",\"supply\",\"price\"]), columns = [ \"item\",\"corporation\",\"location\"])\n",
    "print(Xy.columns)"
   ]
  },
  {
   "cell_type": "code",
   "execution_count": 22,
   "metadata": {},
   "outputs": [
    {
     "data": {
      "text/html": [
       "<div>\n",
       "<style scoped>\n",
       "    .dataframe tbody tr th:only-of-type {\n",
       "        vertical-align: middle;\n",
       "    }\n",
       "\n",
       "    .dataframe tbody tr th {\n",
       "        vertical-align: top;\n",
       "    }\n",
       "\n",
       "    .dataframe thead th {\n",
       "        text-align: right;\n",
       "    }\n",
       "</style>\n",
       "<table border=\"1\" class=\"dataframe\">\n",
       "  <thead>\n",
       "    <tr style=\"text-align: right;\">\n",
       "      <th></th>\n",
       "      <th>year</th>\n",
       "      <th>month</th>\n",
       "      <th>day</th>\n",
       "      <th>week_day</th>\n",
       "      <th>year_month</th>\n",
       "      <th>week</th>\n",
       "      <th>week_num</th>\n",
       "      <th>holiday</th>\n",
       "      <th>item_BC</th>\n",
       "      <th>item_CB</th>\n",
       "      <th>item_CR</th>\n",
       "      <th>item_RD</th>\n",
       "      <th>corporation_A</th>\n",
       "      <th>corporation_B</th>\n",
       "      <th>corporation_C</th>\n",
       "      <th>corporation_D</th>\n",
       "      <th>corporation_E</th>\n",
       "      <th>corporation_F</th>\n",
       "      <th>location_J</th>\n",
       "      <th>location_S</th>\n",
       "    </tr>\n",
       "  </thead>\n",
       "  <tbody>\n",
       "    <tr>\n",
       "      <th>0</th>\n",
       "      <td>2019</td>\n",
       "      <td>1</td>\n",
       "      <td>1</td>\n",
       "      <td>1</td>\n",
       "      <td>0</td>\n",
       "      <td>1</td>\n",
       "      <td>1</td>\n",
       "      <td>1</td>\n",
       "      <td>False</td>\n",
       "      <td>True</td>\n",
       "      <td>False</td>\n",
       "      <td>False</td>\n",
       "      <td>True</td>\n",
       "      <td>False</td>\n",
       "      <td>False</td>\n",
       "      <td>False</td>\n",
       "      <td>False</td>\n",
       "      <td>False</td>\n",
       "      <td>False</td>\n",
       "      <td>True</td>\n",
       "    </tr>\n",
       "    <tr>\n",
       "      <th>1</th>\n",
       "      <td>2019</td>\n",
       "      <td>1</td>\n",
       "      <td>1</td>\n",
       "      <td>1</td>\n",
       "      <td>0</td>\n",
       "      <td>1</td>\n",
       "      <td>1</td>\n",
       "      <td>1</td>\n",
       "      <td>False</td>\n",
       "      <td>False</td>\n",
       "      <td>True</td>\n",
       "      <td>False</td>\n",
       "      <td>False</td>\n",
       "      <td>False</td>\n",
       "      <td>False</td>\n",
       "      <td>True</td>\n",
       "      <td>False</td>\n",
       "      <td>False</td>\n",
       "      <td>False</td>\n",
       "      <td>True</td>\n",
       "    </tr>\n",
       "    <tr>\n",
       "      <th>2</th>\n",
       "      <td>2019</td>\n",
       "      <td>1</td>\n",
       "      <td>1</td>\n",
       "      <td>1</td>\n",
       "      <td>0</td>\n",
       "      <td>1</td>\n",
       "      <td>1</td>\n",
       "      <td>1</td>\n",
       "      <td>False</td>\n",
       "      <td>False</td>\n",
       "      <td>False</td>\n",
       "      <td>True</td>\n",
       "      <td>False</td>\n",
       "      <td>False</td>\n",
       "      <td>False</td>\n",
       "      <td>True</td>\n",
       "      <td>False</td>\n",
       "      <td>False</td>\n",
       "      <td>False</td>\n",
       "      <td>True</td>\n",
       "    </tr>\n",
       "    <tr>\n",
       "      <th>3</th>\n",
       "      <td>2019</td>\n",
       "      <td>1</td>\n",
       "      <td>1</td>\n",
       "      <td>1</td>\n",
       "      <td>0</td>\n",
       "      <td>1</td>\n",
       "      <td>1</td>\n",
       "      <td>1</td>\n",
       "      <td>False</td>\n",
       "      <td>False</td>\n",
       "      <td>True</td>\n",
       "      <td>False</td>\n",
       "      <td>False</td>\n",
       "      <td>False</td>\n",
       "      <td>False</td>\n",
       "      <td>False</td>\n",
       "      <td>True</td>\n",
       "      <td>False</td>\n",
       "      <td>False</td>\n",
       "      <td>True</td>\n",
       "    </tr>\n",
       "    <tr>\n",
       "      <th>4</th>\n",
       "      <td>2019</td>\n",
       "      <td>1</td>\n",
       "      <td>1</td>\n",
       "      <td>1</td>\n",
       "      <td>0</td>\n",
       "      <td>1</td>\n",
       "      <td>1</td>\n",
       "      <td>1</td>\n",
       "      <td>False</td>\n",
       "      <td>False</td>\n",
       "      <td>False</td>\n",
       "      <td>True</td>\n",
       "      <td>False</td>\n",
       "      <td>False</td>\n",
       "      <td>True</td>\n",
       "      <td>False</td>\n",
       "      <td>False</td>\n",
       "      <td>False</td>\n",
       "      <td>False</td>\n",
       "      <td>True</td>\n",
       "    </tr>\n",
       "    <tr>\n",
       "      <th>...</th>\n",
       "      <td>...</td>\n",
       "      <td>...</td>\n",
       "      <td>...</td>\n",
       "      <td>...</td>\n",
       "      <td>...</td>\n",
       "      <td>...</td>\n",
       "      <td>...</td>\n",
       "      <td>...</td>\n",
       "      <td>...</td>\n",
       "      <td>...</td>\n",
       "      <td>...</td>\n",
       "      <td>...</td>\n",
       "      <td>...</td>\n",
       "      <td>...</td>\n",
       "      <td>...</td>\n",
       "      <td>...</td>\n",
       "      <td>...</td>\n",
       "      <td>...</td>\n",
       "      <td>...</td>\n",
       "      <td>...</td>\n",
       "    </tr>\n",
       "    <tr>\n",
       "      <th>44162</th>\n",
       "      <td>2023</td>\n",
       "      <td>3</td>\n",
       "      <td>3</td>\n",
       "      <td>4</td>\n",
       "      <td>50</td>\n",
       "      <td>9</td>\n",
       "      <td>219</td>\n",
       "      <td>0</td>\n",
       "      <td>False</td>\n",
       "      <td>True</td>\n",
       "      <td>False</td>\n",
       "      <td>False</td>\n",
       "      <td>False</td>\n",
       "      <td>False</td>\n",
       "      <td>False</td>\n",
       "      <td>True</td>\n",
       "      <td>False</td>\n",
       "      <td>False</td>\n",
       "      <td>True</td>\n",
       "      <td>False</td>\n",
       "    </tr>\n",
       "    <tr>\n",
       "      <th>44163</th>\n",
       "      <td>2023</td>\n",
       "      <td>3</td>\n",
       "      <td>3</td>\n",
       "      <td>4</td>\n",
       "      <td>50</td>\n",
       "      <td>9</td>\n",
       "      <td>219</td>\n",
       "      <td>0</td>\n",
       "      <td>False</td>\n",
       "      <td>True</td>\n",
       "      <td>False</td>\n",
       "      <td>False</td>\n",
       "      <td>True</td>\n",
       "      <td>False</td>\n",
       "      <td>False</td>\n",
       "      <td>False</td>\n",
       "      <td>False</td>\n",
       "      <td>False</td>\n",
       "      <td>False</td>\n",
       "      <td>True</td>\n",
       "    </tr>\n",
       "    <tr>\n",
       "      <th>44164</th>\n",
       "      <td>2023</td>\n",
       "      <td>3</td>\n",
       "      <td>3</td>\n",
       "      <td>4</td>\n",
       "      <td>50</td>\n",
       "      <td>9</td>\n",
       "      <td>219</td>\n",
       "      <td>0</td>\n",
       "      <td>True</td>\n",
       "      <td>False</td>\n",
       "      <td>False</td>\n",
       "      <td>False</td>\n",
       "      <td>False</td>\n",
       "      <td>False</td>\n",
       "      <td>False</td>\n",
       "      <td>True</td>\n",
       "      <td>False</td>\n",
       "      <td>False</td>\n",
       "      <td>True</td>\n",
       "      <td>False</td>\n",
       "    </tr>\n",
       "    <tr>\n",
       "      <th>44165</th>\n",
       "      <td>2023</td>\n",
       "      <td>3</td>\n",
       "      <td>3</td>\n",
       "      <td>4</td>\n",
       "      <td>50</td>\n",
       "      <td>9</td>\n",
       "      <td>219</td>\n",
       "      <td>0</td>\n",
       "      <td>False</td>\n",
       "      <td>False</td>\n",
       "      <td>True</td>\n",
       "      <td>False</td>\n",
       "      <td>False</td>\n",
       "      <td>False</td>\n",
       "      <td>True</td>\n",
       "      <td>False</td>\n",
       "      <td>False</td>\n",
       "      <td>False</td>\n",
       "      <td>True</td>\n",
       "      <td>False</td>\n",
       "    </tr>\n",
       "    <tr>\n",
       "      <th>44166</th>\n",
       "      <td>2023</td>\n",
       "      <td>3</td>\n",
       "      <td>3</td>\n",
       "      <td>4</td>\n",
       "      <td>50</td>\n",
       "      <td>9</td>\n",
       "      <td>219</td>\n",
       "      <td>0</td>\n",
       "      <td>False</td>\n",
       "      <td>False</td>\n",
       "      <td>False</td>\n",
       "      <td>True</td>\n",
       "      <td>False</td>\n",
       "      <td>False</td>\n",
       "      <td>False</td>\n",
       "      <td>False</td>\n",
       "      <td>False</td>\n",
       "      <td>True</td>\n",
       "      <td>True</td>\n",
       "      <td>False</td>\n",
       "    </tr>\n",
       "  </tbody>\n",
       "</table>\n",
       "<p>44167 rows × 20 columns</p>\n",
       "</div>"
      ],
      "text/plain": [
       "       year  month  day  week_day  year_month  week  week_num  holiday  \\\n",
       "0      2019      1    1         1           0     1         1        1   \n",
       "1      2019      1    1         1           0     1         1        1   \n",
       "2      2019      1    1         1           0     1         1        1   \n",
       "3      2019      1    1         1           0     1         1        1   \n",
       "4      2019      1    1         1           0     1         1        1   \n",
       "...     ...    ...  ...       ...         ...   ...       ...      ...   \n",
       "44162  2023      3    3         4          50     9       219        0   \n",
       "44163  2023      3    3         4          50     9       219        0   \n",
       "44164  2023      3    3         4          50     9       219        0   \n",
       "44165  2023      3    3         4          50     9       219        0   \n",
       "44166  2023      3    3         4          50     9       219        0   \n",
       "\n",
       "       item_BC  item_CB  item_CR  item_RD  corporation_A  corporation_B  \\\n",
       "0        False     True    False    False           True          False   \n",
       "1        False    False     True    False          False          False   \n",
       "2        False    False    False     True          False          False   \n",
       "3        False    False     True    False          False          False   \n",
       "4        False    False    False     True          False          False   \n",
       "...        ...      ...      ...      ...            ...            ...   \n",
       "44162    False     True    False    False          False          False   \n",
       "44163    False     True    False    False           True          False   \n",
       "44164     True    False    False    False          False          False   \n",
       "44165    False    False     True    False          False          False   \n",
       "44166    False    False    False     True          False          False   \n",
       "\n",
       "       corporation_C  corporation_D  corporation_E  corporation_F  location_J  \\\n",
       "0              False          False          False          False       False   \n",
       "1              False           True          False          False       False   \n",
       "2              False           True          False          False       False   \n",
       "3              False          False           True          False       False   \n",
       "4               True          False          False          False       False   \n",
       "...              ...            ...            ...            ...         ...   \n",
       "44162          False           True          False          False        True   \n",
       "44163          False          False          False          False       False   \n",
       "44164          False           True          False          False        True   \n",
       "44165           True          False          False          False        True   \n",
       "44166          False          False          False           True        True   \n",
       "\n",
       "       location_S  \n",
       "0            True  \n",
       "1            True  \n",
       "2            True  \n",
       "3            True  \n",
       "4            True  \n",
       "...           ...  \n",
       "44162       False  \n",
       "44163        True  \n",
       "44164       False  \n",
       "44165       False  \n",
       "44166       False  \n",
       "\n",
       "[44167 rows x 20 columns]"
      ]
     },
     "execution_count": 22,
     "metadata": {},
     "output_type": "execute_result"
    }
   ],
   "source": [
    "Xy.drop(columns = [\"timestamp\", \"ID\",\"price\"])"
   ]
  },
  {
   "cell_type": "code",
   "execution_count": 23,
   "metadata": {},
   "outputs": [
    {
     "name": "stdout",
     "output_type": "stream",
     "text": [
      "0:\tlearn: 934.3461033\ttotal: 52.1ms\tremaining: 52.1s\n",
      "999:\tlearn: 376.6995081\ttotal: 3.98s\tremaining: 0us\n"
     ]
    },
    {
     "data": {
      "text/html": [
       "<div>\n",
       "<style scoped>\n",
       "    .dataframe tbody tr th:only-of-type {\n",
       "        vertical-align: middle;\n",
       "    }\n",
       "\n",
       "    .dataframe tbody tr th {\n",
       "        vertical-align: top;\n",
       "    }\n",
       "\n",
       "    .dataframe thead th {\n",
       "        text-align: right;\n",
       "    }\n",
       "</style>\n",
       "<table border=\"1\" class=\"dataframe\">\n",
       "  <thead>\n",
       "    <tr style=\"text-align: right;\">\n",
       "      <th></th>\n",
       "      <th>ID</th>\n",
       "      <th>answer</th>\n",
       "    </tr>\n",
       "  </thead>\n",
       "  <tbody>\n",
       "    <tr>\n",
       "      <th>2</th>\n",
       "      <td>BC_B_J_20230304</td>\n",
       "      <td>2384.968678</td>\n",
       "    </tr>\n",
       "    <tr>\n",
       "      <th>4</th>\n",
       "      <td>BC_B_S_20230304</td>\n",
       "      <td>100.733655</td>\n",
       "    </tr>\n",
       "    <tr>\n",
       "      <th>6</th>\n",
       "      <td>BC_C_J_20230304</td>\n",
       "      <td>2293.269558</td>\n",
       "    </tr>\n",
       "    <tr>\n",
       "      <th>7</th>\n",
       "      <td>BC_A_S_20230304</td>\n",
       "      <td>2751.574472</td>\n",
       "    </tr>\n",
       "    <tr>\n",
       "      <th>10</th>\n",
       "      <td>BC_D_J_20230304</td>\n",
       "      <td>2776.219702</td>\n",
       "    </tr>\n",
       "    <tr>\n",
       "      <th>...</th>\n",
       "      <td>...</td>\n",
       "      <td>...</td>\n",
       "    </tr>\n",
       "    <tr>\n",
       "      <th>1085</th>\n",
       "      <td>RD_D_S_20230331</td>\n",
       "      <td>457.576344</td>\n",
       "    </tr>\n",
       "    <tr>\n",
       "      <th>1086</th>\n",
       "      <td>CR_C_J_20230331</td>\n",
       "      <td>1783.102829</td>\n",
       "    </tr>\n",
       "    <tr>\n",
       "      <th>1088</th>\n",
       "      <td>RD_D_J_20230331</td>\n",
       "      <td>398.828636</td>\n",
       "    </tr>\n",
       "    <tr>\n",
       "      <th>1089</th>\n",
       "      <td>CR_D_J_20230331</td>\n",
       "      <td>1822.411070</td>\n",
       "    </tr>\n",
       "    <tr>\n",
       "      <th>1091</th>\n",
       "      <td>RD_F_J_20230331</td>\n",
       "      <td>552.992025</td>\n",
       "    </tr>\n",
       "  </tbody>\n",
       "</table>\n",
       "<p>812 rows × 2 columns</p>\n",
       "</div>"
      ],
      "text/plain": [
       "                   ID       answer\n",
       "2     BC_B_J_20230304  2384.968678\n",
       "4     BC_B_S_20230304   100.733655\n",
       "6     BC_C_J_20230304  2293.269558\n",
       "7     BC_A_S_20230304  2751.574472\n",
       "10    BC_D_J_20230304  2776.219702\n",
       "...               ...          ...\n",
       "1085  RD_D_S_20230331   457.576344\n",
       "1086  CR_C_J_20230331  1783.102829\n",
       "1088  RD_D_J_20230331   398.828636\n",
       "1089  CR_D_J_20230331  1822.411070\n",
       "1091  RD_F_J_20230331   552.992025\n",
       "\n",
       "[812 rows x 2 columns]"
      ]
     },
     "execution_count": 23,
     "metadata": {},
     "output_type": "execute_result"
    }
   ],
   "source": [
    "## 앙상블 모델 정의\n",
    "\n",
    "cat = CatBoostRegressor(random_state = 2024, \n",
    "                            n_estimators = 1000, \n",
    "                            learning_rate = 0.01, \n",
    "                            depth = 10,\n",
    "                            l2_leaf_reg = 3,\n",
    "                            metric_period = 1000)\n",
    "\n",
    "xgb = XGBRegressor(n_estimators = 1000, random_state = 2024, learning_rate = 0.01, max_depth = 10)\n",
    "\n",
    "\n",
    "# voting\n",
    "vote_model = VotingRegressor(\n",
    "    estimators =[(\"cat\",cat), (\"xgb\", xgb)]\n",
    ")\n",
    "\n",
    "vote_model.fit(Xy.drop(columns = [\"timestamp\", \"ID\",\"price\"]), Xy[\"price\"])\n",
    "\n",
    "pred = vote_model.predict(answer_notg.drop(columns = [\"ID\"]))\n",
    "for idx in range(len(pred)):\n",
    "    if pred[idx]<0:\n",
    "        pred[idx]= 0\n",
    "answer_notg[\"answer\"] = pred\n",
    "\n",
    "answer_notg[[\"ID\",\"answer\"]]"
   ]
  },
  {
   "cell_type": "markdown",
   "metadata": {},
   "source": [
    "# 3. TG (1)\n",
    "### 3-1. 전처리"
   ]
  },
  {
   "cell_type": "code",
   "execution_count": 24,
   "metadata": {},
   "outputs": [
    {
     "name": "stdout",
     "output_type": "stream",
     "text": [
      "전처리 전 train 크기 : (59397, 7)\n",
      "전처리 전 test 크기 : (1092, 5)\n",
      "=================전처리 중=================\n",
      "전처리 후 train 크기 : (59397, 15)\n",
      "전처리 후 test 크기 : (1092, 15)\n",
      "train의 컬럼 : Index(['ID', 'timestamp', 'price', 'year', 'month', 'day', 'week_day',\n",
      "       'year_month', 'week', 'week_num', 'holiday', 'item_TG', 'corporation_A',\n",
      "       'corporation_B', 'corporation_C', 'corporation_D', 'corporation_E',\n",
      "       'location_J', 'location_S'],\n",
      "      dtype='object')\n",
      "test의 컬럼 : Index(['ID', 'year', 'month', 'day', 'week_day', 'year_month', 'week',\n",
      "       'week_num', 'holiday', 'item_TG', 'corporation_A', 'corporation_B',\n",
      "       'corporation_C', 'corporation_D', 'corporation_E', 'location_J',\n",
      "       'location_S'],\n",
      "      dtype='object')\n"
     ]
    }
   ],
   "source": [
    "train_pre, test_pre = pre_all(train, test)\n",
    "\n",
    "# 공휴일이지만 안쉬는 날 제외하기\n",
    "no_holi = list(train_pre[(train_pre[\"item\"] ==\"TG\") &(train_pre[\"holiday\"]==1) & (train_pre[\"price\"]!=0)].groupby(\"timestamp\").count().reset_index()[\"timestamp\"])\n",
    "noholi_idx = train_pre[train_pre[\"timestamp\"].isin(no_holi)][\"holiday\"].index\n",
    "for idx in noholi_idx:\n",
    "    train_pre.loc[idx, \"holiday\"] = 0\n",
    "\n",
    "# train 및 test 시간 순서로 정렬하기\n",
    "train_tg = train_pre[train_pre[\"item\"] == \"TG\"].sort_values(by = [\"timestamp\"]).reset_index(drop= True)\n",
    "test_tg = test_pre[test_pre[\"item\"] == \"TG\"].sort_values(by = [\"timestamp\"]).reset_index(drop= True)\n",
    "\n",
    "Xy = pd.get_dummies(train_tg, columns = [ \"item\",\"corporation\",\"location\"]).drop(columns = [\"supply\"])\n",
    "answer_tg1 = pd.get_dummies(test_tg, columns = [ \"item\",\"corporation\",\"location\"]).drop(columns = [\"timestamp\",\"supply\",\"price\"])\n",
    "print(f\"train의 컬럼 : {Xy.columns}\")\n",
    "print(f\"test의 컬럼 : {answer_tg1.columns}\")\n",
    "Xy[\"price\"] = np.sqrt(Xy[\"price\"])"
   ]
  },
  {
   "cell_type": "markdown",
   "metadata": {},
   "source": [
    "### 3-2. 모델링 & 훈련 예측"
   ]
  },
  {
   "cell_type": "code",
   "execution_count": 25,
   "metadata": {},
   "outputs": [
    {
     "name": "stdout",
     "output_type": "stream",
     "text": [
      "0:\tlearn: 30.9664058\ttotal: 3.96ms\tremaining: 3.96s\n",
      "999:\tlearn: 15.5181153\ttotal: 2.93s\tremaining: 0us\n"
     ]
    },
    {
     "data": {
      "text/html": [
       "<div>\n",
       "<style scoped>\n",
       "    .dataframe tbody tr th:only-of-type {\n",
       "        vertical-align: middle;\n",
       "    }\n",
       "\n",
       "    .dataframe tbody tr th {\n",
       "        vertical-align: top;\n",
       "    }\n",
       "\n",
       "    .dataframe thead th {\n",
       "        text-align: right;\n",
       "    }\n",
       "</style>\n",
       "<table border=\"1\" class=\"dataframe\">\n",
       "  <thead>\n",
       "    <tr style=\"text-align: right;\">\n",
       "      <th></th>\n",
       "      <th>ID</th>\n",
       "      <th>answer</th>\n",
       "    </tr>\n",
       "  </thead>\n",
       "  <tbody>\n",
       "    <tr>\n",
       "      <th>0</th>\n",
       "      <td>TG_A_J_20230304</td>\n",
       "      <td>2563.261796</td>\n",
       "    </tr>\n",
       "    <tr>\n",
       "      <th>1</th>\n",
       "      <td>TG_E_S_20230304</td>\n",
       "      <td>3458.001764</td>\n",
       "    </tr>\n",
       "    <tr>\n",
       "      <th>2</th>\n",
       "      <td>TG_E_J_20230304</td>\n",
       "      <td>377.066719</td>\n",
       "    </tr>\n",
       "    <tr>\n",
       "      <th>3</th>\n",
       "      <td>TG_D_S_20230304</td>\n",
       "      <td>3662.783068</td>\n",
       "    </tr>\n",
       "    <tr>\n",
       "      <th>4</th>\n",
       "      <td>TG_D_J_20230304</td>\n",
       "      <td>607.878918</td>\n",
       "    </tr>\n",
       "    <tr>\n",
       "      <th>...</th>\n",
       "      <td>...</td>\n",
       "      <td>...</td>\n",
       "    </tr>\n",
       "    <tr>\n",
       "      <th>275</th>\n",
       "      <td>TG_D_J_20230331</td>\n",
       "      <td>2804.801999</td>\n",
       "    </tr>\n",
       "    <tr>\n",
       "      <th>276</th>\n",
       "      <td>TG_D_S_20230331</td>\n",
       "      <td>4860.908623</td>\n",
       "    </tr>\n",
       "    <tr>\n",
       "      <th>277</th>\n",
       "      <td>TG_A_S_20230331</td>\n",
       "      <td>5304.802147</td>\n",
       "    </tr>\n",
       "    <tr>\n",
       "      <th>278</th>\n",
       "      <td>TG_E_S_20230331</td>\n",
       "      <td>4859.787923</td>\n",
       "    </tr>\n",
       "    <tr>\n",
       "      <th>279</th>\n",
       "      <td>TG_E_J_20230331</td>\n",
       "      <td>1911.300384</td>\n",
       "    </tr>\n",
       "  </tbody>\n",
       "</table>\n",
       "<p>280 rows × 2 columns</p>\n",
       "</div>"
      ],
      "text/plain": [
       "                  ID       answer\n",
       "0    TG_A_J_20230304  2563.261796\n",
       "1    TG_E_S_20230304  3458.001764\n",
       "2    TG_E_J_20230304   377.066719\n",
       "3    TG_D_S_20230304  3662.783068\n",
       "4    TG_D_J_20230304   607.878918\n",
       "..               ...          ...\n",
       "275  TG_D_J_20230331  2804.801999\n",
       "276  TG_D_S_20230331  4860.908623\n",
       "277  TG_A_S_20230331  5304.802147\n",
       "278  TG_E_S_20230331  4859.787923\n",
       "279  TG_E_J_20230331  1911.300384\n",
       "\n",
       "[280 rows x 2 columns]"
      ]
     },
     "execution_count": 25,
     "metadata": {},
     "output_type": "execute_result"
    }
   ],
   "source": [
    "# # 모델 정의\n",
    "cat = CatBoostRegressor(random_state = 2024, \n",
    "                            n_estimators = 1000, \n",
    "                            learning_rate = 0.01, \n",
    "                            depth = 10,\n",
    "                            l2_leaf_reg = 3,\n",
    "                            metric_period = 1000)\n",
    "\n",
    "xgb = XGBRegressor(n_estimators = 1000, random_state = 2024, learning_rate = 0.01, max_depth = 10)\n",
    "\n",
    "\n",
    "# voting\n",
    "vote_model = VotingRegressor(\n",
    "    estimators =[(\"cat\",cat), (\"xgb\", xgb)]\n",
    ")\n",
    "\n",
    "vote_model.fit(Xy.drop(columns = [\"timestamp\", \"ID\",\"price\"]), Xy[\"price\"])\n",
    "\n",
    "pred = vote_model.predict(answer_tg1.drop(columns = [\"ID\"]))\n",
    "for idx in range(len(pred)):\n",
    "    if pred[idx]<0:\n",
    "        pred[idx]= 0\n",
    "answer_tg1[\"answer\"] = np.power(pred,2)\n",
    "\n",
    "answer_tg1[[\"ID\",\"answer\"]]"
   ]
  },
  {
   "cell_type": "markdown",
   "metadata": {},
   "source": [
    "# 4. TG (2)\n",
    "- 일반화를 위한 추가 모델링\n",
    "### 4-1. 전처리"
   ]
  },
  {
   "cell_type": "code",
   "execution_count": 26,
   "metadata": {},
   "outputs": [
    {
     "name": "stdout",
     "output_type": "stream",
     "text": [
      "Index(['ID', 'timestamp', 'price', 'year', 'month', 'day', 'week_day',\n",
      "       'year_month', 'week', 'week_num', 'holiday', 'corporation_A',\n",
      "       'corporation_B', 'corporation_C', 'corporation_D', 'corporation_E',\n",
      "       'location_J', 'location_S'],\n",
      "      dtype='object')\n"
     ]
    }
   ],
   "source": [
    "train_tg2 = train_pre[train_pre[\"item\"] ==\"TG\"]\n",
    "test_tg2 = test_pre[test_pre[\"item\"] == \"TG\"]\n",
    "\n",
    "Xy2 = pd.get_dummies(train_tg2.sort_values(by = [\"timestamp\", \"corporation\",\"location\"]).reset_index(drop=True).drop(columns = [\"item\",\"supply\"]), columns = [ \"corporation\",\"location\"])\n",
    "answer_tg2 = pd.get_dummies(test_tg2.drop(columns = [\"timestamp\",\"supply\",\"price\",\"item\"]), columns = [ \"corporation\",\"location\"])\n",
    "print(Xy2.columns)\n",
    "\n",
    "# 종속변수 루트값\n",
    "Xy2[\"price\"] = np.sqrt(Xy2[\"price\"])"
   ]
  },
  {
   "cell_type": "markdown",
   "metadata": {},
   "source": [
    "### 4-2. 모델링 & 훈련 예측"
   ]
  },
  {
   "cell_type": "code",
   "execution_count": 27,
   "metadata": {},
   "outputs": [
    {
     "name": "stdout",
     "output_type": "stream",
     "text": [
      "0:\tlearn: 30.2823698\ttotal: 3.48ms\tremaining: 3.48s\n",
      "999:\tlearn: 11.0655757\ttotal: 3.03s\tremaining: 0us\n"
     ]
    },
    {
     "data": {
      "text/html": [
       "<div>\n",
       "<style scoped>\n",
       "    .dataframe tbody tr th:only-of-type {\n",
       "        vertical-align: middle;\n",
       "    }\n",
       "\n",
       "    .dataframe tbody tr th {\n",
       "        vertical-align: top;\n",
       "    }\n",
       "\n",
       "    .dataframe thead th {\n",
       "        text-align: right;\n",
       "    }\n",
       "</style>\n",
       "<table border=\"1\" class=\"dataframe\">\n",
       "  <thead>\n",
       "    <tr style=\"text-align: right;\">\n",
       "      <th></th>\n",
       "      <th>ID</th>\n",
       "      <th>answer</th>\n",
       "    </tr>\n",
       "  </thead>\n",
       "  <tbody>\n",
       "    <tr>\n",
       "      <th>0</th>\n",
       "      <td>TG_A_J_20230304</td>\n",
       "      <td>2742.172780</td>\n",
       "    </tr>\n",
       "    <tr>\n",
       "      <th>1</th>\n",
       "      <td>TG_E_S_20230304</td>\n",
       "      <td>3354.003496</td>\n",
       "    </tr>\n",
       "    <tr>\n",
       "      <th>3</th>\n",
       "      <td>TG_E_J_20230304</td>\n",
       "      <td>760.581106</td>\n",
       "    </tr>\n",
       "    <tr>\n",
       "      <th>5</th>\n",
       "      <td>TG_D_S_20230304</td>\n",
       "      <td>3769.615969</td>\n",
       "    </tr>\n",
       "    <tr>\n",
       "      <th>8</th>\n",
       "      <td>TG_D_J_20230304</td>\n",
       "      <td>53.451592</td>\n",
       "    </tr>\n",
       "    <tr>\n",
       "      <th>...</th>\n",
       "      <td>...</td>\n",
       "      <td>...</td>\n",
       "    </tr>\n",
       "    <tr>\n",
       "      <th>1074</th>\n",
       "      <td>TG_D_S_20230331</td>\n",
       "      <td>4727.895634</td>\n",
       "    </tr>\n",
       "    <tr>\n",
       "      <th>1077</th>\n",
       "      <td>TG_A_S_20230331</td>\n",
       "      <td>5403.967583</td>\n",
       "    </tr>\n",
       "    <tr>\n",
       "      <th>1079</th>\n",
       "      <td>TG_E_S_20230331</td>\n",
       "      <td>4715.201735</td>\n",
       "    </tr>\n",
       "    <tr>\n",
       "      <th>1087</th>\n",
       "      <td>TG_A_J_20230331</td>\n",
       "      <td>6813.935154</td>\n",
       "    </tr>\n",
       "    <tr>\n",
       "      <th>1090</th>\n",
       "      <td>TG_E_J_20230331</td>\n",
       "      <td>2810.642810</td>\n",
       "    </tr>\n",
       "  </tbody>\n",
       "</table>\n",
       "<p>280 rows × 2 columns</p>\n",
       "</div>"
      ],
      "text/plain": [
       "                   ID       answer\n",
       "0     TG_A_J_20230304  2742.172780\n",
       "1     TG_E_S_20230304  3354.003496\n",
       "3     TG_E_J_20230304   760.581106\n",
       "5     TG_D_S_20230304  3769.615969\n",
       "8     TG_D_J_20230304    53.451592\n",
       "...               ...          ...\n",
       "1074  TG_D_S_20230331  4727.895634\n",
       "1077  TG_A_S_20230331  5403.967583\n",
       "1079  TG_E_S_20230331  4715.201735\n",
       "1087  TG_A_J_20230331  6813.935154\n",
       "1090  TG_E_J_20230331  2810.642810\n",
       "\n",
       "[280 rows x 2 columns]"
      ]
     },
     "execution_count": 27,
     "metadata": {},
     "output_type": "execute_result"
    }
   ],
   "source": [
    "# 모델 정의 및 훈련 예측\n",
    "n_estimators =1000\n",
    "lrs = 0.05\n",
    "max_depths = 10\n",
    "l2_leaf_reg = 3\n",
    "\n",
    "cat = CatBoostRegressor(random_state = 2024, \n",
    "                                n_estimators = n_estimators, \n",
    "                                learning_rate = lrs, \n",
    "                                depth = max_depths, \n",
    "                                l2_leaf_reg = l2_leaf_reg,\n",
    "                                metric_period = 1000)\n",
    "\n",
    "cat.fit(Xy2.drop(columns = [\"timestamp\", \"ID\",\"price\"]), Xy2[\"price\"])\n",
    "\n",
    "pred2 = cat.predict(answer_tg2.drop(columns = [\"ID\"]))\n",
    "for idx in range(len(pred2)):\n",
    "    if pred2[idx]<0:\n",
    "        pred2[idx]= 0\n",
    "answer_tg2[\"answer\"] = np.power(pred2,2)\n",
    "\n",
    "answer_tg2[[\"ID\",\"answer\"]]"
   ]
  },
  {
   "cell_type": "markdown",
   "metadata": {},
   "source": [
    "# 5. TG 앙상블"
   ]
  },
  {
   "cell_type": "code",
   "execution_count": 28,
   "metadata": {},
   "outputs": [],
   "source": [
    "total1 = pd.concat([answer_tg1[[\"ID\",\"answer\"]],answer_notg[[\"ID\",\"answer\"]]])\n",
    "total2 = pd.concat([answer_tg2[[\"ID\",\"answer\"]],answer_notg[[\"ID\",\"answer\"]]])"
   ]
  },
  {
   "cell_type": "code",
   "execution_count": 32,
   "metadata": {},
   "outputs": [
    {
     "name": "stdout",
     "output_type": "stream",
     "text": [
      "(1092, 2)\n",
      "(1092, 2)\n"
     ]
    }
   ],
   "source": [
    "print(total1.shape)\n",
    "print(total2.shape)"
   ]
  },
  {
   "cell_type": "code",
   "execution_count": 29,
   "metadata": {},
   "outputs": [],
   "source": [
    "# TG 앙상블 (평균)\n",
    "\n",
    "df = pd.merge(total1, total2, how = \"inner\", on=\"ID\")"
   ]
  },
  {
   "cell_type": "code",
   "execution_count": 31,
   "metadata": {},
   "outputs": [
    {
     "data": {
      "text/html": [
       "<div>\n",
       "<style scoped>\n",
       "    .dataframe tbody tr th:only-of-type {\n",
       "        vertical-align: middle;\n",
       "    }\n",
       "\n",
       "    .dataframe tbody tr th {\n",
       "        vertical-align: top;\n",
       "    }\n",
       "\n",
       "    .dataframe thead th {\n",
       "        text-align: right;\n",
       "    }\n",
       "</style>\n",
       "<table border=\"1\" class=\"dataframe\">\n",
       "  <thead>\n",
       "    <tr style=\"text-align: right;\">\n",
       "      <th></th>\n",
       "      <th>ID</th>\n",
       "      <th>answer_x</th>\n",
       "      <th>answer_y</th>\n",
       "    </tr>\n",
       "  </thead>\n",
       "  <tbody>\n",
       "    <tr>\n",
       "      <th>0</th>\n",
       "      <td>TG_A_J_20230304</td>\n",
       "      <td>2563.261796</td>\n",
       "      <td>2742.172780</td>\n",
       "    </tr>\n",
       "    <tr>\n",
       "      <th>1</th>\n",
       "      <td>TG_E_S_20230304</td>\n",
       "      <td>3458.001764</td>\n",
       "      <td>3354.003496</td>\n",
       "    </tr>\n",
       "    <tr>\n",
       "      <th>2</th>\n",
       "      <td>TG_E_J_20230304</td>\n",
       "      <td>377.066719</td>\n",
       "      <td>760.581106</td>\n",
       "    </tr>\n",
       "    <tr>\n",
       "      <th>3</th>\n",
       "      <td>TG_D_S_20230304</td>\n",
       "      <td>3662.783068</td>\n",
       "      <td>3769.615969</td>\n",
       "    </tr>\n",
       "    <tr>\n",
       "      <th>4</th>\n",
       "      <td>TG_D_J_20230304</td>\n",
       "      <td>607.878918</td>\n",
       "      <td>53.451592</td>\n",
       "    </tr>\n",
       "    <tr>\n",
       "      <th>...</th>\n",
       "      <td>...</td>\n",
       "      <td>...</td>\n",
       "      <td>...</td>\n",
       "    </tr>\n",
       "    <tr>\n",
       "      <th>1087</th>\n",
       "      <td>RD_D_S_20230331</td>\n",
       "      <td>457.576344</td>\n",
       "      <td>457.576344</td>\n",
       "    </tr>\n",
       "    <tr>\n",
       "      <th>1088</th>\n",
       "      <td>CR_C_J_20230331</td>\n",
       "      <td>1783.102829</td>\n",
       "      <td>1783.102829</td>\n",
       "    </tr>\n",
       "    <tr>\n",
       "      <th>1089</th>\n",
       "      <td>RD_D_J_20230331</td>\n",
       "      <td>398.828636</td>\n",
       "      <td>398.828636</td>\n",
       "    </tr>\n",
       "    <tr>\n",
       "      <th>1090</th>\n",
       "      <td>CR_D_J_20230331</td>\n",
       "      <td>1822.411070</td>\n",
       "      <td>1822.411070</td>\n",
       "    </tr>\n",
       "    <tr>\n",
       "      <th>1091</th>\n",
       "      <td>RD_F_J_20230331</td>\n",
       "      <td>552.992025</td>\n",
       "      <td>552.992025</td>\n",
       "    </tr>\n",
       "  </tbody>\n",
       "</table>\n",
       "<p>1092 rows × 3 columns</p>\n",
       "</div>"
      ],
      "text/plain": [
       "                   ID     answer_x     answer_y\n",
       "0     TG_A_J_20230304  2563.261796  2742.172780\n",
       "1     TG_E_S_20230304  3458.001764  3354.003496\n",
       "2     TG_E_J_20230304   377.066719   760.581106\n",
       "3     TG_D_S_20230304  3662.783068  3769.615969\n",
       "4     TG_D_J_20230304   607.878918    53.451592\n",
       "...               ...          ...          ...\n",
       "1087  RD_D_S_20230331   457.576344   457.576344\n",
       "1088  CR_C_J_20230331  1783.102829  1783.102829\n",
       "1089  RD_D_J_20230331   398.828636   398.828636\n",
       "1090  CR_D_J_20230331  1822.411070  1822.411070\n",
       "1091  RD_F_J_20230331   552.992025   552.992025\n",
       "\n",
       "[1092 rows x 3 columns]"
      ]
     },
     "execution_count": 31,
     "metadata": {},
     "output_type": "execute_result"
    }
   ],
   "source": [
    "df"
   ]
  },
  {
   "cell_type": "code",
   "execution_count": 33,
   "metadata": {},
   "outputs": [],
   "source": [
    "\n",
    "df[\"answer\"] = (df[\"answer_x\"]+df[\"answer_y\"])/2\n",
    "df[\"item\"] = df[\"ID\"].map(lambda x :x.split(\"_\")[0])"
   ]
  },
  {
   "cell_type": "code",
   "execution_count": 6,
   "metadata": {},
   "outputs": [],
   "source": [
    "# 후처리 \n",
    "## 전체 min값 | 3월의 min값 확인\n",
    "df.loc[(df['item']=='TG')&(df['answer']<400),'answer'] =0 # 551   #3월 675\n",
    "df.loc[(df['item']=='CB')&(df['answer']<50),'answer'] =0 # 162  # 3월 200\n",
    "df.loc[(df['item']=='RD')&(df['answer']<10),'answer'] =0 # 50     # 3월 124\n",
    "df.loc[(df['item']=='CR')&(df['answer']<150),'answer'] =0 # 250   # 3월 450\n",
    "df.loc[(df['item']=='BC')&(df['answer']<100),'answer'] =0 #205 3월 205.0"
   ]
  },
  {
   "cell_type": "code",
   "execution_count": 10,
   "metadata": {},
   "outputs": [
    {
     "name": "stdout",
     "output_type": "stream",
     "text": [
      "           ID          ds       y\n",
      "0      TG_A_J  2019-01-01     0.0\n",
      "1      TG_A_J  2019-01-02     0.0\n",
      "2      TG_A_J  2019-01-03  1728.0\n",
      "3      TG_A_J  2019-01-04  1408.0\n",
      "4      TG_A_J  2019-01-05  1250.0\n",
      "...       ...         ...     ...\n",
      "59392  RD_F_J  2023-02-27   468.0\n",
      "59393  RD_F_J  2023-02-28   531.0\n",
      "59394  RD_F_J  2023-03-01   574.0\n",
      "59395  RD_F_J  2023-03-02   523.0\n",
      "59396  RD_F_J  2023-03-03   529.0\n",
      "\n",
      "[59397 rows x 3 columns]\n"
     ]
    }
   ],
   "source": [
    "df = df.drop(columns = [\"answer_x\",\"answer_y\", \"item\"])\n",
    "df"
   ]
  },
  {
   "cell_type": "code",
   "execution_count": 11,
   "metadata": {},
   "outputs": [
    {
     "name": "stderr",
     "output_type": "stream",
     "text": [
      "GPU available: False, used: False\n",
      "TPU available: False, using: 0 TPU cores\n",
      "IPU available: False, using: 0 IPUs\n",
      "HPU available: False, using: 0 HPUs\n",
      "\n",
      "  | Name            | Type             | Params\n",
      "-----------------------------------------------------\n",
      "0 | criterion       | MSELoss          | 0     \n",
      "1 | train_metrics   | MetricCollection | 0     \n",
      "2 | val_metrics     | MetricCollection | 0     \n",
      "3 | decomposition   | _SeriesDecomp    | 0     \n",
      "4 | linear_seasonal | Linear           | 3.6 K \n",
      "5 | linear_trend    | Linear           | 3.6 K \n",
      "-----------------------------------------------------\n",
      "7.2 K     Trainable params\n",
      "0         Non-trainable params\n",
      "7.2 K     Total params\n",
      "0.029     Total estimated model params size (MB)\n"
     ]
    },
    {
     "name": "stdout",
     "output_type": "stream",
     "text": [
      "Epoch 49: 100%|██████████| 6/6 [00:00<00:00, 31.09it/s, train_loss=5.13e+6]"
     ]
    },
    {
     "name": "stderr",
     "output_type": "stream",
     "text": [
      "`Trainer.fit` stopped: `max_epochs=50` reached.\n"
     ]
    },
    {
     "name": "stdout",
     "output_type": "stream",
     "text": [
      "Epoch 49: 100%|██████████| 6/6 [00:00<00:00, 30.62it/s, train_loss=5.13e+6]\n"
     ]
    },
    {
     "name": "stderr",
     "output_type": "stream",
     "text": [
      "GPU available: False, used: False\n",
      "TPU available: False, using: 0 TPU cores\n",
      "IPU available: False, using: 0 IPUs\n",
      "HPU available: False, using: 0 HPUs\n"
     ]
    },
    {
     "name": "stdout",
     "output_type": "stream",
     "text": [
      "Predicting DataLoader 0: 100%|██████████| 1/1 [00:00<00:00, 72.19it/s]\n"
     ]
    },
    {
     "name": "stderr",
     "output_type": "stream",
     "text": [
      "GPU available: False, used: False\n",
      "TPU available: False, using: 0 TPU cores\n",
      "IPU available: False, using: 0 IPUs\n",
      "HPU available: False, using: 0 HPUs\n",
      "\n",
      "  | Name            | Type             | Params\n",
      "-----------------------------------------------------\n",
      "0 | criterion       | MSELoss          | 0     \n",
      "1 | train_metrics   | MetricCollection | 0     \n",
      "2 | val_metrics     | MetricCollection | 0     \n",
      "3 | decomposition   | _SeriesDecomp    | 0     \n",
      "4 | linear_seasonal | Linear           | 3.6 K \n",
      "5 | linear_trend    | Linear           | 3.6 K \n",
      "-----------------------------------------------------\n",
      "7.2 K     Trainable params\n",
      "0         Non-trainable params\n",
      "7.2 K     Total params\n",
      "0.029     Total estimated model params size (MB)\n"
     ]
    },
    {
     "name": "stdout",
     "output_type": "stream",
     "text": [
      "Epoch 49: 100%|██████████| 6/6 [00:00<00:00, 31.39it/s, train_loss=1.75e+6]"
     ]
    },
    {
     "name": "stderr",
     "output_type": "stream",
     "text": [
      "`Trainer.fit` stopped: `max_epochs=50` reached.\n"
     ]
    },
    {
     "name": "stdout",
     "output_type": "stream",
     "text": [
      "Epoch 49: 100%|██████████| 6/6 [00:00<00:00, 31.00it/s, train_loss=1.75e+6]\n"
     ]
    },
    {
     "name": "stderr",
     "output_type": "stream",
     "text": [
      "GPU available: False, used: False\n",
      "TPU available: False, using: 0 TPU cores\n",
      "IPU available: False, using: 0 IPUs\n",
      "HPU available: False, using: 0 HPUs\n"
     ]
    },
    {
     "name": "stdout",
     "output_type": "stream",
     "text": [
      "Predicting DataLoader 0: 100%|██████████| 1/1 [00:00<00:00, 175.05it/s]\n"
     ]
    },
    {
     "name": "stderr",
     "output_type": "stream",
     "text": [
      "GPU available: False, used: False\n",
      "TPU available: False, using: 0 TPU cores\n",
      "IPU available: False, using: 0 IPUs\n",
      "HPU available: False, using: 0 HPUs\n",
      "\n",
      "  | Name            | Type             | Params\n",
      "-----------------------------------------------------\n",
      "0 | criterion       | MSELoss          | 0     \n",
      "1 | train_metrics   | MetricCollection | 0     \n",
      "2 | val_metrics     | MetricCollection | 0     \n",
      "3 | decomposition   | _SeriesDecomp    | 0     \n",
      "4 | linear_seasonal | Linear           | 3.6 K \n",
      "5 | linear_trend    | Linear           | 3.6 K \n",
      "-----------------------------------------------------\n",
      "7.2 K     Trainable params\n",
      "0         Non-trainable params\n",
      "7.2 K     Total params\n",
      "0.029     Total estimated model params size (MB)\n"
     ]
    },
    {
     "name": "stdout",
     "output_type": "stream",
     "text": [
      "Epoch 49: 100%|██████████| 6/6 [00:00<00:00, 27.65it/s, train_loss=5.9e+6] "
     ]
    },
    {
     "name": "stderr",
     "output_type": "stream",
     "text": [
      "`Trainer.fit` stopped: `max_epochs=50` reached.\n"
     ]
    },
    {
     "name": "stdout",
     "output_type": "stream",
     "text": [
      "Epoch 49: 100%|██████████| 6/6 [00:00<00:00, 27.36it/s, train_loss=5.9e+6]\n"
     ]
    },
    {
     "name": "stderr",
     "output_type": "stream",
     "text": [
      "GPU available: False, used: False\n",
      "TPU available: False, using: 0 TPU cores\n",
      "IPU available: False, using: 0 IPUs\n",
      "HPU available: False, using: 0 HPUs\n"
     ]
    },
    {
     "name": "stdout",
     "output_type": "stream",
     "text": [
      "Predicting DataLoader 0: 100%|██████████| 1/1 [00:00<00:00, 214.40it/s]"
     ]
    },
    {
     "name": "stderr",
     "output_type": "stream",
     "text": [
      "GPU available: False, used: False\n",
      "TPU available: False, using: 0 TPU cores\n",
      "IPU available: False, using: 0 IPUs\n",
      "HPU available: False, using: 0 HPUs\n"
     ]
    },
    {
     "name": "stdout",
     "output_type": "stream",
     "text": [
      "\n"
     ]
    },
    {
     "name": "stderr",
     "output_type": "stream",
     "text": [
      "\n",
      "  | Name            | Type             | Params\n",
      "-----------------------------------------------------\n",
      "0 | criterion       | MSELoss          | 0     \n",
      "1 | train_metrics   | MetricCollection | 0     \n",
      "2 | val_metrics     | MetricCollection | 0     \n",
      "3 | decomposition   | _SeriesDecomp    | 0     \n",
      "4 | linear_seasonal | Linear           | 3.6 K \n",
      "5 | linear_trend    | Linear           | 3.6 K \n",
      "-----------------------------------------------------\n",
      "7.2 K     Trainable params\n",
      "0         Non-trainable params\n",
      "7.2 K     Total params\n",
      "0.029     Total estimated model params size (MB)\n"
     ]
    },
    {
     "name": "stdout",
     "output_type": "stream",
     "text": [
      "Epoch 49: 100%|██████████| 6/6 [00:00<00:00, 29.82it/s, train_loss=2.31e+6]"
     ]
    },
    {
     "name": "stderr",
     "output_type": "stream",
     "text": [
      "`Trainer.fit` stopped: `max_epochs=50` reached.\n"
     ]
    },
    {
     "name": "stdout",
     "output_type": "stream",
     "text": [
      "Epoch 49: 100%|██████████| 6/6 [00:00<00:00, 29.50it/s, train_loss=2.31e+6]"
     ]
    },
    {
     "name": "stderr",
     "output_type": "stream",
     "text": [
      "GPU available: False, used: False\n"
     ]
    },
    {
     "name": "stdout",
     "output_type": "stream",
     "text": [
      "\n"
     ]
    },
    {
     "name": "stderr",
     "output_type": "stream",
     "text": [
      "TPU available: False, using: 0 TPU cores\n",
      "IPU available: False, using: 0 IPUs\n",
      "HPU available: False, using: 0 HPUs\n"
     ]
    },
    {
     "name": "stdout",
     "output_type": "stream",
     "text": [
      "Predicting DataLoader 0: 100%|██████████| 1/1 [00:00<00:00, 186.17it/s]\n"
     ]
    },
    {
     "name": "stderr",
     "output_type": "stream",
     "text": [
      "GPU available: False, used: False\n",
      "TPU available: False, using: 0 TPU cores\n",
      "IPU available: False, using: 0 IPUs\n",
      "HPU available: False, using: 0 HPUs\n",
      "\n",
      "  | Name            | Type             | Params\n",
      "-----------------------------------------------------\n",
      "0 | criterion       | MSELoss          | 0     \n",
      "1 | train_metrics   | MetricCollection | 0     \n",
      "2 | val_metrics     | MetricCollection | 0     \n",
      "3 | decomposition   | _SeriesDecomp    | 0     \n",
      "4 | linear_seasonal | Linear           | 3.6 K \n",
      "5 | linear_trend    | Linear           | 3.6 K \n",
      "-----------------------------------------------------\n",
      "7.2 K     Trainable params\n",
      "0         Non-trainable params\n",
      "7.2 K     Total params\n",
      "0.029     Total estimated model params size (MB)\n"
     ]
    },
    {
     "name": "stdout",
     "output_type": "stream",
     "text": [
      "Epoch 49: 100%|██████████| 6/6 [00:00<00:00, 29.01it/s, train_loss=4.21e+6]"
     ]
    },
    {
     "name": "stderr",
     "output_type": "stream",
     "text": [
      "`Trainer.fit` stopped: `max_epochs=50` reached.\n"
     ]
    },
    {
     "name": "stdout",
     "output_type": "stream",
     "text": [
      "Epoch 49: 100%|██████████| 6/6 [00:00<00:00, 28.64it/s, train_loss=4.21e+6]"
     ]
    },
    {
     "name": "stderr",
     "output_type": "stream",
     "text": [
      "GPU available: False, used: False\n"
     ]
    },
    {
     "name": "stdout",
     "output_type": "stream",
     "text": [
      "\n"
     ]
    },
    {
     "name": "stderr",
     "output_type": "stream",
     "text": [
      "TPU available: False, using: 0 TPU cores\n",
      "IPU available: False, using: 0 IPUs\n",
      "HPU available: False, using: 0 HPUs\n"
     ]
    },
    {
     "name": "stdout",
     "output_type": "stream",
     "text": [
      "Predicting DataLoader 0: 100%|██████████| 1/1 [00:00<00:00, 146.09it/s]\n"
     ]
    },
    {
     "name": "stderr",
     "output_type": "stream",
     "text": [
      "GPU available: False, used: False\n",
      "TPU available: False, using: 0 TPU cores\n",
      "IPU available: False, using: 0 IPUs\n",
      "HPU available: False, using: 0 HPUs\n",
      "\n",
      "  | Name            | Type             | Params\n",
      "-----------------------------------------------------\n",
      "0 | criterion       | MSELoss          | 0     \n",
      "1 | train_metrics   | MetricCollection | 0     \n",
      "2 | val_metrics     | MetricCollection | 0     \n",
      "3 | decomposition   | _SeriesDecomp    | 0     \n",
      "4 | linear_seasonal | Linear           | 3.6 K \n",
      "5 | linear_trend    | Linear           | 3.6 K \n",
      "-----------------------------------------------------\n",
      "7.2 K     Trainable params\n",
      "0         Non-trainable params\n",
      "7.2 K     Total params\n",
      "0.029     Total estimated model params size (MB)\n"
     ]
    },
    {
     "name": "stdout",
     "output_type": "stream",
     "text": [
      "Epoch 49: 100%|██████████| 6/6 [00:00<00:00, 30.05it/s, train_loss=2.13e+6]"
     ]
    },
    {
     "name": "stderr",
     "output_type": "stream",
     "text": [
      "`Trainer.fit` stopped: `max_epochs=50` reached.\n"
     ]
    },
    {
     "name": "stdout",
     "output_type": "stream",
     "text": [
      "Epoch 49: 100%|██████████| 6/6 [00:00<00:00, 29.68it/s, train_loss=2.13e+6]"
     ]
    },
    {
     "name": "stderr",
     "output_type": "stream",
     "text": [
      "GPU available: False, used: False\n",
      "TPU available: False, using: 0 TPU cores\n",
      "IPU available: False, using: 0 IPUs\n",
      "HPU available: False, using: 0 HPUs\n"
     ]
    },
    {
     "name": "stdout",
     "output_type": "stream",
     "text": [
      "\n",
      "Predicting DataLoader 0: 100%|██████████| 1/1 [00:00<00:00, 151.27it/s]\n"
     ]
    },
    {
     "name": "stderr",
     "output_type": "stream",
     "text": [
      "GPU available: False, used: False\n",
      "TPU available: False, using: 0 TPU cores\n",
      "IPU available: False, using: 0 IPUs\n",
      "HPU available: False, using: 0 HPUs\n",
      "\n",
      "  | Name            | Type             | Params\n",
      "-----------------------------------------------------\n",
      "0 | criterion       | MSELoss          | 0     \n",
      "1 | train_metrics   | MetricCollection | 0     \n",
      "2 | val_metrics     | MetricCollection | 0     \n",
      "3 | decomposition   | _SeriesDecomp    | 0     \n",
      "4 | linear_seasonal | Linear           | 3.6 K \n",
      "5 | linear_trend    | Linear           | 3.6 K \n",
      "-----------------------------------------------------\n",
      "7.2 K     Trainable params\n",
      "0         Non-trainable params\n",
      "7.2 K     Total params\n",
      "0.029     Total estimated model params size (MB)\n"
     ]
    },
    {
     "name": "stdout",
     "output_type": "stream",
     "text": [
      "Epoch 49: 100%|██████████| 6/6 [00:00<00:00, 28.75it/s, train_loss=3.79e+6]"
     ]
    },
    {
     "name": "stderr",
     "output_type": "stream",
     "text": [
      "`Trainer.fit` stopped: `max_epochs=50` reached.\n"
     ]
    },
    {
     "name": "stdout",
     "output_type": "stream",
     "text": [
      "Epoch 49: 100%|██████████| 6/6 [00:00<00:00, 28.49it/s, train_loss=3.79e+6]\n"
     ]
    },
    {
     "name": "stderr",
     "output_type": "stream",
     "text": [
      "GPU available: False, used: False\n",
      "TPU available: False, using: 0 TPU cores\n",
      "IPU available: False, using: 0 IPUs\n",
      "HPU available: False, using: 0 HPUs\n"
     ]
    },
    {
     "name": "stdout",
     "output_type": "stream",
     "text": [
      "Predicting DataLoader 0: 100%|██████████| 1/1 [00:00<00:00, 129.32it/s]\n"
     ]
    },
    {
     "name": "stderr",
     "output_type": "stream",
     "text": [
      "GPU available: False, used: False\n",
      "TPU available: False, using: 0 TPU cores\n",
      "IPU available: False, using: 0 IPUs\n",
      "HPU available: False, using: 0 HPUs\n",
      "\n",
      "  | Name            | Type             | Params\n",
      "-----------------------------------------------------\n",
      "0 | criterion       | MSELoss          | 0     \n",
      "1 | train_metrics   | MetricCollection | 0     \n",
      "2 | val_metrics     | MetricCollection | 0     \n",
      "3 | decomposition   | _SeriesDecomp    | 0     \n",
      "4 | linear_seasonal | Linear           | 3.6 K \n",
      "5 | linear_trend    | Linear           | 3.6 K \n",
      "-----------------------------------------------------\n",
      "7.2 K     Trainable params\n",
      "0         Non-trainable params\n",
      "7.2 K     Total params\n",
      "0.029     Total estimated model params size (MB)\n"
     ]
    },
    {
     "name": "stdout",
     "output_type": "stream",
     "text": [
      "Epoch 49: 100%|██████████| 6/6 [00:00<00:00, 28.98it/s, train_loss=2.8e+6] "
     ]
    },
    {
     "name": "stderr",
     "output_type": "stream",
     "text": [
      "`Trainer.fit` stopped: `max_epochs=50` reached.\n"
     ]
    },
    {
     "name": "stdout",
     "output_type": "stream",
     "text": [
      "Epoch 49: 100%|██████████| 6/6 [00:00<00:00, 28.63it/s, train_loss=2.8e+6]\n"
     ]
    },
    {
     "name": "stderr",
     "output_type": "stream",
     "text": [
      "GPU available: False, used: False\n",
      "TPU available: False, using: 0 TPU cores\n",
      "IPU available: False, using: 0 IPUs\n",
      "HPU available: False, using: 0 HPUs\n"
     ]
    },
    {
     "name": "stdout",
     "output_type": "stream",
     "text": [
      "Predicting DataLoader 0: 100%|██████████| 1/1 [00:00<00:00, 216.36it/s]\n"
     ]
    },
    {
     "name": "stderr",
     "output_type": "stream",
     "text": [
      "GPU available: False, used: False\n",
      "TPU available: False, using: 0 TPU cores\n",
      "IPU available: False, using: 0 IPUs\n",
      "HPU available: False, using: 0 HPUs\n",
      "\n",
      "  | Name            | Type             | Params\n",
      "-----------------------------------------------------\n",
      "0 | criterion       | MSELoss          | 0     \n",
      "1 | train_metrics   | MetricCollection | 0     \n",
      "2 | val_metrics     | MetricCollection | 0     \n",
      "3 | decomposition   | _SeriesDecomp    | 0     \n",
      "4 | linear_seasonal | Linear           | 3.6 K \n",
      "5 | linear_trend    | Linear           | 3.6 K \n",
      "-----------------------------------------------------\n",
      "7.2 K     Trainable params\n",
      "0         Non-trainable params\n",
      "7.2 K     Total params\n",
      "0.029     Total estimated model params size (MB)\n"
     ]
    },
    {
     "name": "stdout",
     "output_type": "stream",
     "text": [
      "Epoch 49: 100%|██████████| 6/6 [00:00<00:00, 30.91it/s, train_loss=5.3e+6] "
     ]
    },
    {
     "name": "stderr",
     "output_type": "stream",
     "text": [
      "`Trainer.fit` stopped: `max_epochs=50` reached.\n"
     ]
    },
    {
     "name": "stdout",
     "output_type": "stream",
     "text": [
      "Epoch 49: 100%|██████████| 6/6 [00:00<00:00, 30.40it/s, train_loss=5.3e+6]\n"
     ]
    },
    {
     "name": "stderr",
     "output_type": "stream",
     "text": [
      "GPU available: False, used: False\n",
      "TPU available: False, using: 0 TPU cores\n",
      "IPU available: False, using: 0 IPUs\n",
      "HPU available: False, using: 0 HPUs\n"
     ]
    },
    {
     "name": "stdout",
     "output_type": "stream",
     "text": [
      "Predicting DataLoader 0: 100%|██████████| 1/1 [00:00<00:00, 198.73it/s]\n"
     ]
    },
    {
     "name": "stderr",
     "output_type": "stream",
     "text": [
      "GPU available: False, used: False\n",
      "TPU available: False, using: 0 TPU cores\n",
      "IPU available: False, using: 0 IPUs\n",
      "HPU available: False, using: 0 HPUs\n",
      "\n",
      "  | Name            | Type             | Params\n",
      "-----------------------------------------------------\n",
      "0 | criterion       | MSELoss          | 0     \n",
      "1 | train_metrics   | MetricCollection | 0     \n",
      "2 | val_metrics     | MetricCollection | 0     \n",
      "3 | decomposition   | _SeriesDecomp    | 0     \n",
      "4 | linear_seasonal | Linear           | 3.6 K \n",
      "5 | linear_trend    | Linear           | 3.6 K \n",
      "-----------------------------------------------------\n",
      "7.2 K     Trainable params\n",
      "0         Non-trainable params\n",
      "7.2 K     Total params\n",
      "0.029     Total estimated model params size (MB)\n"
     ]
    },
    {
     "name": "stdout",
     "output_type": "stream",
     "text": [
      "Epoch 49: 100%|██████████| 6/6 [00:00<00:00, 28.50it/s, train_loss=1.82e+6]"
     ]
    },
    {
     "name": "stderr",
     "output_type": "stream",
     "text": [
      "`Trainer.fit` stopped: `max_epochs=50` reached.\n"
     ]
    },
    {
     "name": "stdout",
     "output_type": "stream",
     "text": [
      "Epoch 49: 100%|██████████| 6/6 [00:00<00:00, 28.09it/s, train_loss=1.82e+6]\n"
     ]
    },
    {
     "name": "stderr",
     "output_type": "stream",
     "text": [
      "GPU available: False, used: False\n",
      "TPU available: False, using: 0 TPU cores\n",
      "IPU available: False, using: 0 IPUs\n",
      "HPU available: False, using: 0 HPUs\n"
     ]
    },
    {
     "name": "stdout",
     "output_type": "stream",
     "text": [
      "Predicting DataLoader 0: 100%|██████████| 1/1 [00:00<00:00, 162.02it/s]\n"
     ]
    },
    {
     "name": "stderr",
     "output_type": "stream",
     "text": [
      "GPU available: False, used: False\n",
      "TPU available: False, using: 0 TPU cores\n",
      "IPU available: False, using: 0 IPUs\n",
      "HPU available: False, using: 0 HPUs\n",
      "\n",
      "  | Name            | Type             | Params\n",
      "-----------------------------------------------------\n",
      "0 | criterion       | MSELoss          | 0     \n",
      "1 | train_metrics   | MetricCollection | 0     \n",
      "2 | val_metrics     | MetricCollection | 0     \n",
      "3 | decomposition   | _SeriesDecomp    | 0     \n",
      "4 | linear_seasonal | Linear           | 3.6 K \n",
      "5 | linear_trend    | Linear           | 3.6 K \n",
      "-----------------------------------------------------\n",
      "7.2 K     Trainable params\n",
      "0         Non-trainable params\n",
      "7.2 K     Total params\n",
      "0.029     Total estimated model params size (MB)\n"
     ]
    },
    {
     "name": "stdout",
     "output_type": "stream",
     "text": [
      "Epoch 49: 100%|██████████| 6/6 [00:00<00:00, 30.44it/s, train_loss=1.93e+5]"
     ]
    },
    {
     "name": "stderr",
     "output_type": "stream",
     "text": [
      "`Trainer.fit` stopped: `max_epochs=50` reached.\n"
     ]
    },
    {
     "name": "stdout",
     "output_type": "stream",
     "text": [
      "Epoch 49: 100%|██████████| 6/6 [00:00<00:00, 30.07it/s, train_loss=1.93e+5]\n"
     ]
    },
    {
     "name": "stderr",
     "output_type": "stream",
     "text": [
      "GPU available: False, used: False\n",
      "TPU available: False, using: 0 TPU cores\n",
      "IPU available: False, using: 0 IPUs\n",
      "HPU available: False, using: 0 HPUs\n"
     ]
    },
    {
     "name": "stdout",
     "output_type": "stream",
     "text": [
      "Predicting DataLoader 0: 100%|██████████| 1/1 [00:00<00:00, 244.10it/s]"
     ]
    },
    {
     "name": "stderr",
     "output_type": "stream",
     "text": [
      "GPU available: False, used: False\n",
      "TPU available: False, using: 0 TPU cores\n",
      "IPU available: False, using: 0 IPUs\n"
     ]
    },
    {
     "name": "stdout",
     "output_type": "stream",
     "text": [
      "\n"
     ]
    },
    {
     "name": "stderr",
     "output_type": "stream",
     "text": [
      "HPU available: False, using: 0 HPUs\n",
      "\n",
      "  | Name            | Type             | Params\n",
      "-----------------------------------------------------\n",
      "0 | criterion       | MSELoss          | 0     \n",
      "1 | train_metrics   | MetricCollection | 0     \n",
      "2 | val_metrics     | MetricCollection | 0     \n",
      "3 | decomposition   | _SeriesDecomp    | 0     \n",
      "4 | linear_seasonal | Linear           | 3.6 K \n",
      "5 | linear_trend    | Linear           | 3.6 K \n",
      "-----------------------------------------------------\n",
      "7.2 K     Trainable params\n",
      "0         Non-trainable params\n",
      "7.2 K     Total params\n",
      "0.029     Total estimated model params size (MB)\n"
     ]
    },
    {
     "name": "stdout",
     "output_type": "stream",
     "text": [
      "Epoch 49: 100%|██████████| 6/6 [00:00<00:00, 30.50it/s, train_loss=1.23e+5]"
     ]
    },
    {
     "name": "stderr",
     "output_type": "stream",
     "text": [
      "`Trainer.fit` stopped: `max_epochs=50` reached.\n"
     ]
    },
    {
     "name": "stdout",
     "output_type": "stream",
     "text": [
      "Epoch 49: 100%|██████████| 6/6 [00:00<00:00, 30.17it/s, train_loss=1.23e+5]\n"
     ]
    },
    {
     "name": "stderr",
     "output_type": "stream",
     "text": [
      "GPU available: False, used: False\n",
      "TPU available: False, using: 0 TPU cores\n",
      "IPU available: False, using: 0 IPUs\n",
      "HPU available: False, using: 0 HPUs\n"
     ]
    },
    {
     "name": "stdout",
     "output_type": "stream",
     "text": [
      "Predicting DataLoader 0: 100%|██████████| 1/1 [00:00<00:00, 214.26it/s]"
     ]
    },
    {
     "name": "stderr",
     "output_type": "stream",
     "text": [
      "GPU available: False, used: False\n",
      "TPU available: False, using: 0 TPU cores\n",
      "IPU available: False, using: 0 IPUs\n"
     ]
    },
    {
     "name": "stdout",
     "output_type": "stream",
     "text": [
      "\n"
     ]
    },
    {
     "name": "stderr",
     "output_type": "stream",
     "text": [
      "HPU available: False, using: 0 HPUs\n",
      "\n",
      "  | Name            | Type             | Params\n",
      "-----------------------------------------------------\n",
      "0 | criterion       | MSELoss          | 0     \n",
      "1 | train_metrics   | MetricCollection | 0     \n",
      "2 | val_metrics     | MetricCollection | 0     \n",
      "3 | decomposition   | _SeriesDecomp    | 0     \n",
      "4 | linear_seasonal | Linear           | 3.6 K \n",
      "5 | linear_trend    | Linear           | 3.6 K \n",
      "-----------------------------------------------------\n",
      "7.2 K     Trainable params\n",
      "0         Non-trainable params\n",
      "7.2 K     Total params\n",
      "0.029     Total estimated model params size (MB)\n"
     ]
    },
    {
     "name": "stdout",
     "output_type": "stream",
     "text": [
      "Epoch 49: 100%|██████████| 6/6 [00:00<00:00, 30.53it/s, train_loss=2.26e+5]"
     ]
    },
    {
     "name": "stderr",
     "output_type": "stream",
     "text": [
      "`Trainer.fit` stopped: `max_epochs=50` reached.\n"
     ]
    },
    {
     "name": "stdout",
     "output_type": "stream",
     "text": [
      "Epoch 49: 100%|██████████| 6/6 [00:00<00:00, 30.10it/s, train_loss=2.26e+5]\n"
     ]
    },
    {
     "name": "stderr",
     "output_type": "stream",
     "text": [
      "GPU available: False, used: False\n",
      "TPU available: False, using: 0 TPU cores\n",
      "IPU available: False, using: 0 IPUs\n",
      "HPU available: False, using: 0 HPUs\n"
     ]
    },
    {
     "name": "stdout",
     "output_type": "stream",
     "text": [
      "Predicting DataLoader 0: 100%|██████████| 1/1 [00:00<00:00, 219.41it/s]\n"
     ]
    },
    {
     "name": "stderr",
     "output_type": "stream",
     "text": [
      "GPU available: False, used: False\n",
      "TPU available: False, using: 0 TPU cores\n",
      "IPU available: False, using: 0 IPUs\n",
      "HPU available: False, using: 0 HPUs\n",
      "\n",
      "  | Name            | Type             | Params\n",
      "-----------------------------------------------------\n",
      "0 | criterion       | MSELoss          | 0     \n",
      "1 | train_metrics   | MetricCollection | 0     \n",
      "2 | val_metrics     | MetricCollection | 0     \n",
      "3 | decomposition   | _SeriesDecomp    | 0     \n",
      "4 | linear_seasonal | Linear           | 3.6 K \n",
      "5 | linear_trend    | Linear           | 3.6 K \n",
      "-----------------------------------------------------\n",
      "7.2 K     Trainable params\n",
      "0         Non-trainable params\n",
      "7.2 K     Total params\n",
      "0.029     Total estimated model params size (MB)\n"
     ]
    },
    {
     "name": "stdout",
     "output_type": "stream",
     "text": [
      "Epoch 49: 100%|██████████| 6/6 [00:00<00:00, 27.77it/s, train_loss=2.35e+5]"
     ]
    },
    {
     "name": "stderr",
     "output_type": "stream",
     "text": [
      "`Trainer.fit` stopped: `max_epochs=50` reached.\n"
     ]
    },
    {
     "name": "stdout",
     "output_type": "stream",
     "text": [
      "Epoch 49: 100%|██████████| 6/6 [00:00<00:00, 27.44it/s, train_loss=2.35e+5]\n"
     ]
    },
    {
     "name": "stderr",
     "output_type": "stream",
     "text": [
      "GPU available: False, used: False\n",
      "TPU available: False, using: 0 TPU cores\n",
      "IPU available: False, using: 0 IPUs\n",
      "HPU available: False, using: 0 HPUs\n"
     ]
    },
    {
     "name": "stdout",
     "output_type": "stream",
     "text": [
      "Predicting DataLoader 0: 100%|██████████| 1/1 [00:00<00:00, 241.33it/s]\n"
     ]
    },
    {
     "name": "stderr",
     "output_type": "stream",
     "text": [
      "GPU available: False, used: False\n",
      "TPU available: False, using: 0 TPU cores\n",
      "IPU available: False, using: 0 IPUs\n",
      "HPU available: False, using: 0 HPUs\n",
      "\n",
      "  | Name            | Type             | Params\n",
      "-----------------------------------------------------\n",
      "0 | criterion       | MSELoss          | 0     \n",
      "1 | train_metrics   | MetricCollection | 0     \n",
      "2 | val_metrics     | MetricCollection | 0     \n",
      "3 | decomposition   | _SeriesDecomp    | 0     \n",
      "4 | linear_seasonal | Linear           | 3.6 K \n",
      "5 | linear_trend    | Linear           | 3.6 K \n",
      "-----------------------------------------------------\n",
      "7.2 K     Trainable params\n",
      "0         Non-trainable params\n",
      "7.2 K     Total params\n",
      "0.029     Total estimated model params size (MB)\n"
     ]
    },
    {
     "name": "stdout",
     "output_type": "stream",
     "text": [
      "Epoch 49: 100%|██████████| 6/6 [00:00<00:00, 28.50it/s, train_loss=7.78e+3]"
     ]
    },
    {
     "name": "stderr",
     "output_type": "stream",
     "text": [
      "`Trainer.fit` stopped: `max_epochs=50` reached.\n"
     ]
    },
    {
     "name": "stdout",
     "output_type": "stream",
     "text": [
      "Epoch 49: 100%|██████████| 6/6 [00:00<00:00, 28.24it/s, train_loss=7.78e+3]\n"
     ]
    },
    {
     "name": "stderr",
     "output_type": "stream",
     "text": [
      "GPU available: False, used: False\n",
      "TPU available: False, using: 0 TPU cores\n",
      "IPU available: False, using: 0 IPUs\n",
      "HPU available: False, using: 0 HPUs\n"
     ]
    },
    {
     "name": "stdout",
     "output_type": "stream",
     "text": [
      "Predicting DataLoader 0: 100%|██████████| 1/1 [00:00<00:00, 204.66it/s]\n"
     ]
    },
    {
     "name": "stderr",
     "output_type": "stream",
     "text": [
      "GPU available: False, used: False\n",
      "TPU available: False, using: 0 TPU cores\n",
      "IPU available: False, using: 0 IPUs\n",
      "HPU available: False, using: 0 HPUs\n",
      "\n",
      "  | Name            | Type             | Params\n",
      "-----------------------------------------------------\n",
      "0 | criterion       | MSELoss          | 0     \n",
      "1 | train_metrics   | MetricCollection | 0     \n",
      "2 | val_metrics     | MetricCollection | 0     \n",
      "3 | decomposition   | _SeriesDecomp    | 0     \n",
      "4 | linear_seasonal | Linear           | 3.6 K \n",
      "5 | linear_trend    | Linear           | 3.6 K \n",
      "-----------------------------------------------------\n",
      "7.2 K     Trainable params\n",
      "0         Non-trainable params\n",
      "7.2 K     Total params\n",
      "0.029     Total estimated model params size (MB)\n"
     ]
    },
    {
     "name": "stdout",
     "output_type": "stream",
     "text": [
      "Epoch 49: 100%|██████████| 6/6 [00:00<00:00, 31.38it/s, train_loss=1.53e+5]"
     ]
    },
    {
     "name": "stderr",
     "output_type": "stream",
     "text": [
      "`Trainer.fit` stopped: `max_epochs=50` reached.\n"
     ]
    },
    {
     "name": "stdout",
     "output_type": "stream",
     "text": [
      "Epoch 49: 100%|██████████| 6/6 [00:00<00:00, 31.04it/s, train_loss=1.53e+5]\n"
     ]
    },
    {
     "name": "stderr",
     "output_type": "stream",
     "text": [
      "GPU available: False, used: False\n",
      "TPU available: False, using: 0 TPU cores\n",
      "IPU available: False, using: 0 IPUs\n",
      "HPU available: False, using: 0 HPUs\n"
     ]
    },
    {
     "name": "stdout",
     "output_type": "stream",
     "text": [
      "Predicting DataLoader 0: 100%|██████████| 1/1 [00:00<00:00, 209.88it/s]"
     ]
    },
    {
     "name": "stderr",
     "output_type": "stream",
     "text": [
      "GPU available: False, used: False\n"
     ]
    },
    {
     "name": "stdout",
     "output_type": "stream",
     "text": [
      "\n"
     ]
    },
    {
     "name": "stderr",
     "output_type": "stream",
     "text": [
      "TPU available: False, using: 0 TPU cores\n",
      "IPU available: False, using: 0 IPUs\n",
      "HPU available: False, using: 0 HPUs\n",
      "\n",
      "  | Name            | Type             | Params\n",
      "-----------------------------------------------------\n",
      "0 | criterion       | MSELoss          | 0     \n",
      "1 | train_metrics   | MetricCollection | 0     \n",
      "2 | val_metrics     | MetricCollection | 0     \n",
      "3 | decomposition   | _SeriesDecomp    | 0     \n",
      "4 | linear_seasonal | Linear           | 3.6 K \n",
      "5 | linear_trend    | Linear           | 3.6 K \n",
      "-----------------------------------------------------\n",
      "7.2 K     Trainable params\n",
      "0         Non-trainable params\n",
      "7.2 K     Total params\n",
      "0.029     Total estimated model params size (MB)\n"
     ]
    },
    {
     "name": "stdout",
     "output_type": "stream",
     "text": [
      "Epoch 49: 100%|██████████| 6/6 [00:00<00:00, 29.35it/s, train_loss=2.24e+4]"
     ]
    },
    {
     "name": "stderr",
     "output_type": "stream",
     "text": [
      "`Trainer.fit` stopped: `max_epochs=50` reached.\n"
     ]
    },
    {
     "name": "stdout",
     "output_type": "stream",
     "text": [
      "Epoch 49: 100%|██████████| 6/6 [00:00<00:00, 28.93it/s, train_loss=2.24e+4]\n"
     ]
    },
    {
     "name": "stderr",
     "output_type": "stream",
     "text": [
      "GPU available: False, used: False\n",
      "TPU available: False, using: 0 TPU cores\n",
      "IPU available: False, using: 0 IPUs\n",
      "HPU available: False, using: 0 HPUs\n"
     ]
    },
    {
     "name": "stdout",
     "output_type": "stream",
     "text": [
      "Predicting DataLoader 0: 100%|██████████| 1/1 [00:00<00:00, 227.65it/s]\n"
     ]
    },
    {
     "name": "stderr",
     "output_type": "stream",
     "text": [
      "GPU available: False, used: False\n",
      "TPU available: False, using: 0 TPU cores\n",
      "IPU available: False, using: 0 IPUs\n",
      "HPU available: False, using: 0 HPUs\n",
      "\n",
      "  | Name            | Type             | Params\n",
      "-----------------------------------------------------\n",
      "0 | criterion       | MSELoss          | 0     \n",
      "1 | train_metrics   | MetricCollection | 0     \n",
      "2 | val_metrics     | MetricCollection | 0     \n",
      "3 | decomposition   | _SeriesDecomp    | 0     \n",
      "4 | linear_seasonal | Linear           | 3.6 K \n",
      "5 | linear_trend    | Linear           | 3.6 K \n",
      "-----------------------------------------------------\n",
      "7.2 K     Trainable params\n",
      "0         Non-trainable params\n",
      "7.2 K     Total params\n",
      "0.029     Total estimated model params size (MB)\n"
     ]
    },
    {
     "name": "stdout",
     "output_type": "stream",
     "text": [
      "Epoch 49: 100%|██████████| 6/6 [00:00<00:00, 31.63it/s, train_loss=1.05e+5]"
     ]
    },
    {
     "name": "stderr",
     "output_type": "stream",
     "text": [
      "`Trainer.fit` stopped: `max_epochs=50` reached.\n"
     ]
    },
    {
     "name": "stdout",
     "output_type": "stream",
     "text": [
      "Epoch 49: 100%|██████████| 6/6 [00:00<00:00, 31.38it/s, train_loss=1.05e+5]\n"
     ]
    },
    {
     "name": "stderr",
     "output_type": "stream",
     "text": [
      "GPU available: False, used: False\n",
      "TPU available: False, using: 0 TPU cores\n",
      "IPU available: False, using: 0 IPUs\n",
      "HPU available: False, using: 0 HPUs\n"
     ]
    },
    {
     "name": "stdout",
     "output_type": "stream",
     "text": [
      "Predicting DataLoader 0: 100%|██████████| 1/1 [00:00<00:00, 195.04it/s]\n"
     ]
    },
    {
     "name": "stderr",
     "output_type": "stream",
     "text": [
      "GPU available: False, used: False\n",
      "TPU available: False, using: 0 TPU cores\n",
      "IPU available: False, using: 0 IPUs\n",
      "HPU available: False, using: 0 HPUs\n",
      "\n",
      "  | Name            | Type             | Params\n",
      "-----------------------------------------------------\n",
      "0 | criterion       | MSELoss          | 0     \n",
      "1 | train_metrics   | MetricCollection | 0     \n",
      "2 | val_metrics     | MetricCollection | 0     \n",
      "3 | decomposition   | _SeriesDecomp    | 0     \n",
      "4 | linear_seasonal | Linear           | 3.6 K \n",
      "5 | linear_trend    | Linear           | 3.6 K \n",
      "-----------------------------------------------------\n",
      "7.2 K     Trainable params\n",
      "0         Non-trainable params\n",
      "7.2 K     Total params\n",
      "0.029     Total estimated model params size (MB)\n"
     ]
    },
    {
     "name": "stdout",
     "output_type": "stream",
     "text": [
      "Epoch 49: 100%|██████████| 6/6 [00:00<00:00, 30.69it/s, train_loss=1.7e+3] "
     ]
    },
    {
     "name": "stderr",
     "output_type": "stream",
     "text": [
      "`Trainer.fit` stopped: `max_epochs=50` reached.\n"
     ]
    },
    {
     "name": "stdout",
     "output_type": "stream",
     "text": [
      "Epoch 49: 100%|██████████| 6/6 [00:00<00:00, 30.35it/s, train_loss=1.7e+3]\n"
     ]
    },
    {
     "name": "stderr",
     "output_type": "stream",
     "text": [
      "GPU available: False, used: False\n",
      "TPU available: False, using: 0 TPU cores\n",
      "IPU available: False, using: 0 IPUs\n",
      "HPU available: False, using: 0 HPUs\n"
     ]
    },
    {
     "name": "stdout",
     "output_type": "stream",
     "text": [
      "Predicting DataLoader 0: 100%|██████████| 1/1 [00:00<00:00, 217.14it/s]"
     ]
    },
    {
     "name": "stderr",
     "output_type": "stream",
     "text": [
      "GPU available: False, used: False\n",
      "TPU available: False, using: 0 TPU cores\n",
      "IPU available: False, using: 0 IPUs\n",
      "HPU available: False, using: 0 HPUs\n"
     ]
    },
    {
     "name": "stdout",
     "output_type": "stream",
     "text": [
      "\n"
     ]
    },
    {
     "name": "stderr",
     "output_type": "stream",
     "text": [
      "\n",
      "  | Name            | Type             | Params\n",
      "-----------------------------------------------------\n",
      "0 | criterion       | MSELoss          | 0     \n",
      "1 | train_metrics   | MetricCollection | 0     \n",
      "2 | val_metrics     | MetricCollection | 0     \n",
      "3 | decomposition   | _SeriesDecomp    | 0     \n",
      "4 | linear_seasonal | Linear           | 3.6 K \n",
      "5 | linear_trend    | Linear           | 3.6 K \n",
      "-----------------------------------------------------\n",
      "7.2 K     Trainable params\n",
      "0         Non-trainable params\n",
      "7.2 K     Total params\n",
      "0.029     Total estimated model params size (MB)\n"
     ]
    },
    {
     "name": "stdout",
     "output_type": "stream",
     "text": [
      "Epoch 49: 100%|██████████| 6/6 [00:00<00:00, 28.40it/s, train_loss=7.01e+4]"
     ]
    },
    {
     "name": "stderr",
     "output_type": "stream",
     "text": [
      "`Trainer.fit` stopped: `max_epochs=50` reached.\n"
     ]
    },
    {
     "name": "stdout",
     "output_type": "stream",
     "text": [
      "Epoch 49: 100%|██████████| 6/6 [00:00<00:00, 28.12it/s, train_loss=7.01e+4]\n"
     ]
    },
    {
     "name": "stderr",
     "output_type": "stream",
     "text": [
      "GPU available: False, used: False\n",
      "TPU available: False, using: 0 TPU cores\n",
      "IPU available: False, using: 0 IPUs\n",
      "HPU available: False, using: 0 HPUs\n"
     ]
    },
    {
     "name": "stdout",
     "output_type": "stream",
     "text": [
      "Predicting DataLoader 0: 100%|██████████| 1/1 [00:00<00:00, 239.65it/s]\n"
     ]
    },
    {
     "name": "stderr",
     "output_type": "stream",
     "text": [
      "GPU available: False, used: False\n",
      "TPU available: False, using: 0 TPU cores\n",
      "IPU available: False, using: 0 IPUs\n",
      "HPU available: False, using: 0 HPUs\n",
      "\n",
      "  | Name            | Type             | Params\n",
      "-----------------------------------------------------\n",
      "0 | criterion       | MSELoss          | 0     \n",
      "1 | train_metrics   | MetricCollection | 0     \n",
      "2 | val_metrics     | MetricCollection | 0     \n",
      "3 | decomposition   | _SeriesDecomp    | 0     \n",
      "4 | linear_seasonal | Linear           | 3.6 K \n",
      "5 | linear_trend    | Linear           | 3.6 K \n",
      "-----------------------------------------------------\n",
      "7.2 K     Trainable params\n",
      "0         Non-trainable params\n",
      "7.2 K     Total params\n",
      "0.029     Total estimated model params size (MB)\n"
     ]
    },
    {
     "name": "stdout",
     "output_type": "stream",
     "text": [
      "Epoch 49: 100%|██████████| 6/6 [00:00<00:00, 27.79it/s, train_loss=7.85e+4]"
     ]
    },
    {
     "name": "stderr",
     "output_type": "stream",
     "text": [
      "`Trainer.fit` stopped: `max_epochs=50` reached.\n"
     ]
    },
    {
     "name": "stdout",
     "output_type": "stream",
     "text": [
      "Epoch 49: 100%|██████████| 6/6 [00:00<00:00, 27.48it/s, train_loss=7.85e+4]\n"
     ]
    },
    {
     "name": "stderr",
     "output_type": "stream",
     "text": [
      "GPU available: False, used: False\n",
      "TPU available: False, using: 0 TPU cores\n",
      "IPU available: False, using: 0 IPUs\n",
      "HPU available: False, using: 0 HPUs\n"
     ]
    },
    {
     "name": "stdout",
     "output_type": "stream",
     "text": [
      "Predicting DataLoader 0: 100%|██████████| 1/1 [00:00<00:00, 224.92it/s]\n"
     ]
    },
    {
     "name": "stderr",
     "output_type": "stream",
     "text": [
      "GPU available: False, used: False\n",
      "TPU available: False, using: 0 TPU cores\n",
      "IPU available: False, using: 0 IPUs\n",
      "HPU available: False, using: 0 HPUs\n",
      "\n",
      "  | Name            | Type             | Params\n",
      "-----------------------------------------------------\n",
      "0 | criterion       | MSELoss          | 0     \n",
      "1 | train_metrics   | MetricCollection | 0     \n",
      "2 | val_metrics     | MetricCollection | 0     \n",
      "3 | decomposition   | _SeriesDecomp    | 0     \n",
      "4 | linear_seasonal | Linear           | 3.6 K \n",
      "5 | linear_trend    | Linear           | 3.6 K \n",
      "-----------------------------------------------------\n",
      "7.2 K     Trainable params\n",
      "0         Non-trainable params\n",
      "7.2 K     Total params\n",
      "0.029     Total estimated model params size (MB)\n"
     ]
    },
    {
     "name": "stdout",
     "output_type": "stream",
     "text": [
      "Epoch 49: 100%|██████████| 6/6 [00:00<00:00, 30.99it/s, train_loss=1.67e+5]"
     ]
    },
    {
     "name": "stderr",
     "output_type": "stream",
     "text": [
      "`Trainer.fit` stopped: `max_epochs=50` reached.\n"
     ]
    },
    {
     "name": "stdout",
     "output_type": "stream",
     "text": [
      "Epoch 49: 100%|██████████| 6/6 [00:00<00:00, 30.50it/s, train_loss=1.67e+5]\n"
     ]
    },
    {
     "name": "stderr",
     "output_type": "stream",
     "text": [
      "GPU available: False, used: False\n",
      "TPU available: False, using: 0 TPU cores\n",
      "IPU available: False, using: 0 IPUs\n",
      "HPU available: False, using: 0 HPUs\n"
     ]
    },
    {
     "name": "stdout",
     "output_type": "stream",
     "text": [
      "Predicting DataLoader 0: 100%|██████████| 1/1 [00:00<00:00, 148.21it/s]\n"
     ]
    },
    {
     "name": "stderr",
     "output_type": "stream",
     "text": [
      "GPU available: False, used: False\n",
      "TPU available: False, using: 0 TPU cores\n",
      "IPU available: False, using: 0 IPUs\n",
      "HPU available: False, using: 0 HPUs\n",
      "\n",
      "  | Name            | Type             | Params\n",
      "-----------------------------------------------------\n",
      "0 | criterion       | MSELoss          | 0     \n",
      "1 | train_metrics   | MetricCollection | 0     \n",
      "2 | val_metrics     | MetricCollection | 0     \n",
      "3 | decomposition   | _SeriesDecomp    | 0     \n",
      "4 | linear_seasonal | Linear           | 3.6 K \n",
      "5 | linear_trend    | Linear           | 3.6 K \n",
      "-----------------------------------------------------\n",
      "7.2 K     Trainable params\n",
      "0         Non-trainable params\n",
      "7.2 K     Total params\n",
      "0.029     Total estimated model params size (MB)\n"
     ]
    },
    {
     "name": "stdout",
     "output_type": "stream",
     "text": [
      "Epoch 49: 100%|██████████| 6/6 [00:00<00:00, 29.20it/s, train_loss=4.58e+4]"
     ]
    },
    {
     "name": "stderr",
     "output_type": "stream",
     "text": [
      "`Trainer.fit` stopped: `max_epochs=50` reached.\n"
     ]
    },
    {
     "name": "stdout",
     "output_type": "stream",
     "text": [
      "Epoch 49: 100%|██████████| 6/6 [00:00<00:00, 28.78it/s, train_loss=4.58e+4]"
     ]
    },
    {
     "name": "stderr",
     "output_type": "stream",
     "text": [
      "GPU available: False, used: False\n",
      "TPU available: False, using: 0 TPU cores\n",
      "IPU available: False, using: 0 IPUs\n",
      "HPU available: False, using: 0 HPUs\n"
     ]
    },
    {
     "name": "stdout",
     "output_type": "stream",
     "text": [
      "\n",
      "Predicting DataLoader 0: 100%|██████████| 1/1 [00:00<00:00, 189.99it/s]\n"
     ]
    },
    {
     "name": "stderr",
     "output_type": "stream",
     "text": [
      "GPU available: False, used: False\n",
      "TPU available: False, using: 0 TPU cores\n",
      "IPU available: False, using: 0 IPUs\n",
      "HPU available: False, using: 0 HPUs\n",
      "\n",
      "  | Name            | Type             | Params\n",
      "-----------------------------------------------------\n",
      "0 | criterion       | MSELoss          | 0     \n",
      "1 | train_metrics   | MetricCollection | 0     \n",
      "2 | val_metrics     | MetricCollection | 0     \n",
      "3 | decomposition   | _SeriesDecomp    | 0     \n",
      "4 | linear_seasonal | Linear           | 3.6 K \n",
      "5 | linear_trend    | Linear           | 3.6 K \n",
      "-----------------------------------------------------\n",
      "7.2 K     Trainable params\n",
      "0         Non-trainable params\n",
      "7.2 K     Total params\n",
      "0.029     Total estimated model params size (MB)\n"
     ]
    },
    {
     "name": "stdout",
     "output_type": "stream",
     "text": [
      "Epoch 49: 100%|██████████| 6/6 [00:00<00:00, 29.23it/s, train_loss=2.95e+3]"
     ]
    },
    {
     "name": "stderr",
     "output_type": "stream",
     "text": [
      "`Trainer.fit` stopped: `max_epochs=50` reached.\n"
     ]
    },
    {
     "name": "stdout",
     "output_type": "stream",
     "text": [
      "Epoch 49: 100%|██████████| 6/6 [00:00<00:00, 28.72it/s, train_loss=2.95e+3]\n"
     ]
    },
    {
     "name": "stderr",
     "output_type": "stream",
     "text": [
      "GPU available: False, used: False\n",
      "TPU available: False, using: 0 TPU cores\n",
      "IPU available: False, using: 0 IPUs\n",
      "HPU available: False, using: 0 HPUs\n"
     ]
    },
    {
     "name": "stdout",
     "output_type": "stream",
     "text": [
      "Predicting DataLoader 0: 100%|██████████| 1/1 [00:00<00:00, 224.49it/s]\n"
     ]
    },
    {
     "name": "stderr",
     "output_type": "stream",
     "text": [
      "GPU available: False, used: False\n",
      "TPU available: False, using: 0 TPU cores\n",
      "IPU available: False, using: 0 IPUs\n",
      "HPU available: False, using: 0 HPUs\n",
      "\n",
      "  | Name            | Type             | Params\n",
      "-----------------------------------------------------\n",
      "0 | criterion       | MSELoss          | 0     \n",
      "1 | train_metrics   | MetricCollection | 0     \n",
      "2 | val_metrics     | MetricCollection | 0     \n",
      "3 | decomposition   | _SeriesDecomp    | 0     \n",
      "4 | linear_seasonal | Linear           | 3.6 K \n",
      "5 | linear_trend    | Linear           | 3.6 K \n",
      "-----------------------------------------------------\n",
      "7.2 K     Trainable params\n",
      "0         Non-trainable params\n",
      "7.2 K     Total params\n",
      "0.029     Total estimated model params size (MB)\n"
     ]
    },
    {
     "name": "stdout",
     "output_type": "stream",
     "text": [
      "Epoch 49: 100%|██████████| 6/6 [00:00<00:00, 29.28it/s, train_loss=6e+4]   "
     ]
    },
    {
     "name": "stderr",
     "output_type": "stream",
     "text": [
      "`Trainer.fit` stopped: `max_epochs=50` reached.\n"
     ]
    },
    {
     "name": "stdout",
     "output_type": "stream",
     "text": [
      "Epoch 49: 100%|██████████| 6/6 [00:00<00:00, 28.84it/s, train_loss=6e+4]\n"
     ]
    },
    {
     "name": "stderr",
     "output_type": "stream",
     "text": [
      "GPU available: False, used: False\n",
      "TPU available: False, using: 0 TPU cores\n",
      "IPU available: False, using: 0 IPUs\n",
      "HPU available: False, using: 0 HPUs\n"
     ]
    },
    {
     "name": "stdout",
     "output_type": "stream",
     "text": [
      "Predicting DataLoader 0: 100%|██████████| 1/1 [00:00<00:00, 218.91it/s]\n"
     ]
    },
    {
     "name": "stderr",
     "output_type": "stream",
     "text": [
      "GPU available: False, used: False\n",
      "TPU available: False, using: 0 TPU cores\n",
      "IPU available: False, using: 0 IPUs\n",
      "HPU available: False, using: 0 HPUs\n",
      "\n",
      "  | Name            | Type             | Params\n",
      "-----------------------------------------------------\n",
      "0 | criterion       | MSELoss          | 0     \n",
      "1 | train_metrics   | MetricCollection | 0     \n",
      "2 | val_metrics     | MetricCollection | 0     \n",
      "3 | decomposition   | _SeriesDecomp    | 0     \n",
      "4 | linear_seasonal | Linear           | 3.6 K \n",
      "5 | linear_trend    | Linear           | 3.6 K \n",
      "-----------------------------------------------------\n",
      "7.2 K     Trainable params\n",
      "0         Non-trainable params\n",
      "7.2 K     Total params\n",
      "0.029     Total estimated model params size (MB)\n"
     ]
    },
    {
     "name": "stdout",
     "output_type": "stream",
     "text": [
      "Epoch 49: 100%|██████████| 6/6 [00:00<00:00, 29.59it/s, train_loss=5.59e+4]"
     ]
    },
    {
     "name": "stderr",
     "output_type": "stream",
     "text": [
      "`Trainer.fit` stopped: `max_epochs=50` reached.\n"
     ]
    },
    {
     "name": "stdout",
     "output_type": "stream",
     "text": [
      "Epoch 49: 100%|██████████| 6/6 [00:00<00:00, 29.24it/s, train_loss=5.59e+4]\n"
     ]
    },
    {
     "name": "stderr",
     "output_type": "stream",
     "text": [
      "GPU available: False, used: False\n",
      "TPU available: False, using: 0 TPU cores\n",
      "IPU available: False, using: 0 IPUs\n",
      "HPU available: False, using: 0 HPUs\n"
     ]
    },
    {
     "name": "stdout",
     "output_type": "stream",
     "text": [
      "Predicting DataLoader 0: 100%|██████████| 1/1 [00:00<00:00, 184.69it/s]\n"
     ]
    },
    {
     "name": "stderr",
     "output_type": "stream",
     "text": [
      "GPU available: False, used: False\n",
      "TPU available: False, using: 0 TPU cores\n",
      "IPU available: False, using: 0 IPUs\n",
      "HPU available: False, using: 0 HPUs\n",
      "\n",
      "  | Name            | Type             | Params\n",
      "-----------------------------------------------------\n",
      "0 | criterion       | MSELoss          | 0     \n",
      "1 | train_metrics   | MetricCollection | 0     \n",
      "2 | val_metrics     | MetricCollection | 0     \n",
      "3 | decomposition   | _SeriesDecomp    | 0     \n",
      "4 | linear_seasonal | Linear           | 3.6 K \n",
      "5 | linear_trend    | Linear           | 3.6 K \n",
      "-----------------------------------------------------\n",
      "7.2 K     Trainable params\n",
      "0         Non-trainable params\n",
      "7.2 K     Total params\n",
      "0.029     Total estimated model params size (MB)\n"
     ]
    },
    {
     "name": "stdout",
     "output_type": "stream",
     "text": [
      "Epoch 49: 100%|██████████| 6/6 [00:00<00:00, 30.61it/s, train_loss=5.26e+4]"
     ]
    },
    {
     "name": "stderr",
     "output_type": "stream",
     "text": [
      "`Trainer.fit` stopped: `max_epochs=50` reached.\n"
     ]
    },
    {
     "name": "stdout",
     "output_type": "stream",
     "text": [
      "Epoch 49: 100%|██████████| 6/6 [00:00<00:00, 29.87it/s, train_loss=5.26e+4]\n"
     ]
    },
    {
     "name": "stderr",
     "output_type": "stream",
     "text": [
      "GPU available: False, used: False\n",
      "TPU available: False, using: 0 TPU cores\n",
      "IPU available: False, using: 0 IPUs\n",
      "HPU available: False, using: 0 HPUs\n"
     ]
    },
    {
     "name": "stdout",
     "output_type": "stream",
     "text": [
      "Predicting DataLoader 0: 100%|██████████| 1/1 [00:00<00:00, 170.78it/s]\n"
     ]
    },
    {
     "name": "stderr",
     "output_type": "stream",
     "text": [
      "GPU available: False, used: False\n",
      "TPU available: False, using: 0 TPU cores\n",
      "IPU available: False, using: 0 IPUs\n",
      "HPU available: False, using: 0 HPUs\n",
      "\n",
      "  | Name            | Type             | Params\n",
      "-----------------------------------------------------\n",
      "0 | criterion       | MSELoss          | 0     \n",
      "1 | train_metrics   | MetricCollection | 0     \n",
      "2 | val_metrics     | MetricCollection | 0     \n",
      "3 | decomposition   | _SeriesDecomp    | 0     \n",
      "4 | linear_seasonal | Linear           | 3.6 K \n",
      "5 | linear_trend    | Linear           | 3.6 K \n",
      "-----------------------------------------------------\n",
      "7.2 K     Trainable params\n",
      "0         Non-trainable params\n",
      "7.2 K     Total params\n",
      "0.029     Total estimated model params size (MB)\n"
     ]
    },
    {
     "name": "stdout",
     "output_type": "stream",
     "text": [
      "Epoch 49: 100%|██████████| 6/6 [00:00<00:00, 30.57it/s, train_loss=4.7e+4] "
     ]
    },
    {
     "name": "stderr",
     "output_type": "stream",
     "text": [
      "`Trainer.fit` stopped: `max_epochs=50` reached.\n"
     ]
    },
    {
     "name": "stdout",
     "output_type": "stream",
     "text": [
      "Epoch 49: 100%|██████████| 6/6 [00:00<00:00, 30.33it/s, train_loss=4.7e+4]\n"
     ]
    },
    {
     "name": "stderr",
     "output_type": "stream",
     "text": [
      "GPU available: False, used: False\n",
      "TPU available: False, using: 0 TPU cores\n",
      "IPU available: False, using: 0 IPUs\n",
      "HPU available: False, using: 0 HPUs\n"
     ]
    },
    {
     "name": "stdout",
     "output_type": "stream",
     "text": [
      "Predicting DataLoader 0: 100%|██████████| 1/1 [00:00<00:00, 234.86it/s]\n"
     ]
    },
    {
     "name": "stderr",
     "output_type": "stream",
     "text": [
      "GPU available: False, used: False\n",
      "TPU available: False, using: 0 TPU cores\n",
      "IPU available: False, using: 0 IPUs\n",
      "HPU available: False, using: 0 HPUs\n",
      "\n",
      "  | Name            | Type             | Params\n",
      "-----------------------------------------------------\n",
      "0 | criterion       | MSELoss          | 0     \n",
      "1 | train_metrics   | MetricCollection | 0     \n",
      "2 | val_metrics     | MetricCollection | 0     \n",
      "3 | decomposition   | _SeriesDecomp    | 0     \n",
      "4 | linear_seasonal | Linear           | 3.6 K \n",
      "5 | linear_trend    | Linear           | 3.6 K \n",
      "-----------------------------------------------------\n",
      "7.2 K     Trainable params\n",
      "0         Non-trainable params\n",
      "7.2 K     Total params\n",
      "0.029     Total estimated model params size (MB)\n"
     ]
    },
    {
     "name": "stdout",
     "output_type": "stream",
     "text": [
      "Epoch 49: 100%|██████████| 6/6 [00:00<00:00, 28.99it/s, train_loss=1.21e+6]"
     ]
    },
    {
     "name": "stderr",
     "output_type": "stream",
     "text": [
      "`Trainer.fit` stopped: `max_epochs=50` reached.\n"
     ]
    },
    {
     "name": "stdout",
     "output_type": "stream",
     "text": [
      "Epoch 49: 100%|██████████| 6/6 [00:00<00:00, 28.56it/s, train_loss=1.21e+6]\n"
     ]
    },
    {
     "name": "stderr",
     "output_type": "stream",
     "text": [
      "GPU available: False, used: False\n",
      "TPU available: False, using: 0 TPU cores\n",
      "IPU available: False, using: 0 IPUs\n",
      "HPU available: False, using: 0 HPUs\n"
     ]
    },
    {
     "name": "stdout",
     "output_type": "stream",
     "text": [
      "Predicting DataLoader 0: 100%|██████████| 1/1 [00:00<00:00, 220.02it/s]\n"
     ]
    },
    {
     "name": "stderr",
     "output_type": "stream",
     "text": [
      "GPU available: False, used: False\n",
      "TPU available: False, using: 0 TPU cores\n",
      "IPU available: False, using: 0 IPUs\n",
      "HPU available: False, using: 0 HPUs\n",
      "\n",
      "  | Name            | Type             | Params\n",
      "-----------------------------------------------------\n",
      "0 | criterion       | MSELoss          | 0     \n",
      "1 | train_metrics   | MetricCollection | 0     \n",
      "2 | val_metrics     | MetricCollection | 0     \n",
      "3 | decomposition   | _SeriesDecomp    | 0     \n",
      "4 | linear_seasonal | Linear           | 3.6 K \n",
      "5 | linear_trend    | Linear           | 3.6 K \n",
      "-----------------------------------------------------\n",
      "7.2 K     Trainable params\n",
      "0         Non-trainable params\n",
      "7.2 K     Total params\n",
      "0.029     Total estimated model params size (MB)\n"
     ]
    },
    {
     "name": "stdout",
     "output_type": "stream",
     "text": [
      "Epoch 49: 100%|██████████| 6/6 [00:00<00:00, 27.93it/s, train_loss=1.93e+6]"
     ]
    },
    {
     "name": "stderr",
     "output_type": "stream",
     "text": [
      "`Trainer.fit` stopped: `max_epochs=50` reached.\n"
     ]
    },
    {
     "name": "stdout",
     "output_type": "stream",
     "text": [
      "Epoch 49: 100%|██████████| 6/6 [00:00<00:00, 27.63it/s, train_loss=1.93e+6]\n"
     ]
    },
    {
     "name": "stderr",
     "output_type": "stream",
     "text": [
      "GPU available: False, used: False\n",
      "TPU available: False, using: 0 TPU cores\n",
      "IPU available: False, using: 0 IPUs\n",
      "HPU available: False, using: 0 HPUs\n"
     ]
    },
    {
     "name": "stdout",
     "output_type": "stream",
     "text": [
      "Predicting DataLoader 0: 100%|██████████| 1/1 [00:00<00:00, 198.04it/s]\n"
     ]
    },
    {
     "name": "stderr",
     "output_type": "stream",
     "text": [
      "GPU available: False, used: False\n",
      "TPU available: False, using: 0 TPU cores\n",
      "IPU available: False, using: 0 IPUs\n",
      "HPU available: False, using: 0 HPUs\n",
      "\n",
      "  | Name            | Type             | Params\n",
      "-----------------------------------------------------\n",
      "0 | criterion       | MSELoss          | 0     \n",
      "1 | train_metrics   | MetricCollection | 0     \n",
      "2 | val_metrics     | MetricCollection | 0     \n",
      "3 | decomposition   | _SeriesDecomp    | 0     \n",
      "4 | linear_seasonal | Linear           | 3.6 K \n",
      "5 | linear_trend    | Linear           | 3.6 K \n",
      "-----------------------------------------------------\n",
      "7.2 K     Trainable params\n",
      "0         Non-trainable params\n",
      "7.2 K     Total params\n",
      "0.029     Total estimated model params size (MB)\n"
     ]
    },
    {
     "name": "stdout",
     "output_type": "stream",
     "text": [
      "Epoch 49: 100%|██████████| 6/6 [00:00<00:00, 30.65it/s, train_loss=9.57e+5]"
     ]
    },
    {
     "name": "stderr",
     "output_type": "stream",
     "text": [
      "`Trainer.fit` stopped: `max_epochs=50` reached.\n"
     ]
    },
    {
     "name": "stdout",
     "output_type": "stream",
     "text": [
      "Epoch 49: 100%|██████████| 6/6 [00:00<00:00, 30.24it/s, train_loss=9.57e+5]\n"
     ]
    },
    {
     "name": "stderr",
     "output_type": "stream",
     "text": [
      "GPU available: False, used: False\n",
      "TPU available: False, using: 0 TPU cores\n",
      "IPU available: False, using: 0 IPUs\n",
      "HPU available: False, using: 0 HPUs\n"
     ]
    },
    {
     "name": "stdout",
     "output_type": "stream",
     "text": [
      "Predicting DataLoader 0: 100%|██████████| 1/1 [00:00<00:00, 244.64it/s]"
     ]
    },
    {
     "name": "stderr",
     "output_type": "stream",
     "text": [
      "GPU available: False, used: False\n",
      "TPU available: False, using: 0 TPU cores\n",
      "IPU available: False, using: 0 IPUs\n",
      "HPU available: False, using: 0 HPUs\n"
     ]
    },
    {
     "name": "stdout",
     "output_type": "stream",
     "text": [
      "\n"
     ]
    },
    {
     "name": "stderr",
     "output_type": "stream",
     "text": [
      "\n",
      "  | Name            | Type             | Params\n",
      "-----------------------------------------------------\n",
      "0 | criterion       | MSELoss          | 0     \n",
      "1 | train_metrics   | MetricCollection | 0     \n",
      "2 | val_metrics     | MetricCollection | 0     \n",
      "3 | decomposition   | _SeriesDecomp    | 0     \n",
      "4 | linear_seasonal | Linear           | 3.6 K \n",
      "5 | linear_trend    | Linear           | 3.6 K \n",
      "-----------------------------------------------------\n",
      "7.2 K     Trainable params\n",
      "0         Non-trainable params\n",
      "7.2 K     Total params\n",
      "0.029     Total estimated model params size (MB)\n"
     ]
    },
    {
     "name": "stdout",
     "output_type": "stream",
     "text": [
      "Epoch 49: 100%|██████████| 6/6 [00:00<00:00, 28.98it/s, train_loss=1.48e+5]"
     ]
    },
    {
     "name": "stderr",
     "output_type": "stream",
     "text": [
      "`Trainer.fit` stopped: `max_epochs=50` reached.\n"
     ]
    },
    {
     "name": "stdout",
     "output_type": "stream",
     "text": [
      "Epoch 49: 100%|██████████| 6/6 [00:00<00:00, 28.56it/s, train_loss=1.48e+5]"
     ]
    },
    {
     "name": "stderr",
     "output_type": "stream",
     "text": [
      "GPU available: False, used: False\n",
      "TPU available: False, using: 0 TPU cores\n",
      "IPU available: False, using: 0 IPUs\n",
      "HPU available: False, using: 0 HPUs\n"
     ]
    },
    {
     "name": "stdout",
     "output_type": "stream",
     "text": [
      "\n",
      "Predicting DataLoader 0: 100%|██████████| 1/1 [00:00<00:00, 265.60it/s]"
     ]
    },
    {
     "name": "stderr",
     "output_type": "stream",
     "text": [
      "GPU available: False, used: False\n",
      "TPU available: False, using: 0 TPU cores\n",
      "IPU available: False, using: 0 IPUs\n"
     ]
    },
    {
     "name": "stdout",
     "output_type": "stream",
     "text": [
      "\n"
     ]
    },
    {
     "name": "stderr",
     "output_type": "stream",
     "text": [
      "HPU available: False, using: 0 HPUs\n",
      "\n",
      "  | Name            | Type             | Params\n",
      "-----------------------------------------------------\n",
      "0 | criterion       | MSELoss          | 0     \n",
      "1 | train_metrics   | MetricCollection | 0     \n",
      "2 | val_metrics     | MetricCollection | 0     \n",
      "3 | decomposition   | _SeriesDecomp    | 0     \n",
      "4 | linear_seasonal | Linear           | 3.6 K \n",
      "5 | linear_trend    | Linear           | 3.6 K \n",
      "-----------------------------------------------------\n",
      "7.2 K     Trainable params\n",
      "0         Non-trainable params\n",
      "7.2 K     Total params\n",
      "0.029     Total estimated model params size (MB)\n"
     ]
    },
    {
     "name": "stdout",
     "output_type": "stream",
     "text": [
      "Epoch 49: 100%|██████████| 6/6 [00:00<00:00, 31.96it/s, train_loss=6.46e+5]"
     ]
    },
    {
     "name": "stderr",
     "output_type": "stream",
     "text": [
      "`Trainer.fit` stopped: `max_epochs=50` reached.\n"
     ]
    },
    {
     "name": "stdout",
     "output_type": "stream",
     "text": [
      "Epoch 49: 100%|██████████| 6/6 [00:00<00:00, 31.44it/s, train_loss=6.46e+5]\n"
     ]
    },
    {
     "name": "stderr",
     "output_type": "stream",
     "text": [
      "GPU available: False, used: False\n",
      "TPU available: False, using: 0 TPU cores\n",
      "IPU available: False, using: 0 IPUs\n",
      "HPU available: False, using: 0 HPUs\n"
     ]
    },
    {
     "name": "stdout",
     "output_type": "stream",
     "text": [
      "Predicting DataLoader 0: 100%|██████████| 1/1 [00:00<00:00, 278.14it/s]"
     ]
    },
    {
     "name": "stderr",
     "output_type": "stream",
     "text": [
      "GPU available: False, used: False\n",
      "TPU available: False, using: 0 TPU cores\n",
      "IPU available: False, using: 0 IPUs\n",
      "HPU available: False, using: 0 HPUs\n"
     ]
    },
    {
     "name": "stdout",
     "output_type": "stream",
     "text": [
      "\n"
     ]
    },
    {
     "name": "stderr",
     "output_type": "stream",
     "text": [
      "\n",
      "  | Name            | Type             | Params\n",
      "-----------------------------------------------------\n",
      "0 | criterion       | MSELoss          | 0     \n",
      "1 | train_metrics   | MetricCollection | 0     \n",
      "2 | val_metrics     | MetricCollection | 0     \n",
      "3 | decomposition   | _SeriesDecomp    | 0     \n",
      "4 | linear_seasonal | Linear           | 3.6 K \n",
      "5 | linear_trend    | Linear           | 3.6 K \n",
      "-----------------------------------------------------\n",
      "7.2 K     Trainable params\n",
      "0         Non-trainable params\n",
      "7.2 K     Total params\n",
      "0.029     Total estimated model params size (MB)\n"
     ]
    },
    {
     "name": "stdout",
     "output_type": "stream",
     "text": [
      "Epoch 49: 100%|██████████| 6/6 [00:00<00:00, 29.79it/s, train_loss=3.44e+4]"
     ]
    },
    {
     "name": "stderr",
     "output_type": "stream",
     "text": [
      "`Trainer.fit` stopped: `max_epochs=50` reached.\n"
     ]
    },
    {
     "name": "stdout",
     "output_type": "stream",
     "text": [
      "Epoch 49: 100%|██████████| 6/6 [00:00<00:00, 29.53it/s, train_loss=3.44e+4]"
     ]
    },
    {
     "name": "stderr",
     "output_type": "stream",
     "text": [
      "GPU available: False, used: False\n",
      "TPU available: False, using: 0 TPU cores\n",
      "IPU available: False, using: 0 IPUs\n",
      "HPU available: False, using: 0 HPUs\n"
     ]
    },
    {
     "name": "stdout",
     "output_type": "stream",
     "text": [
      "\n",
      "Predicting DataLoader 0: 100%|██████████| 1/1 [00:00<00:00, 166.74it/s]\n"
     ]
    },
    {
     "name": "stderr",
     "output_type": "stream",
     "text": [
      "GPU available: False, used: False\n",
      "TPU available: False, using: 0 TPU cores\n",
      "IPU available: False, using: 0 IPUs\n",
      "HPU available: False, using: 0 HPUs\n",
      "\n",
      "  | Name            | Type             | Params\n",
      "-----------------------------------------------------\n",
      "0 | criterion       | MSELoss          | 0     \n",
      "1 | train_metrics   | MetricCollection | 0     \n",
      "2 | val_metrics     | MetricCollection | 0     \n",
      "3 | decomposition   | _SeriesDecomp    | 0     \n",
      "4 | linear_seasonal | Linear           | 3.6 K \n",
      "5 | linear_trend    | Linear           | 3.6 K \n",
      "-----------------------------------------------------\n",
      "7.2 K     Trainable params\n",
      "0         Non-trainable params\n",
      "7.2 K     Total params\n",
      "0.029     Total estimated model params size (MB)\n"
     ]
    },
    {
     "name": "stdout",
     "output_type": "stream",
     "text": [
      "Epoch 49: 100%|██████████| 6/6 [00:00<00:00, 30.82it/s, train_loss=1.07e+6]"
     ]
    },
    {
     "name": "stderr",
     "output_type": "stream",
     "text": [
      "`Trainer.fit` stopped: `max_epochs=50` reached.\n"
     ]
    },
    {
     "name": "stdout",
     "output_type": "stream",
     "text": [
      "Epoch 49: 100%|██████████| 6/6 [00:00<00:00, 30.56it/s, train_loss=1.07e+6]\n"
     ]
    },
    {
     "name": "stderr",
     "output_type": "stream",
     "text": [
      "GPU available: False, used: False\n",
      "TPU available: False, using: 0 TPU cores\n",
      "IPU available: False, using: 0 IPUs\n",
      "HPU available: False, using: 0 HPUs\n"
     ]
    },
    {
     "name": "stdout",
     "output_type": "stream",
     "text": [
      "Predicting DataLoader 0: 100%|██████████| 1/1 [00:00<00:00, 131.93it/s]"
     ]
    },
    {
     "name": "stderr",
     "output_type": "stream",
     "text": [
      "GPU available: False, used: False\n"
     ]
    },
    {
     "name": "stdout",
     "output_type": "stream",
     "text": [
      "\n"
     ]
    },
    {
     "name": "stderr",
     "output_type": "stream",
     "text": [
      "TPU available: False, using: 0 TPU cores\n",
      "IPU available: False, using: 0 IPUs\n",
      "HPU available: False, using: 0 HPUs\n",
      "\n",
      "  | Name            | Type             | Params\n",
      "-----------------------------------------------------\n",
      "0 | criterion       | MSELoss          | 0     \n",
      "1 | train_metrics   | MetricCollection | 0     \n",
      "2 | val_metrics     | MetricCollection | 0     \n",
      "3 | decomposition   | _SeriesDecomp    | 0     \n",
      "4 | linear_seasonal | Linear           | 3.6 K \n",
      "5 | linear_trend    | Linear           | 3.6 K \n",
      "-----------------------------------------------------\n",
      "7.2 K     Trainable params\n",
      "0         Non-trainable params\n",
      "7.2 K     Total params\n",
      "0.029     Total estimated model params size (MB)\n"
     ]
    },
    {
     "name": "stdout",
     "output_type": "stream",
     "text": [
      "Epoch 49: 100%|██████████| 6/6 [00:00<00:00, 32.27it/s, train_loss=1.73e+6]"
     ]
    },
    {
     "name": "stderr",
     "output_type": "stream",
     "text": [
      "`Trainer.fit` stopped: `max_epochs=50` reached.\n"
     ]
    },
    {
     "name": "stdout",
     "output_type": "stream",
     "text": [
      "Epoch 49: 100%|██████████| 6/6 [00:00<00:00, 31.88it/s, train_loss=1.73e+6]\n"
     ]
    },
    {
     "name": "stderr",
     "output_type": "stream",
     "text": [
      "GPU available: False, used: False\n",
      "TPU available: False, using: 0 TPU cores\n",
      "IPU available: False, using: 0 IPUs\n",
      "HPU available: False, using: 0 HPUs\n"
     ]
    },
    {
     "name": "stdout",
     "output_type": "stream",
     "text": [
      "Predicting DataLoader 0: 100%|██████████| 1/1 [00:00<00:00, 270.25it/s]\n"
     ]
    },
    {
     "name": "stderr",
     "output_type": "stream",
     "text": [
      "GPU available: False, used: False\n",
      "TPU available: False, using: 0 TPU cores\n",
      "IPU available: False, using: 0 IPUs\n",
      "HPU available: False, using: 0 HPUs\n",
      "\n",
      "  | Name            | Type             | Params\n",
      "-----------------------------------------------------\n",
      "0 | criterion       | MSELoss          | 0     \n",
      "1 | train_metrics   | MetricCollection | 0     \n",
      "2 | val_metrics     | MetricCollection | 0     \n",
      "3 | decomposition   | _SeriesDecomp    | 0     \n",
      "4 | linear_seasonal | Linear           | 3.6 K \n",
      "5 | linear_trend    | Linear           | 3.6 K \n",
      "-----------------------------------------------------\n",
      "7.2 K     Trainable params\n",
      "0         Non-trainable params\n",
      "7.2 K     Total params\n",
      "0.029     Total estimated model params size (MB)\n"
     ]
    },
    {
     "name": "stdout",
     "output_type": "stream",
     "text": [
      "Epoch 49: 100%|██████████| 6/6 [00:00<00:00, 31.37it/s, train_loss=1.31e+6]"
     ]
    },
    {
     "name": "stderr",
     "output_type": "stream",
     "text": [
      "`Trainer.fit` stopped: `max_epochs=50` reached.\n"
     ]
    },
    {
     "name": "stdout",
     "output_type": "stream",
     "text": [
      "Epoch 49: 100%|██████████| 6/6 [00:00<00:00, 31.04it/s, train_loss=1.31e+6]\n"
     ]
    },
    {
     "name": "stderr",
     "output_type": "stream",
     "text": [
      "GPU available: False, used: False\n",
      "TPU available: False, using: 0 TPU cores\n",
      "IPU available: False, using: 0 IPUs\n",
      "HPU available: False, using: 0 HPUs\n"
     ]
    },
    {
     "name": "stdout",
     "output_type": "stream",
     "text": [
      "Predicting DataLoader 0: 100%|██████████| 1/1 [00:00<00:00, 279.81it/s]\n"
     ]
    },
    {
     "name": "stderr",
     "output_type": "stream",
     "text": [
      "GPU available: False, used: False\n",
      "TPU available: False, using: 0 TPU cores\n",
      "IPU available: False, using: 0 IPUs\n",
      "HPU available: False, using: 0 HPUs\n",
      "\n",
      "  | Name            | Type             | Params\n",
      "-----------------------------------------------------\n",
      "0 | criterion       | MSELoss          | 0     \n",
      "1 | train_metrics   | MetricCollection | 0     \n",
      "2 | val_metrics     | MetricCollection | 0     \n",
      "3 | decomposition   | _SeriesDecomp    | 0     \n",
      "4 | linear_seasonal | Linear           | 3.6 K \n",
      "5 | linear_trend    | Linear           | 3.6 K \n",
      "-----------------------------------------------------\n",
      "7.2 K     Trainable params\n",
      "0         Non-trainable params\n",
      "7.2 K     Total params\n",
      "0.029     Total estimated model params size (MB)\n"
     ]
    },
    {
     "name": "stdout",
     "output_type": "stream",
     "text": [
      "Epoch 49: 100%|██████████| 6/6 [00:00<00:00, 28.76it/s, train_loss=5.99e+4]"
     ]
    },
    {
     "name": "stderr",
     "output_type": "stream",
     "text": [
      "`Trainer.fit` stopped: `max_epochs=50` reached.\n"
     ]
    },
    {
     "name": "stdout",
     "output_type": "stream",
     "text": [
      "Epoch 49: 100%|██████████| 6/6 [00:00<00:00, 28.51it/s, train_loss=5.99e+4]"
     ]
    },
    {
     "name": "stderr",
     "output_type": "stream",
     "text": [
      "GPU available: False, used: False\n",
      "TPU available: False, using: 0 TPU cores\n",
      "IPU available: False, using: 0 IPUs\n",
      "HPU available: False, using: 0 HPUs\n"
     ]
    },
    {
     "name": "stdout",
     "output_type": "stream",
     "text": [
      "\n",
      "Predicting DataLoader 0: 100%|██████████| 1/1 [00:00<00:00, 216.70it/s]"
     ]
    },
    {
     "name": "stderr",
     "output_type": "stream",
     "text": [
      "GPU available: False, used: False\n",
      "TPU available: False, using: 0 TPU cores\n",
      "IPU available: False, using: 0 IPUs\n",
      "HPU available: False, using: 0 HPUs\n"
     ]
    },
    {
     "name": "stdout",
     "output_type": "stream",
     "text": [
      "\n"
     ]
    },
    {
     "name": "stderr",
     "output_type": "stream",
     "text": [
      "\n",
      "  | Name            | Type             | Params\n",
      "-----------------------------------------------------\n",
      "0 | criterion       | MSELoss          | 0     \n",
      "1 | train_metrics   | MetricCollection | 0     \n",
      "2 | val_metrics     | MetricCollection | 0     \n",
      "3 | decomposition   | _SeriesDecomp    | 0     \n",
      "4 | linear_seasonal | Linear           | 3.6 K \n",
      "5 | linear_trend    | Linear           | 3.6 K \n",
      "-----------------------------------------------------\n",
      "7.2 K     Trainable params\n",
      "0         Non-trainable params\n",
      "7.2 K     Total params\n",
      "0.029     Total estimated model params size (MB)\n"
     ]
    },
    {
     "name": "stdout",
     "output_type": "stream",
     "text": [
      "Epoch 49: 100%|██████████| 6/6 [00:00<00:00, 31.87it/s, train_loss=5.69e+4]"
     ]
    },
    {
     "name": "stderr",
     "output_type": "stream",
     "text": [
      "`Trainer.fit` stopped: `max_epochs=50` reached.\n"
     ]
    },
    {
     "name": "stdout",
     "output_type": "stream",
     "text": [
      "Epoch 49: 100%|██████████| 6/6 [00:00<00:00, 31.56it/s, train_loss=5.69e+4]\n"
     ]
    },
    {
     "name": "stderr",
     "output_type": "stream",
     "text": [
      "GPU available: False, used: False\n",
      "TPU available: False, using: 0 TPU cores\n",
      "IPU available: False, using: 0 IPUs\n",
      "HPU available: False, using: 0 HPUs\n"
     ]
    },
    {
     "name": "stdout",
     "output_type": "stream",
     "text": [
      "Predicting DataLoader 0: 100%|██████████| 1/1 [00:00<00:00, 256.85it/s]\n"
     ]
    }
   ],
   "source": [
    "# 제출용\n",
    "df.to_csv('/mnt/c/Users/wschu/OneDrive/Documents/data/jeju_specialty/open/answer.csv',index=False)"
   ]
  }
 ],
 "metadata": {
  "kernelspec": {
   "display_name": "timeseries_env",
   "language": "python",
   "name": "python3"
  },
  "language_info": {
   "codemirror_mode": {
    "name": "ipython",
    "version": 3
   },
   "file_extension": ".py",
   "mimetype": "text/x-python",
   "name": "python",
   "nbconvert_exporter": "python",
   "pygments_lexer": "ipython3",
   "version": "3.10.13"
  }
 },
 "nbformat": 4,
 "nbformat_minor": 2
}
