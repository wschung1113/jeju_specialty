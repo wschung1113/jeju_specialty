{
 "cells": [
  {
   "cell_type": "code",
   "execution_count": null,
   "metadata": {},
   "outputs": [
    {
     "ename": "",
     "evalue": "",
     "output_type": "error",
     "traceback": [
      "\u001b[1;31mRunning cells with 'timeseries_env' requires the ipykernel package.\n",
      "\u001b[1;31mRun the following command to install 'ipykernel' into the Python environment. \n",
      "\u001b[1;31mCommand: '/home/wschung1113/.pyenv/versions/3.10.13/envs/timeseries_env/bin/python -m pip install ipykernel -U --force-reinstall'"
     ]
    }
   ],
   "source": [
    "!which pip"
   ]
  },
  {
   "cell_type": "code",
   "execution_count": 5,
   "metadata": {},
   "outputs": [],
   "source": [
    "!pip freeze > requirements.txt"
   ]
  },
  {
   "cell_type": "code",
   "execution_count": 1,
   "metadata": {},
   "outputs": [],
   "source": [
    "import pandas as pd\n",
    "import numpy as np\n",
    "import datetime\n",
    "import random\n",
    "import os\n",
    "import sys\n",
    "import holidays\n",
    "\n",
    "\n",
    "import sklearn\n",
    "from sklearn.ensemble import VotingRegressor\n",
    "from sklearn.preprocessing import LabelEncoder\n",
    "from sklearn.metrics import mean_squared_error\n",
    "\n",
    "\n",
    "import xgboost\n",
    "from xgboost import XGBRegressor\n",
    "import catboost\n",
    "from catboost import CatBoostRegressor"
   ]
  },
  {
   "cell_type": "code",
   "execution_count": 35,
   "metadata": {},
   "outputs": [
    {
     "name": "stdout",
     "output_type": "stream",
     "text": [
      "파이썬 버전 : 3.10.13 (main, Mar 20 2024, 15:06:02) [GCC 11.4.0]\n",
      "pandas 버전 : 2.2.1\n",
      "numpy 버전 : 1.26.4\n",
      "sklearn 버전 : 1.4.1.post1\n",
      "xgboost 버전 확인 : 2.0.3\n",
      "catboost 버전 : 1.2.3\n"
     ]
    }
   ],
   "source": [
    "print(f\"파이썬 버전 : {sys.version}\")\n",
    "print(f\"pandas 버전 : {pd.__version__}\")\n",
    "print(f\"numpy 버전 : {np.__version__}\")\n",
    "print(f\"sklearn 버전 : {sklearn.__version__}\")\n",
    "print(f\"xgboost 버전 확인 : {xgboost.__version__}\")\n",
    "print(f\"catboost 버전 : {catboost.__version__}\")"
   ]
  },
  {
   "cell_type": "code",
   "execution_count": 28,
   "metadata": {},
   "outputs": [],
   "source": [
    "def seed_everything(seed):\n",
    "    random.seed(seed)\n",
    "    os.environ['PYTHONHASHSEED'] = str(seed)\n",
    "    np.random.seed(seed)\n",
    "\n",
    "seed_everything(42) # Seed 고정"
   ]
  },
  {
   "cell_type": "code",
   "execution_count": 29,
   "metadata": {},
   "outputs": [],
   "source": [
    "train_df = pd.read_csv('/mnt/c/Users/wschu/OneDrive/Documents/data/jeju_specialty/open/train.csv')\n",
    "test_df = pd.read_csv('/mnt/c/Users/wschu/OneDrive/Documents/data/jeju_specialty/open/test.csv')"
   ]
  },
  {
   "cell_type": "code",
   "execution_count": 30,
   "metadata": {},
   "outputs": [],
   "source": [
    "def pre_all(train, test):\n",
    "    print(f\"전처리 전 train 크기 : {train.shape}\")\n",
    "    print(f\"전처리 전 test 크기 : {test.shape}\")\n",
    "    print(\"=================전처리 중=================\")\n",
    "\n",
    "    # 합쳐서 전처리하기\n",
    "    train[\"timestamp\"] = pd.to_datetime(train[\"timestamp\"])\n",
    "    test[\"timestamp\"] = pd.to_datetime(test[\"timestamp\"])\n",
    "    df = pd.concat([train,test]).reset_index(drop = True)\n",
    "\n",
    "    df.rename(columns={'supply(kg)':'supply', 'price(원/kg)':'price'},inplace=True)\n",
    "\n",
    "    #년/월/일 추가\n",
    "    df['year']=df['timestamp'].dt.year\n",
    "    df['month']=df['timestamp'].dt.month\n",
    "    df['day']=df['timestamp'].dt.day\n",
    "\n",
    "    #요일 추가\n",
    "    df['week_day']=df['timestamp'].dt.weekday\n",
    "\n",
    "    # 년-월 변수 추가 : year-month의 형태, 개월단위 누적값\n",
    "    le = LabelEncoder()\n",
    "    df[\"year_month\"] = df[\"timestamp\"].map(lambda x :str(x.year) + \"-\"+str(x.month))\n",
    "\n",
    "    # 라벨 인코딩\n",
    "    df[\"year_month\"] = le.fit_transform(df[\"year_month\"])\n",
    "\n",
    "\n",
    "    # 주차 변수 추가\n",
    "    df[\"week\"] = df[\"timestamp\"].map(lambda x: datetime.datetime(x.year, x.month, x.day).isocalendar()[1])\n",
    "\n",
    "    # 주차 누적값\n",
    "    week_list=[]\n",
    "    for i in range(len(df['year'])) :\n",
    "        if df['year'][i] == 2019 :\n",
    "            week_list.append(int(df['week'][i]))\n",
    "        elif df['year'][i] == 2020 :\n",
    "            week_list.append(int(df['week'][i])+52)\n",
    "        elif df['year'][i] == 2021 :\n",
    "            week_list.append(int(df['week'][i])+52+53)\n",
    "        elif df['year'][i] == 2022 :\n",
    "            week_list.append(int(df['week'][i])+52+53+53)\n",
    "        elif df['year'][i] == 2023 :\n",
    "            week_list.append(int(df['week'][i])+52+53+53+52)\n",
    "    df['week_num']= week_list\n",
    "\n",
    "    # datetime 패키지에서 19년 12월 마지막주가 첫째주로 들어가는거 발견하여 수정\n",
    "    df.loc[df['timestamp']=='2019-12-30','week_num']=52\n",
    "    df.loc[df['timestamp']=='2019-12-31','week_num']=52\n",
    "\n",
    "\n",
    "    # 공휴일 변수 추가\n",
    "    def make_holi(x):\n",
    "        kr_holi = holidays.KR()\n",
    "\n",
    "        if x in kr_holi:\n",
    "            return 1\n",
    "        else:\n",
    "            return 0\n",
    "        \n",
    "    df[\"holiday\"] = df[\"timestamp\"].map(lambda x : make_holi(x))\n",
    "    \n",
    "\n",
    "    # train, test 분리하기\n",
    "    train = df[~df[\"price\"].isnull()].sort_values(\"timestamp\").reset_index(drop = True)\n",
    "    test = df[df[\"price\"].isnull()].sort_values(\"timestamp\").reset_index(drop=True)\n",
    "\n",
    "\n",
    "    print(f\"전처리 후 train 크기 : {train.shape}\")\n",
    "    print(f\"전처리 후 test 크기 : {test.shape}\")\n",
    "\n",
    "    return train, test"
   ]
  },
  {
   "cell_type": "code",
   "execution_count": 31,
   "metadata": {},
   "outputs": [
    {
     "name": "stdout",
     "output_type": "stream",
     "text": [
      "                ID   timestamp item corporation location  supply(kg)  \\\n",
      "0  TG_A_J_20190101  2019-01-01   TG           A        J         0.0   \n",
      "1  TG_A_J_20190102  2019-01-02   TG           A        J         0.0   \n",
      "2  TG_A_J_20190103  2019-01-03   TG           A        J     60601.0   \n",
      "3  TG_A_J_20190104  2019-01-04   TG           A        J     25000.0   \n",
      "4  TG_A_J_20190105  2019-01-05   TG           A        J     32352.0   \n",
      "\n",
      "   price(원/kg)  year  month  day  \n",
      "0          0.0  2019      1    1  \n",
      "1          0.0  2019      1    2  \n",
      "2       1728.0  2019      1    3  \n",
      "3       1408.0  2019      1    4  \n",
      "4       1250.0  2019      1    5  \n",
      "                ID   timestamp item corporation location  year  month  day\n",
      "0  TG_A_J_20230304  2023-03-04   TG           A        J  2023      3    4\n",
      "1  TG_A_J_20230305  2023-03-05   TG           A        J  2023      3    5\n",
      "2  TG_A_J_20230306  2023-03-06   TG           A        J  2023      3    6\n",
      "3  TG_A_J_20230307  2023-03-07   TG           A        J  2023      3    7\n",
      "4  TG_A_J_20230308  2023-03-08   TG           A        J  2023      3    8\n"
     ]
    }
   ],
   "source": [
    "train_pre, test_pre = pre_all(train, test)"
   ]
  },
  {
   "cell_type": "code",
   "execution_count": null,
   "metadata": {},
   "outputs": [],
   "source": [
    "train_pre"
   ]
  },
  {
   "cell_type": "code",
   "execution_count": null,
   "metadata": {},
   "outputs": [],
   "source": [
    "#질적 변수들을 수치화합니다\n",
    "qual_col = ['item', 'corporation', 'location']\n",
    "\n",
    "for i in qual_col:\n",
    "    le = LabelEncoder()\n",
    "    train_x[i]=le.fit_transform(train_x[i])\n",
    "    test_x[i]=le.transform(test_x[i]) #test 데이터에 대해서 fit하는 것은 data leakage에 해당합니다\n",
    "\n",
    "print('Done.')"
   ]
  },
  {
   "cell_type": "code",
   "execution_count": null,
   "metadata": {},
   "outputs": [],
   "source": [
    "test_pre"
   ]
  },
  {
   "cell_type": "code",
   "execution_count": null,
   "metadata": {},
   "outputs": [],
   "source": [
    "## 전처리\n",
    "\n",
    "# 극 이상치 제거\n",
    "tg_idx = train_pre[(train_pre[\"item\"]==\"TG\") & (train_pre[\"price\"]>20000)].index\n",
    "rd_idx = train_pre[(train_pre[\"item\"]==\"RD\") & (train_pre[\"price\"]>5000)].index\n",
    "bc_idx = train_pre[(train_pre[\"item\"]==\"BC\") & (train_pre[\"price\"]>8000)].index\n",
    "cb_idx = train_pre[(train_pre[\"item\"]==\"CB\") & (train_pre[\"price\"]>2300)].index\n",
    "\n",
    "train_pre.loc[tg_idx,\"price\"] = train_pre[(train_pre[\"item\"]==\"TG\") & (train_pre[\"price\"]!=0)][\"price\"].mean()\n",
    "train_pre.loc[rd_idx,\"price\"] = train_pre[(train_pre[\"item\"]==\"RD\") & (train_pre[\"price\"]!=0)][\"price\"].mean()\n",
    "train_pre.loc[bc_idx,\"price\"] = train_pre[(train_pre[\"item\"]==\"BC\") & (train_pre[\"price\"]!=0)][\"price\"].mean()\n",
    "train_pre.loc[cb_idx,\"price\"] = train_pre[(train_pre[\"item\"]==\"CB\") & (train_pre[\"price\"]!=0)][\"price\"].mean()\n",
    "\n",
    "\n",
    "# 감귤이 아닌것\n",
    "print(f\"train의 컬럼 : {train_pre.columns}\")\n",
    "print(f\"test의 컬럼 : {test_pre.columns}\")\n",
    "\n",
    "train_notg = train_pre[train_pre[\"item\"] !=\"TG\"]\n",
    "test_notg = test_pre[test_pre[\"item\"] != \"TG\"]\n",
    "\n",
    "\n",
    "#인코딩\n",
    "Xy = pd.get_dummies(train_notg.sort_values(by = [\"timestamp\"]).reset_index(drop=True).drop(columns = [\"supply\"]), columns = [\"item\",\"corporation\",\"location\"])\n",
    "answer_notg = pd.get_dummies(test_notg.drop(columns = [\"timestamp\",\"supply\",\"price\"]), columns = [ \"item\",\"corporation\",\"location\"])\n",
    "print(Xy.columns)"
   ]
  },
  {
   "cell_type": "code",
   "execution_count": null,
   "metadata": {},
   "outputs": [],
   "source": [
    "## 앙상블 모델 정의\n",
    "\n",
    "cat = CatBoostRegressor(random_state = 2024, \n",
    "                            n_estimators = 1000, \n",
    "                            learning_rate = 0.01, \n",
    "                            depth = 10,\n",
    "                            l2_leaf_reg = 3,\n",
    "                            metric_period = 1000)\n",
    "\n",
    "xgb = XGBRegressor(n_estimators = 1000, random_state = 2024, learning_rate = 0.01, max_depth = 10)\n",
    "\n",
    "\n",
    "# voting\n",
    "vote_model = VotingRegressor(\n",
    "    estimators =[(\"cat\",cat), (\"xgb\", xgb)]\n",
    ")\n",
    "\n",
    "vote_model.fit(Xy.drop(columns = [\"timestamp\", \"ID\",\"price\"]), Xy[\"price\"])\n",
    "\n",
    "pred = vote_model.predict(answer_notg.drop(columns = [\"ID\"]))\n",
    "for idx in range(len(pred)):\n",
    "    if pred[idx]<0:\n",
    "        pred[idx]= 0\n",
    "answer_notg[\"answer\"] = pred\n",
    "\n",
    "answer_notg[[\"ID\",\"answer\"]]"
   ]
  },
  {
   "cell_type": "code",
   "execution_count": null,
   "metadata": {},
   "outputs": [],
   "source": [
    "train_pre, test_pre = pre_all(train, test)\n",
    "\n",
    "# 공휴일이지만 안쉬는 날 제외하기\n",
    "no_holi = list(train_pre[(train_pre[\"item\"] ==\"TG\") &(train_pre[\"holiday\"]==1) & (train_pre[\"price\"]!=0)].groupby(\"timestamp\").count().reset_index()[\"timestamp\"])\n",
    "noholi_idx = train_pre[train_pre[\"timestamp\"].isin(no_holi)][\"holiday\"].index\n",
    "for idx in noholi_idx:\n",
    "    train_pre.loc[idx, \"holiday\"] = 0\n",
    "\n",
    "# train 및 test 시간 순서로 정렬하기\n",
    "train_tg = train_pre[train_pre[\"item\"] == \"TG\"].sort_values(by = [\"timestamp\"]).reset_index(drop= True)\n",
    "test_tg = test_pre[test_pre[\"item\"] == \"TG\"].sort_values(by = [\"timestamp\"]).reset_index(drop= True)\n",
    "\n",
    "Xy = pd.get_dummies(train_tg, columns = [ \"item\",\"corporation\",\"location\"]).drop(columns = [\"supply\"])\n",
    "answer_tg1 = pd.get_dummies(test_tg, columns = [ \"item\",\"corporation\",\"location\"]).drop(columns = [\"timestamp\",\"supply\",\"price\"])\n",
    "print(f\"train의 컬럼 : {Xy.columns}\")\n",
    "print(f\"test의 컬럼 : {answer_tg1.columns}\")\n",
    "Xy[\"price\"] = np.sqrt(Xy[\"price\"])"
   ]
  },
  {
   "cell_type": "code",
   "execution_count": null,
   "metadata": {},
   "outputs": [],
   "source": [
    "# # 모델 정의\n",
    "cat = CatBoostRegressor(random_state = 2024, \n",
    "                            n_estimators = 1000, \n",
    "                            learning_rate = 0.01, \n",
    "                            depth = 10,\n",
    "                            l2_leaf_reg = 3,\n",
    "                            metric_period = 1000)\n",
    "\n",
    "xgb = XGBRegressor(n_estimators = 1000, random_state = 2024, learning_rate = 0.01, max_depth = 10)\n",
    "\n",
    "\n",
    "# voting\n",
    "vote_model = VotingRegressor(\n",
    "    estimators =[(\"cat\",cat), (\"xgb\", xgb)]\n",
    ")\n",
    "\n",
    "vote_model.fit(Xy.drop(columns = [\"timestamp\", \"ID\",\"price\"]), Xy[\"price\"])\n",
    "\n",
    "pred = vote_model.predict(answer_tg1.drop(columns = [\"ID\"]))\n",
    "for idx in range(len(pred)):\n",
    "    if pred[idx]<0:\n",
    "        pred[idx]= 0\n",
    "answer_tg1[\"answer\"] = np.power(pred,2)\n",
    "\n",
    "answer_tg1[[\"ID\",\"answer\"]]"
   ]
  },
  {
   "cell_type": "code",
   "execution_count": 4,
   "metadata": {},
   "outputs": [],
   "source": [
    "train_tg2 = train_pre[train_pre[\"item\"] ==\"TG\"]\n",
    "test_tg2 = test_pre[test_pre[\"item\"] == \"TG\"]\n",
    "\n",
    "Xy2 = pd.get_dummies(train_tg2.sort_values(by = [\"timestamp\", \"corporation\",\"location\"]).reset_index(drop=True).drop(columns = [\"item\",\"supply\"]), columns = [ \"corporation\",\"location\"])\n",
    "answer_tg2 = pd.get_dummies(test_tg2.drop(columns = [\"timestamp\",\"supply\",\"price\",\"item\"]), columns = [ \"corporation\",\"location\"])\n",
    "print(Xy2.columns)\n",
    "\n",
    "# 종속변수 루트값\n",
    "Xy2[\"price\"] = np.sqrt(Xy2[\"price\"])"
   ]
  },
  {
   "cell_type": "code",
   "execution_count": 5,
   "metadata": {},
   "outputs": [],
   "source": [
    "# 모델 정의 및 훈련 예측\n",
    "n_estimators =1000\n",
    "lrs = 0.05\n",
    "max_depths = 10\n",
    "l2_leaf_reg = 3\n",
    "\n",
    "cat = CatBoostRegressor(random_state = 2024, \n",
    "                                n_estimators = n_estimators, \n",
    "                                learning_rate = lrs, \n",
    "                                depth = max_depths, \n",
    "                                l2_leaf_reg = l2_leaf_reg,\n",
    "                                metric_period = 1000)\n",
    "\n",
    "cat.fit(Xy2.drop(columns = [\"timestamp\", \"ID\",\"price\"]), Xy2[\"price\"])\n",
    "\n",
    "pred2 = cat.predict(answer_tg2.drop(columns = [\"ID\"]))\n",
    "for idx in range(len(pred2)):\n",
    "    if pred2[idx]<0:\n",
    "        pred2[idx]= 0\n",
    "answer_tg2[\"answer\"] = np.power(pred2,2)\n",
    "\n",
    "answer_tg2[[\"ID\",\"answer\"]]"
   ]
  },
  {
   "cell_type": "code",
   "execution_count": 9,
   "metadata": {},
   "outputs": [
    {
     "name": "stdout",
     "output_type": "stream",
     "text": [
      "                    ID   timestamp item corporation location  supply(kg)  \\\n",
      "0      TG_A_J_20190101  2019-01-01   TG           A        J         0.0   \n",
      "1      TG_A_J_20190102  2019-01-02   TG           A        J         0.0   \n",
      "2      TG_A_J_20190103  2019-01-03   TG           A        J     60601.0   \n",
      "3      TG_A_J_20190104  2019-01-04   TG           A        J     25000.0   \n",
      "4      TG_A_J_20190105  2019-01-05   TG           A        J     32352.0   \n",
      "...                ...         ...  ...         ...      ...         ...   \n",
      "59392  RD_F_J_20230227  2023-02-27   RD           F        J    452440.0   \n",
      "59393  RD_F_J_20230228  2023-02-28   RD           F        J    421980.0   \n",
      "59394  RD_F_J_20230301  2023-03-01   RD           F        J    382980.0   \n",
      "59395  RD_F_J_20230302  2023-03-02   RD           F        J    477220.0   \n",
      "59396  RD_F_J_20230303  2023-03-03   RD           F        J    427520.0   \n",
      "\n",
      "       price(원/kg)  \n",
      "0              0.0  \n",
      "1              0.0  \n",
      "2           1728.0  \n",
      "3           1408.0  \n",
      "4           1250.0  \n",
      "...            ...  \n",
      "59392        468.0  \n",
      "59393        531.0  \n",
      "59394        574.0  \n",
      "59395        523.0  \n",
      "59396        529.0  \n",
      "\n",
      "[59397 rows x 7 columns]\n"
     ]
    }
   ],
   "source": [
    "total1 = pd.concat([answer_tg1[[\"ID\",\"answer\"]],answer_notg[[\"ID\",\"answer\"]]])\n",
    "total2 = pd.concat([answer_tg2[[\"ID\",\"answer\"]],answer_notg[[\"ID\",\"answer\"]]])"
   ]
  },
  {
   "cell_type": "code",
   "execution_count": 8,
   "metadata": {},
   "outputs": [
    {
     "name": "stdout",
     "output_type": "stream",
     "text": [
      "                         ID item corporation location\n",
      "timestamp                                            \n",
      "2023-03-04  TG_A_J_20230304   TG           A        J\n",
      "2023-03-05  TG_A_J_20230305   TG           A        J\n",
      "2023-03-06  TG_A_J_20230306   TG           A        J\n",
      "2023-03-07  TG_A_J_20230307   TG           A        J\n",
      "2023-03-08  TG_A_J_20230308   TG           A        J\n",
      "...                     ...  ...         ...      ...\n",
      "2023-03-27  RD_F_J_20230327   RD           F        J\n",
      "2023-03-28  RD_F_J_20230328   RD           F        J\n",
      "2023-03-29  RD_F_J_20230329   RD           F        J\n",
      "2023-03-30  RD_F_J_20230330   RD           F        J\n",
      "2023-03-31  RD_F_J_20230331   RD           F        J\n",
      "\n",
      "[1092 rows x 4 columns]\n"
     ]
    }
   ],
   "source": [
    "# TG 앙상블 (평균)\n",
    "\n",
    "df = pd.merge(total1, total2, how = \"inner\", on=\"ID\")\n",
    "df[\"answer\"] = (df[\"answer_x\"]+df[\"answer_y\"])/2\n",
    "df[\"item\"] = df[\"ID\"].map(lambda x :x.split(\"_\")[0])"
   ]
  },
  {
   "cell_type": "code",
   "execution_count": 6,
   "metadata": {},
   "outputs": [],
   "source": [
    "# 후처리 \n",
    "## 전체 min값 | 3월의 min값 확인\n",
    "df.loc[(df['item']=='TG')&(df['answer']<400),'answer'] =0 # 551   #3월 675\n",
    "df.loc[(df['item']=='CB')&(df['answer']<50),'answer'] =0 # 162  # 3월 200\n",
    "df.loc[(df['item']=='RD')&(df['answer']<10),'answer'] =0 # 50     # 3월 124\n",
    "df.loc[(df['item']=='CR')&(df['answer']<150),'answer'] =0 # 250   # 3월 450\n",
    "df.loc[(df['item']=='BC')&(df['answer']<100),'answer'] =0 #205 3월 205.0"
   ]
  },
  {
   "cell_type": "code",
   "execution_count": 10,
   "metadata": {},
   "outputs": [
    {
     "name": "stdout",
     "output_type": "stream",
     "text": [
      "           ID          ds       y\n",
      "0      TG_A_J  2019-01-01     0.0\n",
      "1      TG_A_J  2019-01-02     0.0\n",
      "2      TG_A_J  2019-01-03  1728.0\n",
      "3      TG_A_J  2019-01-04  1408.0\n",
      "4      TG_A_J  2019-01-05  1250.0\n",
      "...       ...         ...     ...\n",
      "59392  RD_F_J  2023-02-27   468.0\n",
      "59393  RD_F_J  2023-02-28   531.0\n",
      "59394  RD_F_J  2023-03-01   574.0\n",
      "59395  RD_F_J  2023-03-02   523.0\n",
      "59396  RD_F_J  2023-03-03   529.0\n",
      "\n",
      "[59397 rows x 3 columns]\n"
     ]
    }
   ],
   "source": [
    "df = df.drop(columns = [\"answer_x\",\"answer_y\", \"item\"])\n",
    "df"
   ]
  },
  {
   "cell_type": "code",
   "execution_count": 11,
   "metadata": {},
   "outputs": [
    {
     "name": "stderr",
     "output_type": "stream",
     "text": [
      "GPU available: False, used: False\n",
      "TPU available: False, using: 0 TPU cores\n",
      "IPU available: False, using: 0 IPUs\n",
      "HPU available: False, using: 0 HPUs\n",
      "\n",
      "  | Name            | Type             | Params\n",
      "-----------------------------------------------------\n",
      "0 | criterion       | MSELoss          | 0     \n",
      "1 | train_metrics   | MetricCollection | 0     \n",
      "2 | val_metrics     | MetricCollection | 0     \n",
      "3 | decomposition   | _SeriesDecomp    | 0     \n",
      "4 | linear_seasonal | Linear           | 3.6 K \n",
      "5 | linear_trend    | Linear           | 3.6 K \n",
      "-----------------------------------------------------\n",
      "7.2 K     Trainable params\n",
      "0         Non-trainable params\n",
      "7.2 K     Total params\n",
      "0.029     Total estimated model params size (MB)\n"
     ]
    },
    {
     "name": "stdout",
     "output_type": "stream",
     "text": [
      "Epoch 49: 100%|██████████| 6/6 [00:00<00:00, 31.09it/s, train_loss=5.13e+6]"
     ]
    },
    {
     "name": "stderr",
     "output_type": "stream",
     "text": [
      "`Trainer.fit` stopped: `max_epochs=50` reached.\n"
     ]
    },
    {
     "name": "stdout",
     "output_type": "stream",
     "text": [
      "Epoch 49: 100%|██████████| 6/6 [00:00<00:00, 30.62it/s, train_loss=5.13e+6]\n"
     ]
    },
    {
     "name": "stderr",
     "output_type": "stream",
     "text": [
      "GPU available: False, used: False\n",
      "TPU available: False, using: 0 TPU cores\n",
      "IPU available: False, using: 0 IPUs\n",
      "HPU available: False, using: 0 HPUs\n"
     ]
    },
    {
     "name": "stdout",
     "output_type": "stream",
     "text": [
      "Predicting DataLoader 0: 100%|██████████| 1/1 [00:00<00:00, 72.19it/s]\n"
     ]
    },
    {
     "name": "stderr",
     "output_type": "stream",
     "text": [
      "GPU available: False, used: False\n",
      "TPU available: False, using: 0 TPU cores\n",
      "IPU available: False, using: 0 IPUs\n",
      "HPU available: False, using: 0 HPUs\n",
      "\n",
      "  | Name            | Type             | Params\n",
      "-----------------------------------------------------\n",
      "0 | criterion       | MSELoss          | 0     \n",
      "1 | train_metrics   | MetricCollection | 0     \n",
      "2 | val_metrics     | MetricCollection | 0     \n",
      "3 | decomposition   | _SeriesDecomp    | 0     \n",
      "4 | linear_seasonal | Linear           | 3.6 K \n",
      "5 | linear_trend    | Linear           | 3.6 K \n",
      "-----------------------------------------------------\n",
      "7.2 K     Trainable params\n",
      "0         Non-trainable params\n",
      "7.2 K     Total params\n",
      "0.029     Total estimated model params size (MB)\n"
     ]
    },
    {
     "name": "stdout",
     "output_type": "stream",
     "text": [
      "Epoch 49: 100%|██████████| 6/6 [00:00<00:00, 31.39it/s, train_loss=1.75e+6]"
     ]
    },
    {
     "name": "stderr",
     "output_type": "stream",
     "text": [
      "`Trainer.fit` stopped: `max_epochs=50` reached.\n"
     ]
    },
    {
     "name": "stdout",
     "output_type": "stream",
     "text": [
      "Epoch 49: 100%|██████████| 6/6 [00:00<00:00, 31.00it/s, train_loss=1.75e+6]\n"
     ]
    },
    {
     "name": "stderr",
     "output_type": "stream",
     "text": [
      "GPU available: False, used: False\n",
      "TPU available: False, using: 0 TPU cores\n",
      "IPU available: False, using: 0 IPUs\n",
      "HPU available: False, using: 0 HPUs\n"
     ]
    },
    {
     "name": "stdout",
     "output_type": "stream",
     "text": [
      "Predicting DataLoader 0: 100%|██████████| 1/1 [00:00<00:00, 175.05it/s]\n"
     ]
    },
    {
     "name": "stderr",
     "output_type": "stream",
     "text": [
      "GPU available: False, used: False\n",
      "TPU available: False, using: 0 TPU cores\n",
      "IPU available: False, using: 0 IPUs\n",
      "HPU available: False, using: 0 HPUs\n",
      "\n",
      "  | Name            | Type             | Params\n",
      "-----------------------------------------------------\n",
      "0 | criterion       | MSELoss          | 0     \n",
      "1 | train_metrics   | MetricCollection | 0     \n",
      "2 | val_metrics     | MetricCollection | 0     \n",
      "3 | decomposition   | _SeriesDecomp    | 0     \n",
      "4 | linear_seasonal | Linear           | 3.6 K \n",
      "5 | linear_trend    | Linear           | 3.6 K \n",
      "-----------------------------------------------------\n",
      "7.2 K     Trainable params\n",
      "0         Non-trainable params\n",
      "7.2 K     Total params\n",
      "0.029     Total estimated model params size (MB)\n"
     ]
    },
    {
     "name": "stdout",
     "output_type": "stream",
     "text": [
      "Epoch 49: 100%|██████████| 6/6 [00:00<00:00, 27.65it/s, train_loss=5.9e+6] "
     ]
    },
    {
     "name": "stderr",
     "output_type": "stream",
     "text": [
      "`Trainer.fit` stopped: `max_epochs=50` reached.\n"
     ]
    },
    {
     "name": "stdout",
     "output_type": "stream",
     "text": [
      "Epoch 49: 100%|██████████| 6/6 [00:00<00:00, 27.36it/s, train_loss=5.9e+6]\n"
     ]
    },
    {
     "name": "stderr",
     "output_type": "stream",
     "text": [
      "GPU available: False, used: False\n",
      "TPU available: False, using: 0 TPU cores\n",
      "IPU available: False, using: 0 IPUs\n",
      "HPU available: False, using: 0 HPUs\n"
     ]
    },
    {
     "name": "stdout",
     "output_type": "stream",
     "text": [
      "Predicting DataLoader 0: 100%|██████████| 1/1 [00:00<00:00, 214.40it/s]"
     ]
    },
    {
     "name": "stderr",
     "output_type": "stream",
     "text": [
      "GPU available: False, used: False\n",
      "TPU available: False, using: 0 TPU cores\n",
      "IPU available: False, using: 0 IPUs\n",
      "HPU available: False, using: 0 HPUs\n"
     ]
    },
    {
     "name": "stdout",
     "output_type": "stream",
     "text": [
      "\n"
     ]
    },
    {
     "name": "stderr",
     "output_type": "stream",
     "text": [
      "\n",
      "  | Name            | Type             | Params\n",
      "-----------------------------------------------------\n",
      "0 | criterion       | MSELoss          | 0     \n",
      "1 | train_metrics   | MetricCollection | 0     \n",
      "2 | val_metrics     | MetricCollection | 0     \n",
      "3 | decomposition   | _SeriesDecomp    | 0     \n",
      "4 | linear_seasonal | Linear           | 3.6 K \n",
      "5 | linear_trend    | Linear           | 3.6 K \n",
      "-----------------------------------------------------\n",
      "7.2 K     Trainable params\n",
      "0         Non-trainable params\n",
      "7.2 K     Total params\n",
      "0.029     Total estimated model params size (MB)\n"
     ]
    },
    {
     "name": "stdout",
     "output_type": "stream",
     "text": [
      "Epoch 49: 100%|██████████| 6/6 [00:00<00:00, 29.82it/s, train_loss=2.31e+6]"
     ]
    },
    {
     "name": "stderr",
     "output_type": "stream",
     "text": [
      "`Trainer.fit` stopped: `max_epochs=50` reached.\n"
     ]
    },
    {
     "name": "stdout",
     "output_type": "stream",
     "text": [
      "Epoch 49: 100%|██████████| 6/6 [00:00<00:00, 29.50it/s, train_loss=2.31e+6]"
     ]
    },
    {
     "name": "stderr",
     "output_type": "stream",
     "text": [
      "GPU available: False, used: False\n"
     ]
    },
    {
     "name": "stdout",
     "output_type": "stream",
     "text": [
      "\n"
     ]
    },
    {
     "name": "stderr",
     "output_type": "stream",
     "text": [
      "TPU available: False, using: 0 TPU cores\n",
      "IPU available: False, using: 0 IPUs\n",
      "HPU available: False, using: 0 HPUs\n"
     ]
    },
    {
     "name": "stdout",
     "output_type": "stream",
     "text": [
      "Predicting DataLoader 0: 100%|██████████| 1/1 [00:00<00:00, 186.17it/s]\n"
     ]
    },
    {
     "name": "stderr",
     "output_type": "stream",
     "text": [
      "GPU available: False, used: False\n",
      "TPU available: False, using: 0 TPU cores\n",
      "IPU available: False, using: 0 IPUs\n",
      "HPU available: False, using: 0 HPUs\n",
      "\n",
      "  | Name            | Type             | Params\n",
      "-----------------------------------------------------\n",
      "0 | criterion       | MSELoss          | 0     \n",
      "1 | train_metrics   | MetricCollection | 0     \n",
      "2 | val_metrics     | MetricCollection | 0     \n",
      "3 | decomposition   | _SeriesDecomp    | 0     \n",
      "4 | linear_seasonal | Linear           | 3.6 K \n",
      "5 | linear_trend    | Linear           | 3.6 K \n",
      "-----------------------------------------------------\n",
      "7.2 K     Trainable params\n",
      "0         Non-trainable params\n",
      "7.2 K     Total params\n",
      "0.029     Total estimated model params size (MB)\n"
     ]
    },
    {
     "name": "stdout",
     "output_type": "stream",
     "text": [
      "Epoch 49: 100%|██████████| 6/6 [00:00<00:00, 29.01it/s, train_loss=4.21e+6]"
     ]
    },
    {
     "name": "stderr",
     "output_type": "stream",
     "text": [
      "`Trainer.fit` stopped: `max_epochs=50` reached.\n"
     ]
    },
    {
     "name": "stdout",
     "output_type": "stream",
     "text": [
      "Epoch 49: 100%|██████████| 6/6 [00:00<00:00, 28.64it/s, train_loss=4.21e+6]"
     ]
    },
    {
     "name": "stderr",
     "output_type": "stream",
     "text": [
      "GPU available: False, used: False\n"
     ]
    },
    {
     "name": "stdout",
     "output_type": "stream",
     "text": [
      "\n"
     ]
    },
    {
     "name": "stderr",
     "output_type": "stream",
     "text": [
      "TPU available: False, using: 0 TPU cores\n",
      "IPU available: False, using: 0 IPUs\n",
      "HPU available: False, using: 0 HPUs\n"
     ]
    },
    {
     "name": "stdout",
     "output_type": "stream",
     "text": [
      "Predicting DataLoader 0: 100%|██████████| 1/1 [00:00<00:00, 146.09it/s]\n"
     ]
    },
    {
     "name": "stderr",
     "output_type": "stream",
     "text": [
      "GPU available: False, used: False\n",
      "TPU available: False, using: 0 TPU cores\n",
      "IPU available: False, using: 0 IPUs\n",
      "HPU available: False, using: 0 HPUs\n",
      "\n",
      "  | Name            | Type             | Params\n",
      "-----------------------------------------------------\n",
      "0 | criterion       | MSELoss          | 0     \n",
      "1 | train_metrics   | MetricCollection | 0     \n",
      "2 | val_metrics     | MetricCollection | 0     \n",
      "3 | decomposition   | _SeriesDecomp    | 0     \n",
      "4 | linear_seasonal | Linear           | 3.6 K \n",
      "5 | linear_trend    | Linear           | 3.6 K \n",
      "-----------------------------------------------------\n",
      "7.2 K     Trainable params\n",
      "0         Non-trainable params\n",
      "7.2 K     Total params\n",
      "0.029     Total estimated model params size (MB)\n"
     ]
    },
    {
     "name": "stdout",
     "output_type": "stream",
     "text": [
      "Epoch 49: 100%|██████████| 6/6 [00:00<00:00, 30.05it/s, train_loss=2.13e+6]"
     ]
    },
    {
     "name": "stderr",
     "output_type": "stream",
     "text": [
      "`Trainer.fit` stopped: `max_epochs=50` reached.\n"
     ]
    },
    {
     "name": "stdout",
     "output_type": "stream",
     "text": [
      "Epoch 49: 100%|██████████| 6/6 [00:00<00:00, 29.68it/s, train_loss=2.13e+6]"
     ]
    },
    {
     "name": "stderr",
     "output_type": "stream",
     "text": [
      "GPU available: False, used: False\n",
      "TPU available: False, using: 0 TPU cores\n",
      "IPU available: False, using: 0 IPUs\n",
      "HPU available: False, using: 0 HPUs\n"
     ]
    },
    {
     "name": "stdout",
     "output_type": "stream",
     "text": [
      "\n",
      "Predicting DataLoader 0: 100%|██████████| 1/1 [00:00<00:00, 151.27it/s]\n"
     ]
    },
    {
     "name": "stderr",
     "output_type": "stream",
     "text": [
      "GPU available: False, used: False\n",
      "TPU available: False, using: 0 TPU cores\n",
      "IPU available: False, using: 0 IPUs\n",
      "HPU available: False, using: 0 HPUs\n",
      "\n",
      "  | Name            | Type             | Params\n",
      "-----------------------------------------------------\n",
      "0 | criterion       | MSELoss          | 0     \n",
      "1 | train_metrics   | MetricCollection | 0     \n",
      "2 | val_metrics     | MetricCollection | 0     \n",
      "3 | decomposition   | _SeriesDecomp    | 0     \n",
      "4 | linear_seasonal | Linear           | 3.6 K \n",
      "5 | linear_trend    | Linear           | 3.6 K \n",
      "-----------------------------------------------------\n",
      "7.2 K     Trainable params\n",
      "0         Non-trainable params\n",
      "7.2 K     Total params\n",
      "0.029     Total estimated model params size (MB)\n"
     ]
    },
    {
     "name": "stdout",
     "output_type": "stream",
     "text": [
      "Epoch 49: 100%|██████████| 6/6 [00:00<00:00, 28.75it/s, train_loss=3.79e+6]"
     ]
    },
    {
     "name": "stderr",
     "output_type": "stream",
     "text": [
      "`Trainer.fit` stopped: `max_epochs=50` reached.\n"
     ]
    },
    {
     "name": "stdout",
     "output_type": "stream",
     "text": [
      "Epoch 49: 100%|██████████| 6/6 [00:00<00:00, 28.49it/s, train_loss=3.79e+6]\n"
     ]
    },
    {
     "name": "stderr",
     "output_type": "stream",
     "text": [
      "GPU available: False, used: False\n",
      "TPU available: False, using: 0 TPU cores\n",
      "IPU available: False, using: 0 IPUs\n",
      "HPU available: False, using: 0 HPUs\n"
     ]
    },
    {
     "name": "stdout",
     "output_type": "stream",
     "text": [
      "Predicting DataLoader 0: 100%|██████████| 1/1 [00:00<00:00, 129.32it/s]\n"
     ]
    },
    {
     "name": "stderr",
     "output_type": "stream",
     "text": [
      "GPU available: False, used: False\n",
      "TPU available: False, using: 0 TPU cores\n",
      "IPU available: False, using: 0 IPUs\n",
      "HPU available: False, using: 0 HPUs\n",
      "\n",
      "  | Name            | Type             | Params\n",
      "-----------------------------------------------------\n",
      "0 | criterion       | MSELoss          | 0     \n",
      "1 | train_metrics   | MetricCollection | 0     \n",
      "2 | val_metrics     | MetricCollection | 0     \n",
      "3 | decomposition   | _SeriesDecomp    | 0     \n",
      "4 | linear_seasonal | Linear           | 3.6 K \n",
      "5 | linear_trend    | Linear           | 3.6 K \n",
      "-----------------------------------------------------\n",
      "7.2 K     Trainable params\n",
      "0         Non-trainable params\n",
      "7.2 K     Total params\n",
      "0.029     Total estimated model params size (MB)\n"
     ]
    },
    {
     "name": "stdout",
     "output_type": "stream",
     "text": [
      "Epoch 49: 100%|██████████| 6/6 [00:00<00:00, 28.98it/s, train_loss=2.8e+6] "
     ]
    },
    {
     "name": "stderr",
     "output_type": "stream",
     "text": [
      "`Trainer.fit` stopped: `max_epochs=50` reached.\n"
     ]
    },
    {
     "name": "stdout",
     "output_type": "stream",
     "text": [
      "Epoch 49: 100%|██████████| 6/6 [00:00<00:00, 28.63it/s, train_loss=2.8e+6]\n"
     ]
    },
    {
     "name": "stderr",
     "output_type": "stream",
     "text": [
      "GPU available: False, used: False\n",
      "TPU available: False, using: 0 TPU cores\n",
      "IPU available: False, using: 0 IPUs\n",
      "HPU available: False, using: 0 HPUs\n"
     ]
    },
    {
     "name": "stdout",
     "output_type": "stream",
     "text": [
      "Predicting DataLoader 0: 100%|██████████| 1/1 [00:00<00:00, 216.36it/s]\n"
     ]
    },
    {
     "name": "stderr",
     "output_type": "stream",
     "text": [
      "GPU available: False, used: False\n",
      "TPU available: False, using: 0 TPU cores\n",
      "IPU available: False, using: 0 IPUs\n",
      "HPU available: False, using: 0 HPUs\n",
      "\n",
      "  | Name            | Type             | Params\n",
      "-----------------------------------------------------\n",
      "0 | criterion       | MSELoss          | 0     \n",
      "1 | train_metrics   | MetricCollection | 0     \n",
      "2 | val_metrics     | MetricCollection | 0     \n",
      "3 | decomposition   | _SeriesDecomp    | 0     \n",
      "4 | linear_seasonal | Linear           | 3.6 K \n",
      "5 | linear_trend    | Linear           | 3.6 K \n",
      "-----------------------------------------------------\n",
      "7.2 K     Trainable params\n",
      "0         Non-trainable params\n",
      "7.2 K     Total params\n",
      "0.029     Total estimated model params size (MB)\n"
     ]
    },
    {
     "name": "stdout",
     "output_type": "stream",
     "text": [
      "Epoch 49: 100%|██████████| 6/6 [00:00<00:00, 30.91it/s, train_loss=5.3e+6] "
     ]
    },
    {
     "name": "stderr",
     "output_type": "stream",
     "text": [
      "`Trainer.fit` stopped: `max_epochs=50` reached.\n"
     ]
    },
    {
     "name": "stdout",
     "output_type": "stream",
     "text": [
      "Epoch 49: 100%|██████████| 6/6 [00:00<00:00, 30.40it/s, train_loss=5.3e+6]\n"
     ]
    },
    {
     "name": "stderr",
     "output_type": "stream",
     "text": [
      "GPU available: False, used: False\n",
      "TPU available: False, using: 0 TPU cores\n",
      "IPU available: False, using: 0 IPUs\n",
      "HPU available: False, using: 0 HPUs\n"
     ]
    },
    {
     "name": "stdout",
     "output_type": "stream",
     "text": [
      "Predicting DataLoader 0: 100%|██████████| 1/1 [00:00<00:00, 198.73it/s]\n"
     ]
    },
    {
     "name": "stderr",
     "output_type": "stream",
     "text": [
      "GPU available: False, used: False\n",
      "TPU available: False, using: 0 TPU cores\n",
      "IPU available: False, using: 0 IPUs\n",
      "HPU available: False, using: 0 HPUs\n",
      "\n",
      "  | Name            | Type             | Params\n",
      "-----------------------------------------------------\n",
      "0 | criterion       | MSELoss          | 0     \n",
      "1 | train_metrics   | MetricCollection | 0     \n",
      "2 | val_metrics     | MetricCollection | 0     \n",
      "3 | decomposition   | _SeriesDecomp    | 0     \n",
      "4 | linear_seasonal | Linear           | 3.6 K \n",
      "5 | linear_trend    | Linear           | 3.6 K \n",
      "-----------------------------------------------------\n",
      "7.2 K     Trainable params\n",
      "0         Non-trainable params\n",
      "7.2 K     Total params\n",
      "0.029     Total estimated model params size (MB)\n"
     ]
    },
    {
     "name": "stdout",
     "output_type": "stream",
     "text": [
      "Epoch 49: 100%|██████████| 6/6 [00:00<00:00, 28.50it/s, train_loss=1.82e+6]"
     ]
    },
    {
     "name": "stderr",
     "output_type": "stream",
     "text": [
      "`Trainer.fit` stopped: `max_epochs=50` reached.\n"
     ]
    },
    {
     "name": "stdout",
     "output_type": "stream",
     "text": [
      "Epoch 49: 100%|██████████| 6/6 [00:00<00:00, 28.09it/s, train_loss=1.82e+6]\n"
     ]
    },
    {
     "name": "stderr",
     "output_type": "stream",
     "text": [
      "GPU available: False, used: False\n",
      "TPU available: False, using: 0 TPU cores\n",
      "IPU available: False, using: 0 IPUs\n",
      "HPU available: False, using: 0 HPUs\n"
     ]
    },
    {
     "name": "stdout",
     "output_type": "stream",
     "text": [
      "Predicting DataLoader 0: 100%|██████████| 1/1 [00:00<00:00, 162.02it/s]\n"
     ]
    },
    {
     "name": "stderr",
     "output_type": "stream",
     "text": [
      "GPU available: False, used: False\n",
      "TPU available: False, using: 0 TPU cores\n",
      "IPU available: False, using: 0 IPUs\n",
      "HPU available: False, using: 0 HPUs\n",
      "\n",
      "  | Name            | Type             | Params\n",
      "-----------------------------------------------------\n",
      "0 | criterion       | MSELoss          | 0     \n",
      "1 | train_metrics   | MetricCollection | 0     \n",
      "2 | val_metrics     | MetricCollection | 0     \n",
      "3 | decomposition   | _SeriesDecomp    | 0     \n",
      "4 | linear_seasonal | Linear           | 3.6 K \n",
      "5 | linear_trend    | Linear           | 3.6 K \n",
      "-----------------------------------------------------\n",
      "7.2 K     Trainable params\n",
      "0         Non-trainable params\n",
      "7.2 K     Total params\n",
      "0.029     Total estimated model params size (MB)\n"
     ]
    },
    {
     "name": "stdout",
     "output_type": "stream",
     "text": [
      "Epoch 49: 100%|██████████| 6/6 [00:00<00:00, 30.44it/s, train_loss=1.93e+5]"
     ]
    },
    {
     "name": "stderr",
     "output_type": "stream",
     "text": [
      "`Trainer.fit` stopped: `max_epochs=50` reached.\n"
     ]
    },
    {
     "name": "stdout",
     "output_type": "stream",
     "text": [
      "Epoch 49: 100%|██████████| 6/6 [00:00<00:00, 30.07it/s, train_loss=1.93e+5]\n"
     ]
    },
    {
     "name": "stderr",
     "output_type": "stream",
     "text": [
      "GPU available: False, used: False\n",
      "TPU available: False, using: 0 TPU cores\n",
      "IPU available: False, using: 0 IPUs\n",
      "HPU available: False, using: 0 HPUs\n"
     ]
    },
    {
     "name": "stdout",
     "output_type": "stream",
     "text": [
      "Predicting DataLoader 0: 100%|██████████| 1/1 [00:00<00:00, 244.10it/s]"
     ]
    },
    {
     "name": "stderr",
     "output_type": "stream",
     "text": [
      "GPU available: False, used: False\n",
      "TPU available: False, using: 0 TPU cores\n",
      "IPU available: False, using: 0 IPUs\n"
     ]
    },
    {
     "name": "stdout",
     "output_type": "stream",
     "text": [
      "\n"
     ]
    },
    {
     "name": "stderr",
     "output_type": "stream",
     "text": [
      "HPU available: False, using: 0 HPUs\n",
      "\n",
      "  | Name            | Type             | Params\n",
      "-----------------------------------------------------\n",
      "0 | criterion       | MSELoss          | 0     \n",
      "1 | train_metrics   | MetricCollection | 0     \n",
      "2 | val_metrics     | MetricCollection | 0     \n",
      "3 | decomposition   | _SeriesDecomp    | 0     \n",
      "4 | linear_seasonal | Linear           | 3.6 K \n",
      "5 | linear_trend    | Linear           | 3.6 K \n",
      "-----------------------------------------------------\n",
      "7.2 K     Trainable params\n",
      "0         Non-trainable params\n",
      "7.2 K     Total params\n",
      "0.029     Total estimated model params size (MB)\n"
     ]
    },
    {
     "name": "stdout",
     "output_type": "stream",
     "text": [
      "Epoch 49: 100%|██████████| 6/6 [00:00<00:00, 30.50it/s, train_loss=1.23e+5]"
     ]
    },
    {
     "name": "stderr",
     "output_type": "stream",
     "text": [
      "`Trainer.fit` stopped: `max_epochs=50` reached.\n"
     ]
    },
    {
     "name": "stdout",
     "output_type": "stream",
     "text": [
      "Epoch 49: 100%|██████████| 6/6 [00:00<00:00, 30.17it/s, train_loss=1.23e+5]\n"
     ]
    },
    {
     "name": "stderr",
     "output_type": "stream",
     "text": [
      "GPU available: False, used: False\n",
      "TPU available: False, using: 0 TPU cores\n",
      "IPU available: False, using: 0 IPUs\n",
      "HPU available: False, using: 0 HPUs\n"
     ]
    },
    {
     "name": "stdout",
     "output_type": "stream",
     "text": [
      "Predicting DataLoader 0: 100%|██████████| 1/1 [00:00<00:00, 214.26it/s]"
     ]
    },
    {
     "name": "stderr",
     "output_type": "stream",
     "text": [
      "GPU available: False, used: False\n",
      "TPU available: False, using: 0 TPU cores\n",
      "IPU available: False, using: 0 IPUs\n"
     ]
    },
    {
     "name": "stdout",
     "output_type": "stream",
     "text": [
      "\n"
     ]
    },
    {
     "name": "stderr",
     "output_type": "stream",
     "text": [
      "HPU available: False, using: 0 HPUs\n",
      "\n",
      "  | Name            | Type             | Params\n",
      "-----------------------------------------------------\n",
      "0 | criterion       | MSELoss          | 0     \n",
      "1 | train_metrics   | MetricCollection | 0     \n",
      "2 | val_metrics     | MetricCollection | 0     \n",
      "3 | decomposition   | _SeriesDecomp    | 0     \n",
      "4 | linear_seasonal | Linear           | 3.6 K \n",
      "5 | linear_trend    | Linear           | 3.6 K \n",
      "-----------------------------------------------------\n",
      "7.2 K     Trainable params\n",
      "0         Non-trainable params\n",
      "7.2 K     Total params\n",
      "0.029     Total estimated model params size (MB)\n"
     ]
    },
    {
     "name": "stdout",
     "output_type": "stream",
     "text": [
      "Epoch 49: 100%|██████████| 6/6 [00:00<00:00, 30.53it/s, train_loss=2.26e+5]"
     ]
    },
    {
     "name": "stderr",
     "output_type": "stream",
     "text": [
      "`Trainer.fit` stopped: `max_epochs=50` reached.\n"
     ]
    },
    {
     "name": "stdout",
     "output_type": "stream",
     "text": [
      "Epoch 49: 100%|██████████| 6/6 [00:00<00:00, 30.10it/s, train_loss=2.26e+5]\n"
     ]
    },
    {
     "name": "stderr",
     "output_type": "stream",
     "text": [
      "GPU available: False, used: False\n",
      "TPU available: False, using: 0 TPU cores\n",
      "IPU available: False, using: 0 IPUs\n",
      "HPU available: False, using: 0 HPUs\n"
     ]
    },
    {
     "name": "stdout",
     "output_type": "stream",
     "text": [
      "Predicting DataLoader 0: 100%|██████████| 1/1 [00:00<00:00, 219.41it/s]\n"
     ]
    },
    {
     "name": "stderr",
     "output_type": "stream",
     "text": [
      "GPU available: False, used: False\n",
      "TPU available: False, using: 0 TPU cores\n",
      "IPU available: False, using: 0 IPUs\n",
      "HPU available: False, using: 0 HPUs\n",
      "\n",
      "  | Name            | Type             | Params\n",
      "-----------------------------------------------------\n",
      "0 | criterion       | MSELoss          | 0     \n",
      "1 | train_metrics   | MetricCollection | 0     \n",
      "2 | val_metrics     | MetricCollection | 0     \n",
      "3 | decomposition   | _SeriesDecomp    | 0     \n",
      "4 | linear_seasonal | Linear           | 3.6 K \n",
      "5 | linear_trend    | Linear           | 3.6 K \n",
      "-----------------------------------------------------\n",
      "7.2 K     Trainable params\n",
      "0         Non-trainable params\n",
      "7.2 K     Total params\n",
      "0.029     Total estimated model params size (MB)\n"
     ]
    },
    {
     "name": "stdout",
     "output_type": "stream",
     "text": [
      "Epoch 49: 100%|██████████| 6/6 [00:00<00:00, 27.77it/s, train_loss=2.35e+5]"
     ]
    },
    {
     "name": "stderr",
     "output_type": "stream",
     "text": [
      "`Trainer.fit` stopped: `max_epochs=50` reached.\n"
     ]
    },
    {
     "name": "stdout",
     "output_type": "stream",
     "text": [
      "Epoch 49: 100%|██████████| 6/6 [00:00<00:00, 27.44it/s, train_loss=2.35e+5]\n"
     ]
    },
    {
     "name": "stderr",
     "output_type": "stream",
     "text": [
      "GPU available: False, used: False\n",
      "TPU available: False, using: 0 TPU cores\n",
      "IPU available: False, using: 0 IPUs\n",
      "HPU available: False, using: 0 HPUs\n"
     ]
    },
    {
     "name": "stdout",
     "output_type": "stream",
     "text": [
      "Predicting DataLoader 0: 100%|██████████| 1/1 [00:00<00:00, 241.33it/s]\n"
     ]
    },
    {
     "name": "stderr",
     "output_type": "stream",
     "text": [
      "GPU available: False, used: False\n",
      "TPU available: False, using: 0 TPU cores\n",
      "IPU available: False, using: 0 IPUs\n",
      "HPU available: False, using: 0 HPUs\n",
      "\n",
      "  | Name            | Type             | Params\n",
      "-----------------------------------------------------\n",
      "0 | criterion       | MSELoss          | 0     \n",
      "1 | train_metrics   | MetricCollection | 0     \n",
      "2 | val_metrics     | MetricCollection | 0     \n",
      "3 | decomposition   | _SeriesDecomp    | 0     \n",
      "4 | linear_seasonal | Linear           | 3.6 K \n",
      "5 | linear_trend    | Linear           | 3.6 K \n",
      "-----------------------------------------------------\n",
      "7.2 K     Trainable params\n",
      "0         Non-trainable params\n",
      "7.2 K     Total params\n",
      "0.029     Total estimated model params size (MB)\n"
     ]
    },
    {
     "name": "stdout",
     "output_type": "stream",
     "text": [
      "Epoch 49: 100%|██████████| 6/6 [00:00<00:00, 28.50it/s, train_loss=7.78e+3]"
     ]
    },
    {
     "name": "stderr",
     "output_type": "stream",
     "text": [
      "`Trainer.fit` stopped: `max_epochs=50` reached.\n"
     ]
    },
    {
     "name": "stdout",
     "output_type": "stream",
     "text": [
      "Epoch 49: 100%|██████████| 6/6 [00:00<00:00, 28.24it/s, train_loss=7.78e+3]\n"
     ]
    },
    {
     "name": "stderr",
     "output_type": "stream",
     "text": [
      "GPU available: False, used: False\n",
      "TPU available: False, using: 0 TPU cores\n",
      "IPU available: False, using: 0 IPUs\n",
      "HPU available: False, using: 0 HPUs\n"
     ]
    },
    {
     "name": "stdout",
     "output_type": "stream",
     "text": [
      "Predicting DataLoader 0: 100%|██████████| 1/1 [00:00<00:00, 204.66it/s]\n"
     ]
    },
    {
     "name": "stderr",
     "output_type": "stream",
     "text": [
      "GPU available: False, used: False\n",
      "TPU available: False, using: 0 TPU cores\n",
      "IPU available: False, using: 0 IPUs\n",
      "HPU available: False, using: 0 HPUs\n",
      "\n",
      "  | Name            | Type             | Params\n",
      "-----------------------------------------------------\n",
      "0 | criterion       | MSELoss          | 0     \n",
      "1 | train_metrics   | MetricCollection | 0     \n",
      "2 | val_metrics     | MetricCollection | 0     \n",
      "3 | decomposition   | _SeriesDecomp    | 0     \n",
      "4 | linear_seasonal | Linear           | 3.6 K \n",
      "5 | linear_trend    | Linear           | 3.6 K \n",
      "-----------------------------------------------------\n",
      "7.2 K     Trainable params\n",
      "0         Non-trainable params\n",
      "7.2 K     Total params\n",
      "0.029     Total estimated model params size (MB)\n"
     ]
    },
    {
     "name": "stdout",
     "output_type": "stream",
     "text": [
      "Epoch 49: 100%|██████████| 6/6 [00:00<00:00, 31.38it/s, train_loss=1.53e+5]"
     ]
    },
    {
     "name": "stderr",
     "output_type": "stream",
     "text": [
      "`Trainer.fit` stopped: `max_epochs=50` reached.\n"
     ]
    },
    {
     "name": "stdout",
     "output_type": "stream",
     "text": [
      "Epoch 49: 100%|██████████| 6/6 [00:00<00:00, 31.04it/s, train_loss=1.53e+5]\n"
     ]
    },
    {
     "name": "stderr",
     "output_type": "stream",
     "text": [
      "GPU available: False, used: False\n",
      "TPU available: False, using: 0 TPU cores\n",
      "IPU available: False, using: 0 IPUs\n",
      "HPU available: False, using: 0 HPUs\n"
     ]
    },
    {
     "name": "stdout",
     "output_type": "stream",
     "text": [
      "Predicting DataLoader 0: 100%|██████████| 1/1 [00:00<00:00, 209.88it/s]"
     ]
    },
    {
     "name": "stderr",
     "output_type": "stream",
     "text": [
      "GPU available: False, used: False\n"
     ]
    },
    {
     "name": "stdout",
     "output_type": "stream",
     "text": [
      "\n"
     ]
    },
    {
     "name": "stderr",
     "output_type": "stream",
     "text": [
      "TPU available: False, using: 0 TPU cores\n",
      "IPU available: False, using: 0 IPUs\n",
      "HPU available: False, using: 0 HPUs\n",
      "\n",
      "  | Name            | Type             | Params\n",
      "-----------------------------------------------------\n",
      "0 | criterion       | MSELoss          | 0     \n",
      "1 | train_metrics   | MetricCollection | 0     \n",
      "2 | val_metrics     | MetricCollection | 0     \n",
      "3 | decomposition   | _SeriesDecomp    | 0     \n",
      "4 | linear_seasonal | Linear           | 3.6 K \n",
      "5 | linear_trend    | Linear           | 3.6 K \n",
      "-----------------------------------------------------\n",
      "7.2 K     Trainable params\n",
      "0         Non-trainable params\n",
      "7.2 K     Total params\n",
      "0.029     Total estimated model params size (MB)\n"
     ]
    },
    {
     "name": "stdout",
     "output_type": "stream",
     "text": [
      "Epoch 49: 100%|██████████| 6/6 [00:00<00:00, 29.35it/s, train_loss=2.24e+4]"
     ]
    },
    {
     "name": "stderr",
     "output_type": "stream",
     "text": [
      "`Trainer.fit` stopped: `max_epochs=50` reached.\n"
     ]
    },
    {
     "name": "stdout",
     "output_type": "stream",
     "text": [
      "Epoch 49: 100%|██████████| 6/6 [00:00<00:00, 28.93it/s, train_loss=2.24e+4]\n"
     ]
    },
    {
     "name": "stderr",
     "output_type": "stream",
     "text": [
      "GPU available: False, used: False\n",
      "TPU available: False, using: 0 TPU cores\n",
      "IPU available: False, using: 0 IPUs\n",
      "HPU available: False, using: 0 HPUs\n"
     ]
    },
    {
     "name": "stdout",
     "output_type": "stream",
     "text": [
      "Predicting DataLoader 0: 100%|██████████| 1/1 [00:00<00:00, 227.65it/s]\n"
     ]
    },
    {
     "name": "stderr",
     "output_type": "stream",
     "text": [
      "GPU available: False, used: False\n",
      "TPU available: False, using: 0 TPU cores\n",
      "IPU available: False, using: 0 IPUs\n",
      "HPU available: False, using: 0 HPUs\n",
      "\n",
      "  | Name            | Type             | Params\n",
      "-----------------------------------------------------\n",
      "0 | criterion       | MSELoss          | 0     \n",
      "1 | train_metrics   | MetricCollection | 0     \n",
      "2 | val_metrics     | MetricCollection | 0     \n",
      "3 | decomposition   | _SeriesDecomp    | 0     \n",
      "4 | linear_seasonal | Linear           | 3.6 K \n",
      "5 | linear_trend    | Linear           | 3.6 K \n",
      "-----------------------------------------------------\n",
      "7.2 K     Trainable params\n",
      "0         Non-trainable params\n",
      "7.2 K     Total params\n",
      "0.029     Total estimated model params size (MB)\n"
     ]
    },
    {
     "name": "stdout",
     "output_type": "stream",
     "text": [
      "Epoch 49: 100%|██████████| 6/6 [00:00<00:00, 31.63it/s, train_loss=1.05e+5]"
     ]
    },
    {
     "name": "stderr",
     "output_type": "stream",
     "text": [
      "`Trainer.fit` stopped: `max_epochs=50` reached.\n"
     ]
    },
    {
     "name": "stdout",
     "output_type": "stream",
     "text": [
      "Epoch 49: 100%|██████████| 6/6 [00:00<00:00, 31.38it/s, train_loss=1.05e+5]\n"
     ]
    },
    {
     "name": "stderr",
     "output_type": "stream",
     "text": [
      "GPU available: False, used: False\n",
      "TPU available: False, using: 0 TPU cores\n",
      "IPU available: False, using: 0 IPUs\n",
      "HPU available: False, using: 0 HPUs\n"
     ]
    },
    {
     "name": "stdout",
     "output_type": "stream",
     "text": [
      "Predicting DataLoader 0: 100%|██████████| 1/1 [00:00<00:00, 195.04it/s]\n"
     ]
    },
    {
     "name": "stderr",
     "output_type": "stream",
     "text": [
      "GPU available: False, used: False\n",
      "TPU available: False, using: 0 TPU cores\n",
      "IPU available: False, using: 0 IPUs\n",
      "HPU available: False, using: 0 HPUs\n",
      "\n",
      "  | Name            | Type             | Params\n",
      "-----------------------------------------------------\n",
      "0 | criterion       | MSELoss          | 0     \n",
      "1 | train_metrics   | MetricCollection | 0     \n",
      "2 | val_metrics     | MetricCollection | 0     \n",
      "3 | decomposition   | _SeriesDecomp    | 0     \n",
      "4 | linear_seasonal | Linear           | 3.6 K \n",
      "5 | linear_trend    | Linear           | 3.6 K \n",
      "-----------------------------------------------------\n",
      "7.2 K     Trainable params\n",
      "0         Non-trainable params\n",
      "7.2 K     Total params\n",
      "0.029     Total estimated model params size (MB)\n"
     ]
    },
    {
     "name": "stdout",
     "output_type": "stream",
     "text": [
      "Epoch 49: 100%|██████████| 6/6 [00:00<00:00, 30.69it/s, train_loss=1.7e+3] "
     ]
    },
    {
     "name": "stderr",
     "output_type": "stream",
     "text": [
      "`Trainer.fit` stopped: `max_epochs=50` reached.\n"
     ]
    },
    {
     "name": "stdout",
     "output_type": "stream",
     "text": [
      "Epoch 49: 100%|██████████| 6/6 [00:00<00:00, 30.35it/s, train_loss=1.7e+3]\n"
     ]
    },
    {
     "name": "stderr",
     "output_type": "stream",
     "text": [
      "GPU available: False, used: False\n",
      "TPU available: False, using: 0 TPU cores\n",
      "IPU available: False, using: 0 IPUs\n",
      "HPU available: False, using: 0 HPUs\n"
     ]
    },
    {
     "name": "stdout",
     "output_type": "stream",
     "text": [
      "Predicting DataLoader 0: 100%|██████████| 1/1 [00:00<00:00, 217.14it/s]"
     ]
    },
    {
     "name": "stderr",
     "output_type": "stream",
     "text": [
      "GPU available: False, used: False\n",
      "TPU available: False, using: 0 TPU cores\n",
      "IPU available: False, using: 0 IPUs\n",
      "HPU available: False, using: 0 HPUs\n"
     ]
    },
    {
     "name": "stdout",
     "output_type": "stream",
     "text": [
      "\n"
     ]
    },
    {
     "name": "stderr",
     "output_type": "stream",
     "text": [
      "\n",
      "  | Name            | Type             | Params\n",
      "-----------------------------------------------------\n",
      "0 | criterion       | MSELoss          | 0     \n",
      "1 | train_metrics   | MetricCollection | 0     \n",
      "2 | val_metrics     | MetricCollection | 0     \n",
      "3 | decomposition   | _SeriesDecomp    | 0     \n",
      "4 | linear_seasonal | Linear           | 3.6 K \n",
      "5 | linear_trend    | Linear           | 3.6 K \n",
      "-----------------------------------------------------\n",
      "7.2 K     Trainable params\n",
      "0         Non-trainable params\n",
      "7.2 K     Total params\n",
      "0.029     Total estimated model params size (MB)\n"
     ]
    },
    {
     "name": "stdout",
     "output_type": "stream",
     "text": [
      "Epoch 49: 100%|██████████| 6/6 [00:00<00:00, 28.40it/s, train_loss=7.01e+4]"
     ]
    },
    {
     "name": "stderr",
     "output_type": "stream",
     "text": [
      "`Trainer.fit` stopped: `max_epochs=50` reached.\n"
     ]
    },
    {
     "name": "stdout",
     "output_type": "stream",
     "text": [
      "Epoch 49: 100%|██████████| 6/6 [00:00<00:00, 28.12it/s, train_loss=7.01e+4]\n"
     ]
    },
    {
     "name": "stderr",
     "output_type": "stream",
     "text": [
      "GPU available: False, used: False\n",
      "TPU available: False, using: 0 TPU cores\n",
      "IPU available: False, using: 0 IPUs\n",
      "HPU available: False, using: 0 HPUs\n"
     ]
    },
    {
     "name": "stdout",
     "output_type": "stream",
     "text": [
      "Predicting DataLoader 0: 100%|██████████| 1/1 [00:00<00:00, 239.65it/s]\n"
     ]
    },
    {
     "name": "stderr",
     "output_type": "stream",
     "text": [
      "GPU available: False, used: False\n",
      "TPU available: False, using: 0 TPU cores\n",
      "IPU available: False, using: 0 IPUs\n",
      "HPU available: False, using: 0 HPUs\n",
      "\n",
      "  | Name            | Type             | Params\n",
      "-----------------------------------------------------\n",
      "0 | criterion       | MSELoss          | 0     \n",
      "1 | train_metrics   | MetricCollection | 0     \n",
      "2 | val_metrics     | MetricCollection | 0     \n",
      "3 | decomposition   | _SeriesDecomp    | 0     \n",
      "4 | linear_seasonal | Linear           | 3.6 K \n",
      "5 | linear_trend    | Linear           | 3.6 K \n",
      "-----------------------------------------------------\n",
      "7.2 K     Trainable params\n",
      "0         Non-trainable params\n",
      "7.2 K     Total params\n",
      "0.029     Total estimated model params size (MB)\n"
     ]
    },
    {
     "name": "stdout",
     "output_type": "stream",
     "text": [
      "Epoch 49: 100%|██████████| 6/6 [00:00<00:00, 27.79it/s, train_loss=7.85e+4]"
     ]
    },
    {
     "name": "stderr",
     "output_type": "stream",
     "text": [
      "`Trainer.fit` stopped: `max_epochs=50` reached.\n"
     ]
    },
    {
     "name": "stdout",
     "output_type": "stream",
     "text": [
      "Epoch 49: 100%|██████████| 6/6 [00:00<00:00, 27.48it/s, train_loss=7.85e+4]\n"
     ]
    },
    {
     "name": "stderr",
     "output_type": "stream",
     "text": [
      "GPU available: False, used: False\n",
      "TPU available: False, using: 0 TPU cores\n",
      "IPU available: False, using: 0 IPUs\n",
      "HPU available: False, using: 0 HPUs\n"
     ]
    },
    {
     "name": "stdout",
     "output_type": "stream",
     "text": [
      "Predicting DataLoader 0: 100%|██████████| 1/1 [00:00<00:00, 224.92it/s]\n"
     ]
    },
    {
     "name": "stderr",
     "output_type": "stream",
     "text": [
      "GPU available: False, used: False\n",
      "TPU available: False, using: 0 TPU cores\n",
      "IPU available: False, using: 0 IPUs\n",
      "HPU available: False, using: 0 HPUs\n",
      "\n",
      "  | Name            | Type             | Params\n",
      "-----------------------------------------------------\n",
      "0 | criterion       | MSELoss          | 0     \n",
      "1 | train_metrics   | MetricCollection | 0     \n",
      "2 | val_metrics     | MetricCollection | 0     \n",
      "3 | decomposition   | _SeriesDecomp    | 0     \n",
      "4 | linear_seasonal | Linear           | 3.6 K \n",
      "5 | linear_trend    | Linear           | 3.6 K \n",
      "-----------------------------------------------------\n",
      "7.2 K     Trainable params\n",
      "0         Non-trainable params\n",
      "7.2 K     Total params\n",
      "0.029     Total estimated model params size (MB)\n"
     ]
    },
    {
     "name": "stdout",
     "output_type": "stream",
     "text": [
      "Epoch 49: 100%|██████████| 6/6 [00:00<00:00, 30.99it/s, train_loss=1.67e+5]"
     ]
    },
    {
     "name": "stderr",
     "output_type": "stream",
     "text": [
      "`Trainer.fit` stopped: `max_epochs=50` reached.\n"
     ]
    },
    {
     "name": "stdout",
     "output_type": "stream",
     "text": [
      "Epoch 49: 100%|██████████| 6/6 [00:00<00:00, 30.50it/s, train_loss=1.67e+5]\n"
     ]
    },
    {
     "name": "stderr",
     "output_type": "stream",
     "text": [
      "GPU available: False, used: False\n",
      "TPU available: False, using: 0 TPU cores\n",
      "IPU available: False, using: 0 IPUs\n",
      "HPU available: False, using: 0 HPUs\n"
     ]
    },
    {
     "name": "stdout",
     "output_type": "stream",
     "text": [
      "Predicting DataLoader 0: 100%|██████████| 1/1 [00:00<00:00, 148.21it/s]\n"
     ]
    },
    {
     "name": "stderr",
     "output_type": "stream",
     "text": [
      "GPU available: False, used: False\n",
      "TPU available: False, using: 0 TPU cores\n",
      "IPU available: False, using: 0 IPUs\n",
      "HPU available: False, using: 0 HPUs\n",
      "\n",
      "  | Name            | Type             | Params\n",
      "-----------------------------------------------------\n",
      "0 | criterion       | MSELoss          | 0     \n",
      "1 | train_metrics   | MetricCollection | 0     \n",
      "2 | val_metrics     | MetricCollection | 0     \n",
      "3 | decomposition   | _SeriesDecomp    | 0     \n",
      "4 | linear_seasonal | Linear           | 3.6 K \n",
      "5 | linear_trend    | Linear           | 3.6 K \n",
      "-----------------------------------------------------\n",
      "7.2 K     Trainable params\n",
      "0         Non-trainable params\n",
      "7.2 K     Total params\n",
      "0.029     Total estimated model params size (MB)\n"
     ]
    },
    {
     "name": "stdout",
     "output_type": "stream",
     "text": [
      "Epoch 49: 100%|██████████| 6/6 [00:00<00:00, 29.20it/s, train_loss=4.58e+4]"
     ]
    },
    {
     "name": "stderr",
     "output_type": "stream",
     "text": [
      "`Trainer.fit` stopped: `max_epochs=50` reached.\n"
     ]
    },
    {
     "name": "stdout",
     "output_type": "stream",
     "text": [
      "Epoch 49: 100%|██████████| 6/6 [00:00<00:00, 28.78it/s, train_loss=4.58e+4]"
     ]
    },
    {
     "name": "stderr",
     "output_type": "stream",
     "text": [
      "GPU available: False, used: False\n",
      "TPU available: False, using: 0 TPU cores\n",
      "IPU available: False, using: 0 IPUs\n",
      "HPU available: False, using: 0 HPUs\n"
     ]
    },
    {
     "name": "stdout",
     "output_type": "stream",
     "text": [
      "\n",
      "Predicting DataLoader 0: 100%|██████████| 1/1 [00:00<00:00, 189.99it/s]\n"
     ]
    },
    {
     "name": "stderr",
     "output_type": "stream",
     "text": [
      "GPU available: False, used: False\n",
      "TPU available: False, using: 0 TPU cores\n",
      "IPU available: False, using: 0 IPUs\n",
      "HPU available: False, using: 0 HPUs\n",
      "\n",
      "  | Name            | Type             | Params\n",
      "-----------------------------------------------------\n",
      "0 | criterion       | MSELoss          | 0     \n",
      "1 | train_metrics   | MetricCollection | 0     \n",
      "2 | val_metrics     | MetricCollection | 0     \n",
      "3 | decomposition   | _SeriesDecomp    | 0     \n",
      "4 | linear_seasonal | Linear           | 3.6 K \n",
      "5 | linear_trend    | Linear           | 3.6 K \n",
      "-----------------------------------------------------\n",
      "7.2 K     Trainable params\n",
      "0         Non-trainable params\n",
      "7.2 K     Total params\n",
      "0.029     Total estimated model params size (MB)\n"
     ]
    },
    {
     "name": "stdout",
     "output_type": "stream",
     "text": [
      "Epoch 49: 100%|██████████| 6/6 [00:00<00:00, 29.23it/s, train_loss=2.95e+3]"
     ]
    },
    {
     "name": "stderr",
     "output_type": "stream",
     "text": [
      "`Trainer.fit` stopped: `max_epochs=50` reached.\n"
     ]
    },
    {
     "name": "stdout",
     "output_type": "stream",
     "text": [
      "Epoch 49: 100%|██████████| 6/6 [00:00<00:00, 28.72it/s, train_loss=2.95e+3]\n"
     ]
    },
    {
     "name": "stderr",
     "output_type": "stream",
     "text": [
      "GPU available: False, used: False\n",
      "TPU available: False, using: 0 TPU cores\n",
      "IPU available: False, using: 0 IPUs\n",
      "HPU available: False, using: 0 HPUs\n"
     ]
    },
    {
     "name": "stdout",
     "output_type": "stream",
     "text": [
      "Predicting DataLoader 0: 100%|██████████| 1/1 [00:00<00:00, 224.49it/s]\n"
     ]
    },
    {
     "name": "stderr",
     "output_type": "stream",
     "text": [
      "GPU available: False, used: False\n",
      "TPU available: False, using: 0 TPU cores\n",
      "IPU available: False, using: 0 IPUs\n",
      "HPU available: False, using: 0 HPUs\n",
      "\n",
      "  | Name            | Type             | Params\n",
      "-----------------------------------------------------\n",
      "0 | criterion       | MSELoss          | 0     \n",
      "1 | train_metrics   | MetricCollection | 0     \n",
      "2 | val_metrics     | MetricCollection | 0     \n",
      "3 | decomposition   | _SeriesDecomp    | 0     \n",
      "4 | linear_seasonal | Linear           | 3.6 K \n",
      "5 | linear_trend    | Linear           | 3.6 K \n",
      "-----------------------------------------------------\n",
      "7.2 K     Trainable params\n",
      "0         Non-trainable params\n",
      "7.2 K     Total params\n",
      "0.029     Total estimated model params size (MB)\n"
     ]
    },
    {
     "name": "stdout",
     "output_type": "stream",
     "text": [
      "Epoch 49: 100%|██████████| 6/6 [00:00<00:00, 29.28it/s, train_loss=6e+4]   "
     ]
    },
    {
     "name": "stderr",
     "output_type": "stream",
     "text": [
      "`Trainer.fit` stopped: `max_epochs=50` reached.\n"
     ]
    },
    {
     "name": "stdout",
     "output_type": "stream",
     "text": [
      "Epoch 49: 100%|██████████| 6/6 [00:00<00:00, 28.84it/s, train_loss=6e+4]\n"
     ]
    },
    {
     "name": "stderr",
     "output_type": "stream",
     "text": [
      "GPU available: False, used: False\n",
      "TPU available: False, using: 0 TPU cores\n",
      "IPU available: False, using: 0 IPUs\n",
      "HPU available: False, using: 0 HPUs\n"
     ]
    },
    {
     "name": "stdout",
     "output_type": "stream",
     "text": [
      "Predicting DataLoader 0: 100%|██████████| 1/1 [00:00<00:00, 218.91it/s]\n"
     ]
    },
    {
     "name": "stderr",
     "output_type": "stream",
     "text": [
      "GPU available: False, used: False\n",
      "TPU available: False, using: 0 TPU cores\n",
      "IPU available: False, using: 0 IPUs\n",
      "HPU available: False, using: 0 HPUs\n",
      "\n",
      "  | Name            | Type             | Params\n",
      "-----------------------------------------------------\n",
      "0 | criterion       | MSELoss          | 0     \n",
      "1 | train_metrics   | MetricCollection | 0     \n",
      "2 | val_metrics     | MetricCollection | 0     \n",
      "3 | decomposition   | _SeriesDecomp    | 0     \n",
      "4 | linear_seasonal | Linear           | 3.6 K \n",
      "5 | linear_trend    | Linear           | 3.6 K \n",
      "-----------------------------------------------------\n",
      "7.2 K     Trainable params\n",
      "0         Non-trainable params\n",
      "7.2 K     Total params\n",
      "0.029     Total estimated model params size (MB)\n"
     ]
    },
    {
     "name": "stdout",
     "output_type": "stream",
     "text": [
      "Epoch 49: 100%|██████████| 6/6 [00:00<00:00, 29.59it/s, train_loss=5.59e+4]"
     ]
    },
    {
     "name": "stderr",
     "output_type": "stream",
     "text": [
      "`Trainer.fit` stopped: `max_epochs=50` reached.\n"
     ]
    },
    {
     "name": "stdout",
     "output_type": "stream",
     "text": [
      "Epoch 49: 100%|██████████| 6/6 [00:00<00:00, 29.24it/s, train_loss=5.59e+4]\n"
     ]
    },
    {
     "name": "stderr",
     "output_type": "stream",
     "text": [
      "GPU available: False, used: False\n",
      "TPU available: False, using: 0 TPU cores\n",
      "IPU available: False, using: 0 IPUs\n",
      "HPU available: False, using: 0 HPUs\n"
     ]
    },
    {
     "name": "stdout",
     "output_type": "stream",
     "text": [
      "Predicting DataLoader 0: 100%|██████████| 1/1 [00:00<00:00, 184.69it/s]\n"
     ]
    },
    {
     "name": "stderr",
     "output_type": "stream",
     "text": [
      "GPU available: False, used: False\n",
      "TPU available: False, using: 0 TPU cores\n",
      "IPU available: False, using: 0 IPUs\n",
      "HPU available: False, using: 0 HPUs\n",
      "\n",
      "  | Name            | Type             | Params\n",
      "-----------------------------------------------------\n",
      "0 | criterion       | MSELoss          | 0     \n",
      "1 | train_metrics   | MetricCollection | 0     \n",
      "2 | val_metrics     | MetricCollection | 0     \n",
      "3 | decomposition   | _SeriesDecomp    | 0     \n",
      "4 | linear_seasonal | Linear           | 3.6 K \n",
      "5 | linear_trend    | Linear           | 3.6 K \n",
      "-----------------------------------------------------\n",
      "7.2 K     Trainable params\n",
      "0         Non-trainable params\n",
      "7.2 K     Total params\n",
      "0.029     Total estimated model params size (MB)\n"
     ]
    },
    {
     "name": "stdout",
     "output_type": "stream",
     "text": [
      "Epoch 49: 100%|██████████| 6/6 [00:00<00:00, 30.61it/s, train_loss=5.26e+4]"
     ]
    },
    {
     "name": "stderr",
     "output_type": "stream",
     "text": [
      "`Trainer.fit` stopped: `max_epochs=50` reached.\n"
     ]
    },
    {
     "name": "stdout",
     "output_type": "stream",
     "text": [
      "Epoch 49: 100%|██████████| 6/6 [00:00<00:00, 29.87it/s, train_loss=5.26e+4]\n"
     ]
    },
    {
     "name": "stderr",
     "output_type": "stream",
     "text": [
      "GPU available: False, used: False\n",
      "TPU available: False, using: 0 TPU cores\n",
      "IPU available: False, using: 0 IPUs\n",
      "HPU available: False, using: 0 HPUs\n"
     ]
    },
    {
     "name": "stdout",
     "output_type": "stream",
     "text": [
      "Predicting DataLoader 0: 100%|██████████| 1/1 [00:00<00:00, 170.78it/s]\n"
     ]
    },
    {
     "name": "stderr",
     "output_type": "stream",
     "text": [
      "GPU available: False, used: False\n",
      "TPU available: False, using: 0 TPU cores\n",
      "IPU available: False, using: 0 IPUs\n",
      "HPU available: False, using: 0 HPUs\n",
      "\n",
      "  | Name            | Type             | Params\n",
      "-----------------------------------------------------\n",
      "0 | criterion       | MSELoss          | 0     \n",
      "1 | train_metrics   | MetricCollection | 0     \n",
      "2 | val_metrics     | MetricCollection | 0     \n",
      "3 | decomposition   | _SeriesDecomp    | 0     \n",
      "4 | linear_seasonal | Linear           | 3.6 K \n",
      "5 | linear_trend    | Linear           | 3.6 K \n",
      "-----------------------------------------------------\n",
      "7.2 K     Trainable params\n",
      "0         Non-trainable params\n",
      "7.2 K     Total params\n",
      "0.029     Total estimated model params size (MB)\n"
     ]
    },
    {
     "name": "stdout",
     "output_type": "stream",
     "text": [
      "Epoch 49: 100%|██████████| 6/6 [00:00<00:00, 30.57it/s, train_loss=4.7e+4] "
     ]
    },
    {
     "name": "stderr",
     "output_type": "stream",
     "text": [
      "`Trainer.fit` stopped: `max_epochs=50` reached.\n"
     ]
    },
    {
     "name": "stdout",
     "output_type": "stream",
     "text": [
      "Epoch 49: 100%|██████████| 6/6 [00:00<00:00, 30.33it/s, train_loss=4.7e+4]\n"
     ]
    },
    {
     "name": "stderr",
     "output_type": "stream",
     "text": [
      "GPU available: False, used: False\n",
      "TPU available: False, using: 0 TPU cores\n",
      "IPU available: False, using: 0 IPUs\n",
      "HPU available: False, using: 0 HPUs\n"
     ]
    },
    {
     "name": "stdout",
     "output_type": "stream",
     "text": [
      "Predicting DataLoader 0: 100%|██████████| 1/1 [00:00<00:00, 234.86it/s]\n"
     ]
    },
    {
     "name": "stderr",
     "output_type": "stream",
     "text": [
      "GPU available: False, used: False\n",
      "TPU available: False, using: 0 TPU cores\n",
      "IPU available: False, using: 0 IPUs\n",
      "HPU available: False, using: 0 HPUs\n",
      "\n",
      "  | Name            | Type             | Params\n",
      "-----------------------------------------------------\n",
      "0 | criterion       | MSELoss          | 0     \n",
      "1 | train_metrics   | MetricCollection | 0     \n",
      "2 | val_metrics     | MetricCollection | 0     \n",
      "3 | decomposition   | _SeriesDecomp    | 0     \n",
      "4 | linear_seasonal | Linear           | 3.6 K \n",
      "5 | linear_trend    | Linear           | 3.6 K \n",
      "-----------------------------------------------------\n",
      "7.2 K     Trainable params\n",
      "0         Non-trainable params\n",
      "7.2 K     Total params\n",
      "0.029     Total estimated model params size (MB)\n"
     ]
    },
    {
     "name": "stdout",
     "output_type": "stream",
     "text": [
      "Epoch 49: 100%|██████████| 6/6 [00:00<00:00, 28.99it/s, train_loss=1.21e+6]"
     ]
    },
    {
     "name": "stderr",
     "output_type": "stream",
     "text": [
      "`Trainer.fit` stopped: `max_epochs=50` reached.\n"
     ]
    },
    {
     "name": "stdout",
     "output_type": "stream",
     "text": [
      "Epoch 49: 100%|██████████| 6/6 [00:00<00:00, 28.56it/s, train_loss=1.21e+6]\n"
     ]
    },
    {
     "name": "stderr",
     "output_type": "stream",
     "text": [
      "GPU available: False, used: False\n",
      "TPU available: False, using: 0 TPU cores\n",
      "IPU available: False, using: 0 IPUs\n",
      "HPU available: False, using: 0 HPUs\n"
     ]
    },
    {
     "name": "stdout",
     "output_type": "stream",
     "text": [
      "Predicting DataLoader 0: 100%|██████████| 1/1 [00:00<00:00, 220.02it/s]\n"
     ]
    },
    {
     "name": "stderr",
     "output_type": "stream",
     "text": [
      "GPU available: False, used: False\n",
      "TPU available: False, using: 0 TPU cores\n",
      "IPU available: False, using: 0 IPUs\n",
      "HPU available: False, using: 0 HPUs\n",
      "\n",
      "  | Name            | Type             | Params\n",
      "-----------------------------------------------------\n",
      "0 | criterion       | MSELoss          | 0     \n",
      "1 | train_metrics   | MetricCollection | 0     \n",
      "2 | val_metrics     | MetricCollection | 0     \n",
      "3 | decomposition   | _SeriesDecomp    | 0     \n",
      "4 | linear_seasonal | Linear           | 3.6 K \n",
      "5 | linear_trend    | Linear           | 3.6 K \n",
      "-----------------------------------------------------\n",
      "7.2 K     Trainable params\n",
      "0         Non-trainable params\n",
      "7.2 K     Total params\n",
      "0.029     Total estimated model params size (MB)\n"
     ]
    },
    {
     "name": "stdout",
     "output_type": "stream",
     "text": [
      "Epoch 49: 100%|██████████| 6/6 [00:00<00:00, 27.93it/s, train_loss=1.93e+6]"
     ]
    },
    {
     "name": "stderr",
     "output_type": "stream",
     "text": [
      "`Trainer.fit` stopped: `max_epochs=50` reached.\n"
     ]
    },
    {
     "name": "stdout",
     "output_type": "stream",
     "text": [
      "Epoch 49: 100%|██████████| 6/6 [00:00<00:00, 27.63it/s, train_loss=1.93e+6]\n"
     ]
    },
    {
     "name": "stderr",
     "output_type": "stream",
     "text": [
      "GPU available: False, used: False\n",
      "TPU available: False, using: 0 TPU cores\n",
      "IPU available: False, using: 0 IPUs\n",
      "HPU available: False, using: 0 HPUs\n"
     ]
    },
    {
     "name": "stdout",
     "output_type": "stream",
     "text": [
      "Predicting DataLoader 0: 100%|██████████| 1/1 [00:00<00:00, 198.04it/s]\n"
     ]
    },
    {
     "name": "stderr",
     "output_type": "stream",
     "text": [
      "GPU available: False, used: False\n",
      "TPU available: False, using: 0 TPU cores\n",
      "IPU available: False, using: 0 IPUs\n",
      "HPU available: False, using: 0 HPUs\n",
      "\n",
      "  | Name            | Type             | Params\n",
      "-----------------------------------------------------\n",
      "0 | criterion       | MSELoss          | 0     \n",
      "1 | train_metrics   | MetricCollection | 0     \n",
      "2 | val_metrics     | MetricCollection | 0     \n",
      "3 | decomposition   | _SeriesDecomp    | 0     \n",
      "4 | linear_seasonal | Linear           | 3.6 K \n",
      "5 | linear_trend    | Linear           | 3.6 K \n",
      "-----------------------------------------------------\n",
      "7.2 K     Trainable params\n",
      "0         Non-trainable params\n",
      "7.2 K     Total params\n",
      "0.029     Total estimated model params size (MB)\n"
     ]
    },
    {
     "name": "stdout",
     "output_type": "stream",
     "text": [
      "Epoch 49: 100%|██████████| 6/6 [00:00<00:00, 30.65it/s, train_loss=9.57e+5]"
     ]
    },
    {
     "name": "stderr",
     "output_type": "stream",
     "text": [
      "`Trainer.fit` stopped: `max_epochs=50` reached.\n"
     ]
    },
    {
     "name": "stdout",
     "output_type": "stream",
     "text": [
      "Epoch 49: 100%|██████████| 6/6 [00:00<00:00, 30.24it/s, train_loss=9.57e+5]\n"
     ]
    },
    {
     "name": "stderr",
     "output_type": "stream",
     "text": [
      "GPU available: False, used: False\n",
      "TPU available: False, using: 0 TPU cores\n",
      "IPU available: False, using: 0 IPUs\n",
      "HPU available: False, using: 0 HPUs\n"
     ]
    },
    {
     "name": "stdout",
     "output_type": "stream",
     "text": [
      "Predicting DataLoader 0: 100%|██████████| 1/1 [00:00<00:00, 244.64it/s]"
     ]
    },
    {
     "name": "stderr",
     "output_type": "stream",
     "text": [
      "GPU available: False, used: False\n",
      "TPU available: False, using: 0 TPU cores\n",
      "IPU available: False, using: 0 IPUs\n",
      "HPU available: False, using: 0 HPUs\n"
     ]
    },
    {
     "name": "stdout",
     "output_type": "stream",
     "text": [
      "\n"
     ]
    },
    {
     "name": "stderr",
     "output_type": "stream",
     "text": [
      "\n",
      "  | Name            | Type             | Params\n",
      "-----------------------------------------------------\n",
      "0 | criterion       | MSELoss          | 0     \n",
      "1 | train_metrics   | MetricCollection | 0     \n",
      "2 | val_metrics     | MetricCollection | 0     \n",
      "3 | decomposition   | _SeriesDecomp    | 0     \n",
      "4 | linear_seasonal | Linear           | 3.6 K \n",
      "5 | linear_trend    | Linear           | 3.6 K \n",
      "-----------------------------------------------------\n",
      "7.2 K     Trainable params\n",
      "0         Non-trainable params\n",
      "7.2 K     Total params\n",
      "0.029     Total estimated model params size (MB)\n"
     ]
    },
    {
     "name": "stdout",
     "output_type": "stream",
     "text": [
      "Epoch 49: 100%|██████████| 6/6 [00:00<00:00, 28.98it/s, train_loss=1.48e+5]"
     ]
    },
    {
     "name": "stderr",
     "output_type": "stream",
     "text": [
      "`Trainer.fit` stopped: `max_epochs=50` reached.\n"
     ]
    },
    {
     "name": "stdout",
     "output_type": "stream",
     "text": [
      "Epoch 49: 100%|██████████| 6/6 [00:00<00:00, 28.56it/s, train_loss=1.48e+5]"
     ]
    },
    {
     "name": "stderr",
     "output_type": "stream",
     "text": [
      "GPU available: False, used: False\n",
      "TPU available: False, using: 0 TPU cores\n",
      "IPU available: False, using: 0 IPUs\n",
      "HPU available: False, using: 0 HPUs\n"
     ]
    },
    {
     "name": "stdout",
     "output_type": "stream",
     "text": [
      "\n",
      "Predicting DataLoader 0: 100%|██████████| 1/1 [00:00<00:00, 265.60it/s]"
     ]
    },
    {
     "name": "stderr",
     "output_type": "stream",
     "text": [
      "GPU available: False, used: False\n",
      "TPU available: False, using: 0 TPU cores\n",
      "IPU available: False, using: 0 IPUs\n"
     ]
    },
    {
     "name": "stdout",
     "output_type": "stream",
     "text": [
      "\n"
     ]
    },
    {
     "name": "stderr",
     "output_type": "stream",
     "text": [
      "HPU available: False, using: 0 HPUs\n",
      "\n",
      "  | Name            | Type             | Params\n",
      "-----------------------------------------------------\n",
      "0 | criterion       | MSELoss          | 0     \n",
      "1 | train_metrics   | MetricCollection | 0     \n",
      "2 | val_metrics     | MetricCollection | 0     \n",
      "3 | decomposition   | _SeriesDecomp    | 0     \n",
      "4 | linear_seasonal | Linear           | 3.6 K \n",
      "5 | linear_trend    | Linear           | 3.6 K \n",
      "-----------------------------------------------------\n",
      "7.2 K     Trainable params\n",
      "0         Non-trainable params\n",
      "7.2 K     Total params\n",
      "0.029     Total estimated model params size (MB)\n"
     ]
    },
    {
     "name": "stdout",
     "output_type": "stream",
     "text": [
      "Epoch 49: 100%|██████████| 6/6 [00:00<00:00, 31.96it/s, train_loss=6.46e+5]"
     ]
    },
    {
     "name": "stderr",
     "output_type": "stream",
     "text": [
      "`Trainer.fit` stopped: `max_epochs=50` reached.\n"
     ]
    },
    {
     "name": "stdout",
     "output_type": "stream",
     "text": [
      "Epoch 49: 100%|██████████| 6/6 [00:00<00:00, 31.44it/s, train_loss=6.46e+5]\n"
     ]
    },
    {
     "name": "stderr",
     "output_type": "stream",
     "text": [
      "GPU available: False, used: False\n",
      "TPU available: False, using: 0 TPU cores\n",
      "IPU available: False, using: 0 IPUs\n",
      "HPU available: False, using: 0 HPUs\n"
     ]
    },
    {
     "name": "stdout",
     "output_type": "stream",
     "text": [
      "Predicting DataLoader 0: 100%|██████████| 1/1 [00:00<00:00, 278.14it/s]"
     ]
    },
    {
     "name": "stderr",
     "output_type": "stream",
     "text": [
      "GPU available: False, used: False\n",
      "TPU available: False, using: 0 TPU cores\n",
      "IPU available: False, using: 0 IPUs\n",
      "HPU available: False, using: 0 HPUs\n"
     ]
    },
    {
     "name": "stdout",
     "output_type": "stream",
     "text": [
      "\n"
     ]
    },
    {
     "name": "stderr",
     "output_type": "stream",
     "text": [
      "\n",
      "  | Name            | Type             | Params\n",
      "-----------------------------------------------------\n",
      "0 | criterion       | MSELoss          | 0     \n",
      "1 | train_metrics   | MetricCollection | 0     \n",
      "2 | val_metrics     | MetricCollection | 0     \n",
      "3 | decomposition   | _SeriesDecomp    | 0     \n",
      "4 | linear_seasonal | Linear           | 3.6 K \n",
      "5 | linear_trend    | Linear           | 3.6 K \n",
      "-----------------------------------------------------\n",
      "7.2 K     Trainable params\n",
      "0         Non-trainable params\n",
      "7.2 K     Total params\n",
      "0.029     Total estimated model params size (MB)\n"
     ]
    },
    {
     "name": "stdout",
     "output_type": "stream",
     "text": [
      "Epoch 49: 100%|██████████| 6/6 [00:00<00:00, 29.79it/s, train_loss=3.44e+4]"
     ]
    },
    {
     "name": "stderr",
     "output_type": "stream",
     "text": [
      "`Trainer.fit` stopped: `max_epochs=50` reached.\n"
     ]
    },
    {
     "name": "stdout",
     "output_type": "stream",
     "text": [
      "Epoch 49: 100%|██████████| 6/6 [00:00<00:00, 29.53it/s, train_loss=3.44e+4]"
     ]
    },
    {
     "name": "stderr",
     "output_type": "stream",
     "text": [
      "GPU available: False, used: False\n",
      "TPU available: False, using: 0 TPU cores\n",
      "IPU available: False, using: 0 IPUs\n",
      "HPU available: False, using: 0 HPUs\n"
     ]
    },
    {
     "name": "stdout",
     "output_type": "stream",
     "text": [
      "\n",
      "Predicting DataLoader 0: 100%|██████████| 1/1 [00:00<00:00, 166.74it/s]\n"
     ]
    },
    {
     "name": "stderr",
     "output_type": "stream",
     "text": [
      "GPU available: False, used: False\n",
      "TPU available: False, using: 0 TPU cores\n",
      "IPU available: False, using: 0 IPUs\n",
      "HPU available: False, using: 0 HPUs\n",
      "\n",
      "  | Name            | Type             | Params\n",
      "-----------------------------------------------------\n",
      "0 | criterion       | MSELoss          | 0     \n",
      "1 | train_metrics   | MetricCollection | 0     \n",
      "2 | val_metrics     | MetricCollection | 0     \n",
      "3 | decomposition   | _SeriesDecomp    | 0     \n",
      "4 | linear_seasonal | Linear           | 3.6 K \n",
      "5 | linear_trend    | Linear           | 3.6 K \n",
      "-----------------------------------------------------\n",
      "7.2 K     Trainable params\n",
      "0         Non-trainable params\n",
      "7.2 K     Total params\n",
      "0.029     Total estimated model params size (MB)\n"
     ]
    },
    {
     "name": "stdout",
     "output_type": "stream",
     "text": [
      "Epoch 49: 100%|██████████| 6/6 [00:00<00:00, 30.82it/s, train_loss=1.07e+6]"
     ]
    },
    {
     "name": "stderr",
     "output_type": "stream",
     "text": [
      "`Trainer.fit` stopped: `max_epochs=50` reached.\n"
     ]
    },
    {
     "name": "stdout",
     "output_type": "stream",
     "text": [
      "Epoch 49: 100%|██████████| 6/6 [00:00<00:00, 30.56it/s, train_loss=1.07e+6]\n"
     ]
    },
    {
     "name": "stderr",
     "output_type": "stream",
     "text": [
      "GPU available: False, used: False\n",
      "TPU available: False, using: 0 TPU cores\n",
      "IPU available: False, using: 0 IPUs\n",
      "HPU available: False, using: 0 HPUs\n"
     ]
    },
    {
     "name": "stdout",
     "output_type": "stream",
     "text": [
      "Predicting DataLoader 0: 100%|██████████| 1/1 [00:00<00:00, 131.93it/s]"
     ]
    },
    {
     "name": "stderr",
     "output_type": "stream",
     "text": [
      "GPU available: False, used: False\n"
     ]
    },
    {
     "name": "stdout",
     "output_type": "stream",
     "text": [
      "\n"
     ]
    },
    {
     "name": "stderr",
     "output_type": "stream",
     "text": [
      "TPU available: False, using: 0 TPU cores\n",
      "IPU available: False, using: 0 IPUs\n",
      "HPU available: False, using: 0 HPUs\n",
      "\n",
      "  | Name            | Type             | Params\n",
      "-----------------------------------------------------\n",
      "0 | criterion       | MSELoss          | 0     \n",
      "1 | train_metrics   | MetricCollection | 0     \n",
      "2 | val_metrics     | MetricCollection | 0     \n",
      "3 | decomposition   | _SeriesDecomp    | 0     \n",
      "4 | linear_seasonal | Linear           | 3.6 K \n",
      "5 | linear_trend    | Linear           | 3.6 K \n",
      "-----------------------------------------------------\n",
      "7.2 K     Trainable params\n",
      "0         Non-trainable params\n",
      "7.2 K     Total params\n",
      "0.029     Total estimated model params size (MB)\n"
     ]
    },
    {
     "name": "stdout",
     "output_type": "stream",
     "text": [
      "Epoch 49: 100%|██████████| 6/6 [00:00<00:00, 32.27it/s, train_loss=1.73e+6]"
     ]
    },
    {
     "name": "stderr",
     "output_type": "stream",
     "text": [
      "`Trainer.fit` stopped: `max_epochs=50` reached.\n"
     ]
    },
    {
     "name": "stdout",
     "output_type": "stream",
     "text": [
      "Epoch 49: 100%|██████████| 6/6 [00:00<00:00, 31.88it/s, train_loss=1.73e+6]\n"
     ]
    },
    {
     "name": "stderr",
     "output_type": "stream",
     "text": [
      "GPU available: False, used: False\n",
      "TPU available: False, using: 0 TPU cores\n",
      "IPU available: False, using: 0 IPUs\n",
      "HPU available: False, using: 0 HPUs\n"
     ]
    },
    {
     "name": "stdout",
     "output_type": "stream",
     "text": [
      "Predicting DataLoader 0: 100%|██████████| 1/1 [00:00<00:00, 270.25it/s]\n"
     ]
    },
    {
     "name": "stderr",
     "output_type": "stream",
     "text": [
      "GPU available: False, used: False\n",
      "TPU available: False, using: 0 TPU cores\n",
      "IPU available: False, using: 0 IPUs\n",
      "HPU available: False, using: 0 HPUs\n",
      "\n",
      "  | Name            | Type             | Params\n",
      "-----------------------------------------------------\n",
      "0 | criterion       | MSELoss          | 0     \n",
      "1 | train_metrics   | MetricCollection | 0     \n",
      "2 | val_metrics     | MetricCollection | 0     \n",
      "3 | decomposition   | _SeriesDecomp    | 0     \n",
      "4 | linear_seasonal | Linear           | 3.6 K \n",
      "5 | linear_trend    | Linear           | 3.6 K \n",
      "-----------------------------------------------------\n",
      "7.2 K     Trainable params\n",
      "0         Non-trainable params\n",
      "7.2 K     Total params\n",
      "0.029     Total estimated model params size (MB)\n"
     ]
    },
    {
     "name": "stdout",
     "output_type": "stream",
     "text": [
      "Epoch 49: 100%|██████████| 6/6 [00:00<00:00, 31.37it/s, train_loss=1.31e+6]"
     ]
    },
    {
     "name": "stderr",
     "output_type": "stream",
     "text": [
      "`Trainer.fit` stopped: `max_epochs=50` reached.\n"
     ]
    },
    {
     "name": "stdout",
     "output_type": "stream",
     "text": [
      "Epoch 49: 100%|██████████| 6/6 [00:00<00:00, 31.04it/s, train_loss=1.31e+6]\n"
     ]
    },
    {
     "name": "stderr",
     "output_type": "stream",
     "text": [
      "GPU available: False, used: False\n",
      "TPU available: False, using: 0 TPU cores\n",
      "IPU available: False, using: 0 IPUs\n",
      "HPU available: False, using: 0 HPUs\n"
     ]
    },
    {
     "name": "stdout",
     "output_type": "stream",
     "text": [
      "Predicting DataLoader 0: 100%|██████████| 1/1 [00:00<00:00, 279.81it/s]\n"
     ]
    },
    {
     "name": "stderr",
     "output_type": "stream",
     "text": [
      "GPU available: False, used: False\n",
      "TPU available: False, using: 0 TPU cores\n",
      "IPU available: False, using: 0 IPUs\n",
      "HPU available: False, using: 0 HPUs\n",
      "\n",
      "  | Name            | Type             | Params\n",
      "-----------------------------------------------------\n",
      "0 | criterion       | MSELoss          | 0     \n",
      "1 | train_metrics   | MetricCollection | 0     \n",
      "2 | val_metrics     | MetricCollection | 0     \n",
      "3 | decomposition   | _SeriesDecomp    | 0     \n",
      "4 | linear_seasonal | Linear           | 3.6 K \n",
      "5 | linear_trend    | Linear           | 3.6 K \n",
      "-----------------------------------------------------\n",
      "7.2 K     Trainable params\n",
      "0         Non-trainable params\n",
      "7.2 K     Total params\n",
      "0.029     Total estimated model params size (MB)\n"
     ]
    },
    {
     "name": "stdout",
     "output_type": "stream",
     "text": [
      "Epoch 49: 100%|██████████| 6/6 [00:00<00:00, 28.76it/s, train_loss=5.99e+4]"
     ]
    },
    {
     "name": "stderr",
     "output_type": "stream",
     "text": [
      "`Trainer.fit` stopped: `max_epochs=50` reached.\n"
     ]
    },
    {
     "name": "stdout",
     "output_type": "stream",
     "text": [
      "Epoch 49: 100%|██████████| 6/6 [00:00<00:00, 28.51it/s, train_loss=5.99e+4]"
     ]
    },
    {
     "name": "stderr",
     "output_type": "stream",
     "text": [
      "GPU available: False, used: False\n",
      "TPU available: False, using: 0 TPU cores\n",
      "IPU available: False, using: 0 IPUs\n",
      "HPU available: False, using: 0 HPUs\n"
     ]
    },
    {
     "name": "stdout",
     "output_type": "stream",
     "text": [
      "\n",
      "Predicting DataLoader 0: 100%|██████████| 1/1 [00:00<00:00, 216.70it/s]"
     ]
    },
    {
     "name": "stderr",
     "output_type": "stream",
     "text": [
      "GPU available: False, used: False\n",
      "TPU available: False, using: 0 TPU cores\n",
      "IPU available: False, using: 0 IPUs\n",
      "HPU available: False, using: 0 HPUs\n"
     ]
    },
    {
     "name": "stdout",
     "output_type": "stream",
     "text": [
      "\n"
     ]
    },
    {
     "name": "stderr",
     "output_type": "stream",
     "text": [
      "\n",
      "  | Name            | Type             | Params\n",
      "-----------------------------------------------------\n",
      "0 | criterion       | MSELoss          | 0     \n",
      "1 | train_metrics   | MetricCollection | 0     \n",
      "2 | val_metrics     | MetricCollection | 0     \n",
      "3 | decomposition   | _SeriesDecomp    | 0     \n",
      "4 | linear_seasonal | Linear           | 3.6 K \n",
      "5 | linear_trend    | Linear           | 3.6 K \n",
      "-----------------------------------------------------\n",
      "7.2 K     Trainable params\n",
      "0         Non-trainable params\n",
      "7.2 K     Total params\n",
      "0.029     Total estimated model params size (MB)\n"
     ]
    },
    {
     "name": "stdout",
     "output_type": "stream",
     "text": [
      "Epoch 49: 100%|██████████| 6/6 [00:00<00:00, 31.87it/s, train_loss=5.69e+4]"
     ]
    },
    {
     "name": "stderr",
     "output_type": "stream",
     "text": [
      "`Trainer.fit` stopped: `max_epochs=50` reached.\n"
     ]
    },
    {
     "name": "stdout",
     "output_type": "stream",
     "text": [
      "Epoch 49: 100%|██████████| 6/6 [00:00<00:00, 31.56it/s, train_loss=5.69e+4]\n"
     ]
    },
    {
     "name": "stderr",
     "output_type": "stream",
     "text": [
      "GPU available: False, used: False\n",
      "TPU available: False, using: 0 TPU cores\n",
      "IPU available: False, using: 0 IPUs\n",
      "HPU available: False, using: 0 HPUs\n"
     ]
    },
    {
     "name": "stdout",
     "output_type": "stream",
     "text": [
      "Predicting DataLoader 0: 100%|██████████| 1/1 [00:00<00:00, 256.85it/s]\n"
     ]
    }
   ],
   "source": [
    "# 제출용\n",
    "df.to_csv('answer.csv',index=False)"
   ]
  }
 ],
 "metadata": {
  "kernelspec": {
   "display_name": "timeseries_env",
   "language": "python",
   "name": "python3"
  },
  "language_info": {
   "codemirror_mode": {
    "name": "ipython",
    "version": 3
   },
   "file_extension": ".py",
   "mimetype": "text/x-python",
   "name": "python",
   "nbconvert_exporter": "python",
   "pygments_lexer": "ipython3",
   "version": "3.10.13"
  }
 },
 "nbformat": 4,
 "nbformat_minor": 2
}
